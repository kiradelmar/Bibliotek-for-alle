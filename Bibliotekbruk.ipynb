{
 "cells": [
  {
   "cell_type": "code",
   "execution_count": 121,
   "id": "complex-retro",
   "metadata": {
    "tags": []
   },
   "outputs": [],
   "source": [
    "%%capture\n",
    "%run shared.ipynb"
   ]
  },
  {
   "cell_type": "code",
   "execution_count": 122,
   "id": "satellite-hunger",
   "metadata": {
    "tags": []
   },
   "outputs": [
    {
     "name": "stdout",
     "output_type": "stream",
     "text": [
      "['3-11 måneder siden' 'Mindre enn 3 måneder siden' '1-3 år siden'\n",
      " '6 år siden eller mer' '3-6 år siden' '3-11 months ago'\n",
      " 'Less than 3 months ago' 'Aldri' '1-3 years ago' '3-6 years ago' nan]\n",
      "['1-2 ganger' '20-39 ganger' '6-9 ganger' '40 ganger eller mer'\n",
      " '3-5 ganger' nan '10-19 ganger' '10-19 times' '1-2 times' '20-39 times'\n",
      " '3-5 times' '40 times or more']\n"
     ]
    }
   ],
   "source": [
    "# numerical values\n",
    "print(df.Sist_besok.unique())\n",
    "print(df.Hyppighet.unique())"
   ]
  },
  {
   "cell_type": "code",
   "execution_count": 123,
   "id": "possible-serve",
   "metadata": {
    "tags": []
   },
   "outputs": [],
   "source": [
    "#Removes duplicate responses due to language of survey, converts all responses to Norwegian values\n",
    "english_h = df.Hyppighet.str.contains('times') & df.Hyppighet.notna()\n",
    "df.loc[english_h, 'Hyppighet'] = df[english_h].Hyppighet.str.replace('times', 'ganger').str.replace('or more', 'eller mer')"
   ]
  },
  {
   "cell_type": "code",
   "execution_count": 124,
   "id": "material-nicholas",
   "metadata": {},
   "outputs": [
    {
     "name": "stdout",
     "output_type": "stream",
     "text": [
      "['3-11 måneder siden' 'Mindre enn 3 måneder siden' '1-3 år siden'\n",
      " '6 år siden eller mer' '3-6 år siden' 'Aldri' nan]\n"
     ]
    }
   ],
   "source": [
    "#Removes duplicate responses due to language of survey, converts all responses to Norwegian values\n",
    "english_sb = df.Sist_besok.str.contains('ago') & df.Sist_besok.notna()\n",
    "df.loc[english_sb, 'Sist_besok'] = df[english_sb].Sist_besok.str.replace('Jeg har aldri fysisk besøkt et folkebibliotek', 'Aldri')\\\n",
    ".str.replace('Less than', 'Mindre enn')\\\n",
    ".str.replace('years ago', 'år siden')\\\n",
    ".str.replace('months ago', 'måneder siden')\n",
    "print(df.Sist_besok.unique())\n",
    "#print(sum(alle_skeive.Sist_besok == \"Mindre enn 3 måneder siden\"), sum(alle_skeive.Sist_besok == \"3-11 måneder siden\"))"
   ]
  },
  {
   "cell_type": "code",
   "execution_count": 125,
   "id": "aggressive-title",
   "metadata": {
    "tags": []
   },
   "outputs": [
    {
     "name": "stdout",
     "output_type": "stream",
     "text": [
      "3-11 måneder siden Q 22.6%   Bi+: 22.7%\n",
      "Mindre enn 3 måneder siden Q 54.7%   Bi+: 58.9%\n",
      "1-3 år siden Q 9.2%   Bi+: 8.9%\n",
      "6 år siden eller mer Q 5.0%   Bi+: 2.6%\n",
      "3-6 år siden Q 3.3%   Bi+: 2.3%\n",
      "Aldri Q 0.5%   Bi+: 0.3%\n",
      "nan Q 0.0%   Bi+: 0.0%\n"
     ]
    }
   ],
   "source": [
    "def print_besøk(df1, df2):\n",
    "    answer = df.Sist_besok.items()\n",
    "    answers = df.Sist_besok.unique()\n",
    "    for answer in answers:\n",
    "        print(answer, \"Q\", \"{:.1%}\".format(sum(df1.Sist_besok == answer)/len(df1)), \"  Bi+:\", \"{:.1%}\".format(sum(df2.Sist_besok == answer)/len(df2)))\n",
    "\n",
    "print_besøk(alle_skeive, bi_plus)"
   ]
  },
  {
   "cell_type": "code",
   "execution_count": 126,
   "id": "toxic-request",
   "metadata": {
    "tags": []
   },
   "outputs": [
    {
     "data": {
      "text/plain": [
       "77.30000000000001"
      ]
     },
     "execution_count": 126,
     "metadata": {},
     "output_type": "execute_result"
    }
   ],
   "source": [
    "22.6 + 54.7"
   ]
  },
  {
   "cell_type": "code",
   "execution_count": 127,
   "id": "structured-precipitation",
   "metadata": {},
   "outputs": [
    {
     "data": {
      "text/plain": [
       "35.8"
      ]
     },
     "execution_count": 127,
     "metadata": {},
     "output_type": "execute_result"
    }
   ],
   "source": [
    "15.9 + 8.7 + 11.2"
   ]
  },
  {
   "cell_type": "code",
   "execution_count": null,
   "id": "excited-quebec",
   "metadata": {},
   "outputs": [],
   "source": []
  },
  {
   "cell_type": "code",
   "execution_count": 128,
   "id": "historic-variety",
   "metadata": {},
   "outputs": [
    {
     "name": "stdout",
     "output_type": "stream",
     "text": [
      "1-2 ganger Q 19.2%   Bi+: 17.4%\n",
      "20-39 ganger Q 8.7%   Bi+: 8.6%\n",
      "6-9 ganger Q 16.2%   Bi+: 18.8%\n",
      "40 ganger eller mer Q 11.2%   Bi+: 12.8%\n",
      "3-5 ganger Q 18.5%   Bi+: 19.1%\n",
      "nan Q 0.0%   Bi+: 0.0%\n",
      "10-19 ganger Q 15.9%   Bi+: 16.1%\n"
     ]
    }
   ],
   "source": [
    "def print_hyppighet(df1, df2):\n",
    "    answer = df.Hyppighet.items()\n",
    "    answers = df.Hyppighet.unique()\n",
    "    for answer in answers:\n",
    "        print(answer, \"Q\", \"{:.1%}\".format(sum(df1.Hyppighet == answer)/len(df1)), \"  Bi+:\", \"{:.1%}\".format(sum(df2.Hyppighet == answer)/len(df2)))\n",
    "\n",
    "print_hyppighet(alle_skeive, bi_plus)"
   ]
  },
  {
   "cell_type": "code",
   "execution_count": 129,
   "id": "bored-hawaii",
   "metadata": {
    "tags": []
   },
   "outputs": [
    {
     "data": {
      "text/plain": [
       "'Common language effect size: 54.1%, p-value: 0.05859725628634832'"
      ]
     },
     "execution_count": 129,
     "metadata": {},
     "output_type": "execute_result"
    }
   ],
   "source": [
    "mannwhitneyu_norm(cis_heterofile.Hyppighet_n, alle_skeive.Hyppighet_n)"
   ]
  },
  {
   "cell_type": "code",
   "execution_count": 130,
   "id": "terminal-contest",
   "metadata": {},
   "outputs": [
    {
     "data": {
      "text/plain": [
       "'Common language effect size: 50.0%, p-value: 0.9823910596335517'"
      ]
     },
     "execution_count": 130,
     "metadata": {},
     "output_type": "execute_result"
    }
   ],
   "source": [
    "mannwhitneyu_norm(cis_heterofile.Sist_besok_måneder, alle_skeive.Sist_besok_måneder)"
   ]
  },
  {
   "cell_type": "code",
   "execution_count": 131,
   "id": "superb-cardiff",
   "metadata": {},
   "outputs": [
    {
     "name": "stdout",
     "output_type": "stream",
     "text": [
      "0.1760299625468165\n",
      "0.14174454828660435\n"
     ]
    }
   ],
   "source": [
    "ch_over_ett_år = len(cis_heterofile[cis_heterofile.Sist_besok.isin([\"1-3 år siden\", \"6 år siden eller mer\"])])\n",
    "s_over_ett_år = len(alle_skeive[alle_skeive.Sist_besok.isin([\"1-3 år siden\", \"6 år siden eller mer\"])])\n",
    "print(ch_over_ett_år/len(cis_heterofile))\n",
    "print(s_over_ett_år/len(alle_skeive))"
   ]
  },
  {
   "cell_type": "markdown",
   "id": "federal-today",
   "metadata": {
    "tags": []
   },
   "source": [
    "Analysis: Cishetero respondents visited the library slightly more regularly than queer respondents, but the difference was not statisitcally significant. (p = .21) However, this may actually represent a significant finding given that the link to the survey for cishetero respondents was advertised in a number of groups related to reading and libraries (thus likely leading to an oversampling of avid library users), which was not the case for queer respondents. Only 14,6% og queer respondents had not visited a public library in the past year, as compared to 17,6% of cishetero respondents and 60% of the general population in SSBs 2015 study. This discrepancy is unexpected and may be significant given the channels in which the links to participate were shared. Unfortunately, it is not possible to conclusively state whether the queer population uses the library significantly more regularly and more frequently than the non-queer population, or whether these results are entirely due to self-selection bias and library users being more interested in taking a survey related to libraries. "
   ]
  },
  {
   "cell_type": "code",
   "execution_count": 132,
   "id": "suburban-penguin",
   "metadata": {
    "tags": []
   },
   "outputs": [],
   "source": [
    "# alt.Chart(overall_df).mark_bar().encode(\n",
    "#     x=\"group\",\n",
    "#     color=alt.Color(\n",
    "#         \"Hyppighet\",\n",
    "#         sort=sorted(\n",
    "#             Hyppighet_map,\n",
    "#             key=Hyppighet_map.get,\n",
    "#         reverse=True),\n",
    "#         scale=alt.Scale(scheme=\"spectral\"),\n",
    "#     ),\n",
    "#     order=alt.Order(\"Hyppighet_n\"),\n",
    "#     y=alt.Y(\"count()\", stack=\"normalize\"),\n",
    "# )\n",
    "\n",
    "# #Redo altair charts in matplotlib"
   ]
  },
  {
   "cell_type": "code",
   "execution_count": 133,
   "id": "sharp-forth",
   "metadata": {},
   "outputs": [],
   "source": [
    "# alt.Chart(overall_df).mark_bar().encode(\n",
    "#     x=\"group\",\n",
    "#     color=alt.Color(\n",
    "#         \"Sist_besok_måneder\",\n",
    "#         sort=sorted(\n",
    "#             sist_besok_map,\n",
    "#             key=sist_besok_map.get,\n",
    "#         reverse=True),\n",
    "#         scale=alt.Scale(scheme=\"spectral\"),\n",
    "#     ),\n",
    "#     order=alt.Order(\"Sist_besok_måneder\"),\n",
    "#     y=alt.Y(\"count()\", stack=\"normalize\"),\n",
    "# )\n",
    "\n",
    "# #Redo altair charts in matplotlib"
   ]
  },
  {
   "cell_type": "markdown",
   "id": "according-strand",
   "metadata": {},
   "source": [
    "Analysis: quite a few questions have significant differences between age groups. We tend to have a narrative of progress - things getting better for queer people, but on most measures, young people are the least satisfied and have the most negative experiences. This may suggest that young people have higher expectations and thus are more disappointed by the library failing to meet their needs. It may also suggest that things are in fact getting worse for the younger generation. It is most likely a combination of the two. These results indicate the need for more qualitative data gathering; interviews could help fill in the gaps here. "
   ]
  },
  {
   "cell_type": "code",
   "execution_count": 134,
   "id": "liquid-marble",
   "metadata": {},
   "outputs": [
    {
     "data": {
      "text/plain": [
       "0.8099688473520249"
      ]
     },
     "execution_count": 134,
     "metadata": {},
     "output_type": "execute_result"
    }
   ],
   "source": [
    "sum(alle_skeive.Avrunding_B.isna())/len(alle_skeive)"
   ]
  },
  {
   "cell_type": "code",
   "execution_count": 135,
   "id": "dated-belfast",
   "metadata": {},
   "outputs": [
    {
     "data": {
      "text/plain": [
       "521"
      ]
     },
     "execution_count": 135,
     "metadata": {},
     "output_type": "execute_result"
    }
   ],
   "source": [
    "642-121\n"
   ]
  },
  {
   "cell_type": "code",
   "execution_count": 216,
   "id": "champion-forum",
   "metadata": {},
   "outputs": [
    {
     "data": {
      "text/plain": [
       "(<Figure size 1080x576 with 1 Axes>,\n",
       " <AxesSubplot:title={'center':'Lhbtiq_vennlig'}>)"
      ]
     },
     "execution_count": 216,
     "metadata": {},
     "output_type": "execute_result"
    },
    {
     "data": {
      "image/png": "[encoded data removed]",
      "text/plain": [
       "<Figure size 1080x576 with 1 Axes>"
      ]
     },
     "metadata": {
      "needs_background": "light"
     },
     "output_type": "display_data"
    }
   ],
   "source": [
    "# Making a horizontal bar graph that works for all questions and multiple questions OR multiple groups\n",
    "\n",
    "#category of scale\n",
    "five_pt = pd.CategoricalDtype([-2, -1, 0, 1, 2], ordered=True)\n",
    "seven_pt = pd.CategoricalDtype([1, 2, 3, 4, 5, 6, 7], ordered=True)\n",
    "\n",
    "#scale (labels for legend)\n",
    "enighetsskala = [\"Svært uenig\", \"Litt uenig\", \"Nøytral\", \"Litt enig\", \"Svært enig\",]\n",
    "hyppighetsskala = [\"Aldri\", \"Sjeldent\", \"Noen ganger\", \"Ofte\", \"Hver gang\",]\n",
    "hendelsesskala = [\"Aldri\", \"Kun under Pride\", \"Et par ganger\", \"Noen ganger\", \"Mange ganger\",]\n",
    "viktighetsskala = [\"Ikke viktig i det hele tatt\", \"Ikke så viktig\", \"Nøytral / ingen mening\", \"Litt viktig\", \"Svært viktig\",]\n",
    "holdningsskala = [\"Svært negativ\", \"Litt negativ\", \"Nøytral\", \"Litt positiv\", \"Svært positiv\",]\n",
    "tilfredshetsskala = [\"Ikke i det \\nhele tatt\", \"2\", \"3\", \"Nøytral\", \"5\", \"6\", \"I svært \\nstor grad\"]\n",
    "\n",
    "scales = {\n",
    "    'UV' : (hendelsesskala, five_pt),\n",
    "    'UBU' : (hendelsesskala, five_pt),\n",
    "    'Andre_temaer' : (hendelsesskala, five_pt),\n",
    "    'Arr' : (hendelsesskala, five_pt),\n",
    "    \n",
    "    'utlan' : (hyppighetsskala, five_pt),\n",
    "    'bla_i' : (hyppighetsskala, five_pt),\n",
    "    'datamaskin' : (hyppighetsskala, five_pt),\n",
    "    'still_spm' : (hyppighetsskala, five_pt),\n",
    "    'utrygt' : (hyppighetsskala, five_pt),\n",
    "    'm_med_respekt' : (hyppighetsskala, five_pt),\n",
    "    \n",
    "    'Holdning_UV' : (holdningsskala, five_pt),\n",
    "    'Holdning_UBU' : (holdningsskala, five_pt),\n",
    "    'Holdning_Andre_temaer' : (holdningsskala, five_pt),\n",
    "    'Holdning_Arr' : (holdningsskala, five_pt),\n",
    "    \n",
    "    'Mer_skj_item' : (holdningsskala, five_pt),\n",
    "    'Mer_skj_skaper' : (holdningsskala, five_pt),\n",
    "    'Mer_skj_mangfold' : (holdningsskala, five_pt),\n",
    "    'Mer_faglitt' : (holdningsskala, five_pt),\n",
    "    'Mer_BU' : (holdningsskala, five_pt),\n",
    "    'Bedre_gjenfinning' : (holdningsskala, five_pt),\n",
    "    'Info' : (holdningsskala, five_pt),\n",
    "    'Kompetanseheving' : (holdningsskala, five_pt),\n",
    "    'Apne_ansatte' : (holdningsskala, five_pt),\n",
    "    'Tredje_KI' : (holdningsskala, five_pt),\n",
    "    'Selvbestemt_KID' : (holdningsskala, five_pt),\n",
    "    'Endre_KID' : (holdningsskala, five_pt),\n",
    "    'Toaletter' : (holdningsskala, five_pt),\n",
    "    'Pronomen_bruk' : (holdningsskala, five_pt),\n",
    "    'Nulltoleranse' : (holdningsskala, five_pt),\n",
    "    'Skilting' : (holdningsskala, five_pt),\n",
    "    \n",
    "    \"Overall_tilfredshet\" : (tilfredshetsskala, seven_pt, True),\n",
    "    \"Overall_behov_KH\" : (tilfredshetsskala, seven_pt),\n",
    "    \"Individ_behov_KH\" : (tilfredshetsskala, seven_pt),\n",
    "    \"Interesse_KH\" : (tilfredshetsskala, seven_pt),\n",
    "    \"Behov_kompetanseheving\" : (tilfredshetsskala, seven_pt, False),\n",
    "    \n",
    "    'Utvalg_KID' : (enighetsskala, five_pt, True),\n",
    "    'Utvalg_Orientering' : (enighetsskala, five_pt, True),\n",
    "    'Utvalg_Intersex' : (enighetsskala, five_pt, True),\n",
    "    'Utvalg_lykkelig' : (enighetsskala, five_pt, True),\n",
    "    'Utvalg_fag' : (enighetsskala, five_pt, True),\n",
    "    'Aldri_tenkt' : (enighetsskala, five_pt, True),\n",
    "    'Utrygt_stille_spm' : (enighetsskala, five_pt, True),\n",
    "    'Rep_matters_B' : (enighetsskala, five_pt, True),\n",
    "    'Bib_pleier_ha' : (enighetsskala, five_pt, True),\n",
    "    'Alltid_velkommen' : (enighetsskala, five_pt, True),\n",
    "    'Trygge_rom_gen_B' : (enighetsskala, five_pt, True),\n",
    "    'Ingen_rolle' : (enighetsskala, five_pt, True),\n",
    "    'Ingenting_tilby' : (enighetsskala, five_pt, True),\n",
    "    'Bibs_ansvar' : (enighetsskala, five_pt, True),\n",
    "    'Minoritetsstress_ansatte' : (enighetsskala, five_pt, True),\n",
    "    'Minoritetsstress_brukere' : (enighetsskala, five_pt, True),\n",
    "    'Lhbtiq_vennlig' : (enighetsskala, five_pt, True),\n",
    "    'Rom_for_forbedring' : (enighetsskala, five_pt, True),\n",
    "    'Andre_brukere' : (enighetsskala, five_pt, True),\n",
    "    'Helt_meg_selv' : (enighetsskala, five_pt, True),\n",
    "    'Ikke_velkommen' : (enighetsskala, five_pt, True),\n",
    "    'Ingen_rolle_IB' : (enighetsskala, five_pt, True),\n",
    "    'Trygge_rom_pers_IB' : (enighetsskala, five_pt, True),\n",
    "    'Trygge_rom_gen_IB' : (enighetsskala, five_pt, True),\n",
    "    'Godt_utvalg' : (enighetsskala, five_pt, True),\n",
    "    'Skeiv_medieforbruk_pos' : (enighetsskala, five_pt, True),\n",
    "    'Skeiv_medieforbruk_neg' : (enighetsskala, five_pt, True),\n",
    "    'Rep_matters_IB' : (enighetsskala, five_pt, True),\n",
    "\n",
    "}\n",
    "\n",
    "#enighet_category = pd.CategoricalDtype([-2, -1, 0, 1, 2], ordered=True)\n",
    "#tilfredshet_category = pd.CategoricalDtype([1, 2, 3, 4, 5, 6, 7], ordered=True)\n",
    "\n",
    "\n",
    "# categorical data type for enighet columns\n",
    "# ensures value_counts() returns 0 for categories with no responses\n",
    "\n",
    "\n",
    "def hbar_scales(df, columns, title=None, group_order=None):\n",
    "    \"\"\"\n",
    "\n",
    "    Plot enighet bars for all groups\n",
    "\n",
    "    Parameters\n",
    "    ----------\n",
    "    df : DataFrame (e.g. created with regroup()) or group dict of dataframes\n",
    "    columns : list of str\n",
    "        The column(s) to plot for each group\n",
    "    \"\"\"\n",
    "    if isinstance(columns, str):\n",
    "    # allow columns to be a single column name\n",
    "        columns = [columns]\n",
    "    column = columns[0]   \n",
    "    \n",
    "    scale, category, low_is_bad = scales.get(column)\n",
    "    \n",
    "    if title is None:\n",
    "        title = \", \".join(columns)\n",
    "    # create a dict of {'group name': subset_df for just that group}\n",
    "    if isinstance(df, dict):\n",
    "        groups = df\n",
    "    elif \"group\" in df.columns:\n",
    "        groups = {}\n",
    "        for cat in df.group.dtype.categories:\n",
    "            groups[cat] = df[df.group == cat]\n",
    "    else:\n",
    "        # no groups given, use just one group\n",
    "        groups = {\"\": df}\n",
    "\n",
    "    #Different sorting options    \n",
    "    if group_order == 'ce_descending':\n",
    "        def count_enig(key):\n",
    "            series = groups[key][columns[0]]\n",
    "            return 1.0 * (((series == 2).sum()) + (series == 1).sum()) / len(series.dropna())\n",
    "\n",
    "        group_order = sorted(groups.keys(), key=count_enig, reverse=True)\n",
    "        #title = f\"{title}\\n (Sortert etter sterk enighet i synkende rekkefølge)\"\n",
    "    \n",
    "    elif group_order == 'se_descending':\n",
    "        def count_svært_enig(key):\n",
    "            series = groups[key][columns[0]]\n",
    "            return 1.0 * (series == 2).sum() / len(series.dropna())\n",
    "\n",
    "        group_order = sorted(groups.keys(), key=count_svært_enig, reverse=True)\n",
    "        #title = f\"{title}\\n (Sortert etter enighet (litt + svært enig) i synkende rekkefølge)\"\n",
    "    \n",
    "    elif group_order == 'cu_descending':\n",
    "        def count_enig(key):\n",
    "            series = groups[key][columns[0]]\n",
    "            return 1.0 * (((series == -2).sum()) + (series == -1).sum()) / len(series.dropna())\n",
    "\n",
    "        group_order = sorted(groups.keys(), key=count_enig, reverse=True)\n",
    "        #title = f\"{title}\\n (Sortert etter sterk enighet i synkende rekkefølge)\"\n",
    "    \n",
    "    elif group_order == 'su_descending':\n",
    "        def count_svært_enig(key):\n",
    "            series = groups[key][columns[0]]\n",
    "            return 1.0 * (series == -2).sum() / len(series.dropna())\n",
    "\n",
    "        group_order = sorted(groups.keys(), key=count_svært_enig, reverse=True)\n",
    "        #title = f\"{title}\\n (Sortert etter enighet (litt + svært enig) i synkende rekkefølge)\"\n",
    "    \n",
    "    if group_order:\n",
    "        iterable = [(key, groups[key]) for key in group_order]\n",
    "    else:\n",
    "        iterable = groups.items()\n",
    "    \n",
    "    \n",
    "    \n",
    "    # construc the results dict\n",
    "    # with 5 numbers for each combination of group + column\n",
    "    results = {}\n",
    "    nice_column_names = {\n",
    "        \"Jeg bruker ikke folkebibliotek fordi at jeg ikke \\nføler meg velkommen der som en skeiv/LHBTIQ+ person\" : 'Ikke_velkommen',\n",
    "        \"Jeg ville brukt biblioteket om jeg var sikker på \\nat det ville være et trygt rom for meg som skeiv/LHBTIQ+ person\" : 'Trygge_rom_pers_IB',\n",
    "    }\n",
    "    # reorder these `for...` lines to switch whether questions or groups\n",
    "    \n",
    "    for column in columns:\n",
    "        for group, group_df in iterable:\n",
    "            nice_column = nice_column_names.get(column, column)\n",
    "            label = group\n",
    "            if len(group_df) <= 20:\n",
    "                label += \"*\"\n",
    "            label = f\"{label} \\n (N={len(group_df[column].dropna())})\"\n",
    "            if len(columns) > 1:\n",
    "                label = f\"{nice_column} {label}\"\n",
    "            # group_df[column] means get that column for that group\n",
    "            # the rest is turn it into 5 numbers for the fractional value counts\n",
    "            results[label] = (\n",
    "                group_df[column]\n",
    "                .astype(category)\n",
    "                .value_counts(normalize=True)\n",
    "                .sort_index()\n",
    "                .array\n",
    "            )\n",
    "        \n",
    "    # from this point on, the rest of the function is unchanged\n",
    "    labels = list(results.keys())\n",
    "    # Line below = \"value counts array\"\n",
    "    data = np.array(list(results.values()))\n",
    "    data_cum = data.cumsum(axis=1)\n",
    "    \n",
    "    if len(scale) == 5:\n",
    "        category_colors = plt.get_cmap(\"RdYlGn\")(np.linspace(0.15, 0.85, data.shape[1]))\n",
    "    elif len(scale) == 7:\n",
    "        if low_is_bad == True:\n",
    "            category_colors=mycolors\n",
    "        else:\n",
    "            category_colors=mycolors[::-1]\n",
    "\n",
    "    fig, ax = plt.subplots(figsize=(15, 8))\n",
    "    ax.title.set_text(title)\n",
    "    ax.invert_yaxis()\n",
    "    ax.xaxis.set_visible(False)\n",
    "    ax.set_xlim(0, np.sum(data, axis=1).max())\n",
    "\n",
    "    for i, (colname, color) in enumerate(zip(scale, category_colors)):\n",
    "        widths = data[:, i]\n",
    "        starts = data_cum[:, i] - widths\n",
    "        ax.barh(labels, widths, left=starts, height=0.5, label=colname, color=color)\n",
    "        xcenters = starts + widths / 2\n",
    "\n",
    "  #      r, g, b, _ = color\n",
    "        text_color = \"black\"  # if r * g * b < 0.5 else 'darkgrey'\n",
    "        for y, (x, c) in enumerate(zip(xcenters, widths)):\n",
    "            if c > .04:\n",
    "                size=16\n",
    "            elif c < .02:\n",
    "                continue\n",
    "            else:\n",
    "                size=12\n",
    "            ax.text(\n",
    "                    x,\n",
    "                    y,\n",
    "                    str(int(c * 100)) + \"%\",\n",
    "                    ha=\"center\",\n",
    "                    va=\"center\",\n",
    "                    color=text_color, \n",
    "                    size=size\n",
    "            )\n",
    "    ax.legend(\n",
    "        ncol=len(scale),\n",
    "        fancybox=True,\n",
    "        bbox_to_anchor=(0.5, -0.15),\n",
    "        loc=\"lower center\",\n",
    "        fontsize=\"x-large\",\n",
    "    )\n",
    "\n",
    "    return fig, ax\n",
    "\n",
    "\n",
    "cishet_skeive = {\n",
    "    \"cis-heterofile\": cis_heterofile,\n",
    "    \"skeive\": alle_skeive,\n",
    "}\n",
    "cishet_skeive_df = regroup(cishet_skeive)\n",
    "\n",
    "hbar_scales(LGBTQIA_groups, [\"Lhbtiq_vennlig\"], group_order=None)\n",
    "\n"
   ]
  },
  {
   "cell_type": "code",
   "execution_count": 179,
   "id": "lyric-graphic",
   "metadata": {},
   "outputs": [
    {
     "name": "stdout",
     "output_type": "stream",
     "text": [
      "Object `get` not found.\n"
     ]
    }
   ],
   "source": []
  },
  {
   "cell_type": "code",
   "execution_count": null,
   "id": "packed-alert",
   "metadata": {},
   "outputs": [],
   "source": []
  },
  {
   "cell_type": "code",
   "execution_count": null,
   "id": "virtual-drink",
   "metadata": {},
   "outputs": [],
   "source": []
  }
 ],
 "metadata": {
  "kernelspec": {
   "display_name": "Python 3",
   "language": "python",
   "name": "python3"
  },
  "language_info": {
   "codemirror_mode": {
    "name": "ipython",
    "version": 3
   },
   "file_extension": ".py",
   "mimetype": "text/x-python",
   "name": "python",
   "nbconvert_exporter": "python",
   "pygments_lexer": "ipython3",
   "version": "3.9.1"
  }
 },
 "nbformat": 4,
 "nbformat_minor": 5
}
