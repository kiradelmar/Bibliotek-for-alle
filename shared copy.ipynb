{
 "cells": [
  {
   "cell_type": "code",
   "execution_count": 2,
   "metadata": {},
   "outputs": [],
   "source": [
    "#importing necessary tools\n",
    "\n",
    "import html\n",
    "import pandas as pd\n",
    "import numpy as np\n",
    "from functools import partial\n",
    "import altair as alt\n",
    "import math\n",
    "import matplotlib as mpl\n",
    "import matplotlib.pyplot as plt\n",
    "from matplotlib_venn import venn2, venn3\n",
    "from IPython.display import display\n",
    "from wordcloud import WordCloud, STOPWORDS \n",
    "from scipy import stats\n",
    "import ipywidgets as widgets\n",
    "\n",
    "#reading the csv files into the notebook\n",
    "raw_data_no = pd.read_csv('survey-no.tsv', sep='\\t').rename(columns=html.unescape)\n",
    "raw_data_en = pd.read_csv('survey-en.tsv', sep='\\t').rename(columns=html.unescape)\n",
    "raw_data_straight = pd.read_csv('survey-straight.tsv', sep='\\t').rename(columns=html.unescape)\n",
    "raw_data_lib = pd.read_csv('survey-lib.tsv', sep='\\t').rename(columns=html.unescape)\n",
    "# raw data has html-encoded labels like 'LHBTIQ&#43;'\n",
    "\n",
    "#Creating columns to show which survey a response came from\n",
    "raw_data_no[\"survey\"] = \"Skeive\" \n",
    "raw_data_en[\"survey\"] = \"Skeive\"\n",
    "raw_data_straight[\"survey\"] = \"Cis heterofile\"\n",
    "raw_data_lib[\"survey\"] = \"Bibliotekarer\"\n",
    "\n",
    "#Combining all surveys into a single dataframe\n",
    "df = pd.concat([raw_data_no, raw_data_en, raw_data_straight, raw_data_lib], ignore_index = True)"
   ]
  },
  {
   "cell_type": "code",
   "execution_count": 3,
   "metadata": {},
   "outputs": [],
   "source": [
    "def signif(x, digits=4):\n",
    "    if x == 0 or not math.isfinite(x):\n",
    "        return x\n",
    "    digits -= math.ceil(math.log10(abs(x)))\n",
    "    return round(x, digits)"
   ]
  },
  {
   "cell_type": "markdown",
   "metadata": {},
   "source": [
    "# Improving usability of data without removing any original data"
   ]
  },
  {
   "cell_type": "code",
   "execution_count": 4,
   "metadata": {
    "tags": []
   },
   "outputs": [
    {
     "data": {
      "text/plain": [
       "['Interaksjon_bibansatt',\n",
       " 'Interaksjon_brukere',\n",
       " 'RO',\n",
       " 'Seksuell_orientering',\n",
       " 'Synlig_Skeiv']"
      ]
     },
     "execution_count": 4,
     "metadata": {},
     "output_type": "execute_result"
    }
   ],
   "source": [
    "#Checkbox answers have the form of several numbered columns like \"prefix_name_1\"\n",
    "#Create a derived column which is the comma-joined list of all answers for the checkbox questions.\n",
    "\n",
    "#Finding all the columns with number suffixes created by codebook\n",
    "num_suffixes = set()\n",
    "single_value_map = {}\n",
    "\n",
    "for column in df.columns:\n",
    "    if \"_\" in column:\n",
    "        name, suffix = column.rsplit(\"_\", 1)\n",
    "        if suffix.isdigit():\n",
    "            num_suffixes.add(name)\n",
    "            column_map = single_value_map.setdefault(name, {})\n",
    "            unique = df[column].dropna().unique()\n",
    "            if len(unique) == 1:\n",
    "                column_map[unique[0]] = column\n",
    "            else:\n",
    "                print(\"Expected only one value in {column}, got {unique}\")\n",
    "            \n",
    "    \n",
    "num_suffixes = sorted(num_suffixes)\n",
    "num_suffixes"
   ]
  },
  {
   "cell_type": "code",
   "execution_count": null,
   "metadata": {},
   "outputs": [],
   "source": []
  },
  {
   "cell_type": "code",
   "execution_count": 5,
   "metadata": {
    "tags": []
   },
   "outputs": [],
   "source": [
    "#Adding a new column that collapses the numbered columns and joins the responses\n",
    "for name, col_value_map in single_value_map.items():\n",
    "    columns = col_value_map.values()\n",
    "    \n",
    "#columns = [c for c in df.columns if c.startswith(name)]\n",
    "    df[name] = df[columns].apply(lambda x: ','.join(x.dropna().map(str)), axis=1)\n"
   ]
  },
  {
   "cell_type": "code",
   "execution_count": 6,
   "metadata": {
    "tags": []
   },
   "outputs": [],
   "source": [
    "df['Orienteringer'] = df[['Seksuell_orientering', 'RO']].agg(lambda row: ','.join(row), axis=1)"
   ]
  },
  {
   "cell_type": "code",
   "execution_count": 7,
   "metadata": {},
   "outputs": [
    {
     "name": "stdout",
     "output_type": "stream",
     "text": [
      "Found boolean column: Urban ['Y' 'N']\n",
      "Found boolean column: Deichman ['Y' 'N']\n",
      "Found boolean column: Valgt_andre_bib ['N' 'Y']\n",
      "Found boolean column: God_tid ['Y' 'N']\n",
      "Found boolean column: Kjenner_til_SIAN_B ['Y' 'N']\n",
      "Found boolean column: Kjenner_til_SIAN_IB ['N' 'Y']\n",
      "Found boolean column: Er du over 16 år og IKKE skeiv/LHBTIQ+? ['Y' 'N']\n",
      "Found boolean column: Oblig_emne ['Y' 'N']\n",
      "Found boolean column: Skeiv ['N' 'Y']\n"
     ]
    }
   ],
   "source": [
    "#Convert all columns with only 'Y' and 'N' answers to boolean\n",
    "\n",
    "for column in df.columns:\n",
    "    series = df[column]\n",
    "    unique = series.dropna().unique()\n",
    "    if set(unique) =={'N', 'Y'}:\n",
    "        print(f\"Found boolean column: {column} {unique}\")\n",
    "        # map Y, N to True, False preserving missing values\n",
    "        df.loc[df[column] == 'Y', column] = True\n",
    "        df.loc[df[column] == 'N', column] = False\n",
    "        df[column] = df[column].astype('boolean')\n",
    "        # validate that we didn't turn NA into False\n",
    "        assert df[column].isna().sum() == df[column].isna().sum()"
   ]
  },
  {
   "cell_type": "code",
   "execution_count": 8,
   "metadata": {},
   "outputs": [],
   "source": [
    "#Drops all 'neutral' responses from those who did not change the pre-set neutral on ANY questions (N=12)\n",
    "\n",
    "# columns = [\"Utvalg_KID\", \"Utvalg_Orientering\", \"Utvalg_Intersex\", \"Utvalg_lykkelig\", \"Utvalg_fag\", \"Aldri_tenkt\", \"Utrygt_stille_spm\", \"Rep_matters_B\", \"Bib_pleier_ha\", \"Alltid_velkommen\", \"Trygge_rom_gen_B\", \"Ingen_rolle\", \"Ingenting_tilby\", \"Bibs_ansvar\", \"Minoritetsstress_ansatte\", \"Minoritetsstress_brukere\", \"Lhbtiq_vennlig\", \"Rom_for_forbedring\", \"Andre_brukere\", \"Helt_meg_selv\"]\n",
    "# non_participants = True\n",
    "# for column in columns:\n",
    "#     non_participants &= df[column] == 0\n",
    "\n",
    "# df.loc[non_participants, columns] = pd.NA"
   ]
  },
  {
   "cell_type": "code",
   "execution_count": null,
   "metadata": {},
   "outputs": [],
   "source": []
  },
  {
   "cell_type": "code",
   "execution_count": null,
   "metadata": {},
   "outputs": [],
   "source": []
  },
  {
   "cell_type": "code",
   "execution_count": null,
   "metadata": {
    "tags": []
   },
   "outputs": [],
   "source": []
  },
  {
   "cell_type": "code",
   "execution_count": 9,
   "metadata": {
    "tags": []
   },
   "outputs": [],
   "source": [
    "#Mapping text answers to numbers to get them in the right order for the legend/stacked plots and allow other comparisons\n",
    "#Number order is meaningful but number value is not.\n",
    "\n",
    "alder_map = {\n",
    "    '16-29': 1,\n",
    "    '30-44': 2,\n",
    "    '45-60': 3,\n",
    "    'Over_60': 4,\n",
    "}\n",
    "\n",
    "df[\"mapped_age\"] = df.Alder.apply(alder_map.get)\n",
    "\n",
    "\n",
    "sist_besok_map = {\n",
    "   '3-11 måneder siden': 4,\n",
    "    'Mindre enn 3 måneder siden': 5,\n",
    "    '3-6 år siden': 2,\n",
    "    '1-3 år siden': 3,\n",
    "    '6 år siden eller mer': 1,\n",
    "    'Aldri': 0,\n",
    "    'Jeg har aldri fysisk besøkt et folkebibliotek': 0\n",
    "}\n",
    "\n",
    "df[\"Sist_besok_måneder\"] = df.Sist_besok.apply(sist_besok_map.get)\n",
    "\n",
    "\n",
    "Hyppighet_map = {\n",
    "    '3-5 ganger': 4,\n",
    "    '1-2 ganger': 1.5,\n",
    "    '6-9 ganger': 7.5,\n",
    "    '20-39 ganger': 30,\n",
    "    '10-19 ganger': 15,\n",
    "    '40 ganger eller mer': 40,\n",
    "}\n",
    "df[\"Hyppighet_n\"] = df.Hyppighet.apply(Hyppighet_map.get)\n",
    "\n",
    "bruk_map = {\n",
    "   '3-11 måneder siden': True,\n",
    "    'Mindre enn 3 måneder siden': True,\n",
    "    '3-6 år siden': True,\n",
    "    '1-3 år siden': True,\n",
    "    '6 år siden eller mer': False,\n",
    "    'Aldri': False,\n",
    "}\n",
    "\n",
    "df[\"Bruk\"] = df.Sist_besok.apply(bruk_map.get)\n",
    "\n",
    "binary_map = {\n",
    "    'K' : True,\n",
    "    'M' : True,\n",
    "    'IB' : False,\n",
    "    'SU' : False,\n",
    "    'NONE' : False,\n",
    "    \n",
    "}\n",
    "\n",
    "df[\"Tokjønnsnorm\"] = df.Kjonnsidentitet.apply(binary_map.get)\n",
    "\n",
    "\n",
    "synlig_map = {\n",
    "    'N' : -2,\n",
    "    'Y' : 2,\n",
    "    'I' : 1,\n",
    "    'U' : 0,\n",
    "    'Y,S,I' : 1,\n",
    "    'Y,S' : 1,\n",
    "    'S,I' : 1,\n",
    "    'S' : 1,\n",
    "    'I,N' : -1,\n",
    "    'I,U' : 0,\n",
    "    'Y,I' : 1,\n",
    "    'Y,U' : 1,\n",
    "    'N,U' : -1,\n",
    "    'S,I,U' : 1,\n",
    "    'S,I,N' : -1,\n",
    "    'S,N' : -1,\n",
    "    'S,U' : -1\n",
    "\n",
    "}\n",
    "\n",
    "df[\"Synlighet\"] = df.Synlig_Skeiv.apply(synlig_map.get)\n",
    "\n"
   ]
  },
  {
   "cell_type": "code",
   "execution_count": 10,
   "metadata": {},
   "outputs": [],
   "source": [
    "df[\"Rep_matters_all\"] = df['Rep_matters_B'].fillna(df['Rep_matters_IB'])\n",
    "df[\"Trygge_rom_gen_all\"] = df['Trygge_rom_gen_B'].fillna(df['Trygge_rom_gen_IB'])\n"
   ]
  },
  {
   "cell_type": "code",
   "execution_count": 11,
   "metadata": {},
   "outputs": [],
   "source": [
    "df[\"Trygge_rom_gen_all\"] = df['Trygge_rom_gen_B'].fillna(df['Trygge_rom_gen_IB'])"
   ]
  },
  {
   "cell_type": "code",
   "execution_count": 12,
   "metadata": {},
   "outputs": [],
   "source": [
    "def urbanize(row):\n",
    "    if row[\"Urban\"] is not pd.NA and row[\"Urban\"] == False:\n",
    "        return 1.0\n",
    "    elif row[\"Deichman\"] is not pd.NA and row[\"Deichman\"] == True:\n",
    "        return 2.0\n",
    "    elif row[\"Urban\"] is not pd.NA and row[\"Urban\"] == True:\n",
    "        return 3.0\n",
    "    else:\n",
    "        return 0.0\n",
    "#        raise ValueError(str(row))\n",
    "\n",
    "\n",
    "df[\"Urban_rural\"] = df.apply(urbanize, axis = 1)"
   ]
  },
  {
   "cell_type": "markdown",
   "metadata": {
    "tags": []
   },
   "source": [
    "All columns"
   ]
  },
  {
   "cell_type": "code",
   "execution_count": null,
   "metadata": {},
   "outputs": [],
   "source": []
  },
  {
   "cell_type": "markdown",
   "metadata": {
    "tags": []
   },
   "source": [
    "# Constructing groups based on orientation\n",
    "\n",
    "Orientation categories based on the LGBTQIA+ acronym:\n",
    "\n",
    "- Lesbian\n",
    "- Gay\n",
    "- Bi+ (including pan & other non-monosexual identities)\n",
    "- Queer\n",
    "- Asexual / aroace-spectrum\n",
    "\n",
    "* <code>orientation_plus</code> are *overlapping* groups — one respondent can be in multiple groups\n",
    "* <code>orientation_only</code> are *non-ovelapping* groups — one respondent can be in one group only"
   ]
  },
  {
   "cell_type": "code",
   "execution_count": null,
   "metadata": {},
   "outputs": [],
   "source": []
  },
  {
   "cell_type": "code",
   "execution_count": null,
   "metadata": {
    "tags": []
   },
   "outputs": [],
   "source": []
  },
  {
   "cell_type": "code",
   "execution_count": 13,
   "metadata": {
    "tags": []
   },
   "outputs": [],
   "source": [
    "#Creating groups of bi+ (non-monosexual) respondents\n",
    "\n",
    "bi_plus = df[\n",
    "    df.Orienteringer.str.contains(\"Bi\")\n",
    "]\n",
    "\n",
    "\n",
    "bi_only = df[\n",
    "    (df.Seksuell_orientering == \"Bi\") & (df.RO.isin([\"\", \"Bi\"]))\n",
    "]"
   ]
  },
  {
   "cell_type": "code",
   "execution_count": 14,
   "metadata": {},
   "outputs": [
    {
     "data": {
      "text/plain": [
       "False    969\n",
       "True     101\n",
       "dtype: int64"
      ]
     },
     "execution_count": 14,
     "metadata": {},
     "output_type": "execute_result"
    }
   ],
   "source": [
    "((df.Seksuell_orientering == \"Bi\") & (df.RO.isin([\"\", \"Bi\"]))).value_counts()"
   ]
  },
  {
   "cell_type": "code",
   "execution_count": 15,
   "metadata": {
    "tags": []
   },
   "outputs": [],
   "source": [
    "#Creating groups of lesbian & gay respondents\n",
    "\n",
    "LG_plus = df[\n",
    "    df.Orienteringer.str.contains(\"LG\")    \n",
    "]\n",
    "\n",
    "\n",
    "LG_only = df[\n",
    "    (df.Seksuell_orientering == \"LG\") & (df.RO.isin([\"\", \"LG\"]))\n",
    "]\n",
    "\n",
    "#Splitting LG into gender-based groups\n",
    "lesbian = LG_plus[LG_plus.Kjonnsidentitet == \"K\"]\n",
    "gay = LG_plus[LG_plus.Kjonnsidentitet == \"M\"]\n",
    "nb_lg = LG_plus[~LG_plus.Kjonnsidentitet.isin([\"M\", \"K\"])]\n",
    "\n",
    "#print(len(lesbian), len(gay), len(nb_lg))\n",
    "\n",
    "only_lesbian = LG_only[LG_only.Kjonnsidentitet == \"K\"]\n",
    "only_gay = LG_only[LG_only.Kjonnsidentitet == \"M\"]\n",
    "only_nb_lg = LG_only[~LG_only.Kjonnsidentitet.isin([\"M\", \"K\"])]\n",
    "\n",
    "#print(len(only_gay), len(only_lesbian), len(only_nb_lg))"
   ]
  },
  {
   "cell_type": "code",
   "execution_count": 16,
   "metadata": {},
   "outputs": [],
   "source": [
    "#Creating groups of heterosexual respondents\n",
    "\n",
    "het_plus = df[\n",
    "    df.Orienteringer.str.contains(\"Het\")\n",
    "]\n",
    "\n",
    "\n",
    "het_only = df[\n",
    "    (df.Seksuell_orientering == \"Het\") & (df.RO.isin([\"\", \"Het\"]))\n",
    "]"
   ]
  },
  {
   "cell_type": "code",
   "execution_count": 17,
   "metadata": {
    "tags": []
   },
   "outputs": [],
   "source": [
    "#Creating groups of queer respondents\n",
    "\n",
    "q_plus = df[\n",
    "    df.Orienteringer.str.contains(\"Q\")\n",
    "]\n",
    "\n",
    "q_only = df[\n",
    "    (df.Seksuell_orientering == \"Q\") & (df.RO.isin([\"\", \"Q\"]))\n",
    "]"
   ]
  },
  {
   "cell_type": "code",
   "execution_count": 18,
   "metadata": {},
   "outputs": [],
   "source": [
    "#Creating groups of asexual and/or aromantic respondents\n",
    "\n",
    "ace_plus = df[\n",
    "    df.Orienteringer.str.contains(\"Ace\") | df.Orienteringer.str.contains(\"Aro\")\n",
    "]\n",
    "\n",
    "ace_only = df[\n",
    "    (df.Seksuell_orientering == \"Ace\") & (df.RO.isin([\"\", \"Aro\"]))\n",
    "]"
   ]
  },
  {
   "cell_type": "code",
   "execution_count": 19,
   "metadata": {
    "tags": []
   },
   "outputs": [],
   "source": [
    "#Creating groups of fluid respondents\n",
    "\n",
    "fluid_plus = df[\n",
    "    df.Orienteringer.str.contains(\"Fluid\")\n",
    "]\n",
    "\n",
    "fluid_only = df[\n",
    "    (df.Seksuell_orientering == \"Fluid\") & (df.RO.isin([\"\", \"Fluid\"]))\n",
    "]"
   ]
  },
  {
   "cell_type": "code",
   "execution_count": 20,
   "metadata": {
    "tags": []
   },
   "outputs": [
    {
     "data": {
      "text/plain": [
       "1"
      ]
     },
     "execution_count": 20,
     "metadata": {},
     "output_type": "execute_result"
    }
   ],
   "source": [
    "#Creating groups of respondents for whom none of the offered alternatives described their orienttion\n",
    "none_plus = df[\n",
    "    df.Orienteringer.str.contains(\"NONE\")\n",
    "]\n",
    "\n",
    "none_only = df[\n",
    "    (df.Seksuell_orientering == \"NONE\") & (df.RO.isin([\"\", \"NONE\"]))\n",
    "]\n",
    "len(none_only)\n",
    "len(none_plus)\n",
    "none_at_all = df[\n",
    "    (df.Seksuell_orientering == \"NONE\") & (df.RO.isin([\"\", \"NONE\"]) & (df.Cis==\"NONE\") & (df.Kjonnsidentitet==\"NONE\"))\n",
    "]\n",
    "len(none_at_all)\n",
    "\n"
   ]
  },
  {
   "cell_type": "code",
   "execution_count": 21,
   "metadata": {},
   "outputs": [
    {
     "data": {
      "text/plain": [
       "0.029595015576323987"
      ]
     },
     "execution_count": 21,
     "metadata": {},
     "output_type": "execute_result"
    }
   ],
   "source": [
    "19/642"
   ]
  },
  {
   "cell_type": "code",
   "execution_count": 22,
   "metadata": {},
   "outputs": [
    {
     "data": {
      "text/plain": [
       "35"
      ]
     },
     "execution_count": 22,
     "metadata": {},
     "output_type": "execute_result"
    }
   ],
   "source": [
    "#Creating groups of questioning/uncertain respondents\n",
    "questioning_plus = df[\n",
    "    df.Orienteringer.str.contains(\"SU\")\n",
    "]\n",
    "\n",
    "questioning_only = df[\n",
    "    (df.Seksuell_orientering == \"SU\") & (df.RO.isin([\"\", \"SU\"]))\n",
    "]\n",
    "len(questioning_plus)"
   ]
  },
  {
   "cell_type": "code",
   "execution_count": 23,
   "metadata": {},
   "outputs": [
    {
     "name": "stdout",
     "output_type": "stream",
     "text": [
      "Gay or Lesbian respondents (inclusive): 291\n",
      "Gay or Lesbian only respondents: 146\n",
      "50.2% of those who selected Gay or Lesbian selected ONLY this orientation\n",
      "\n",
      "Lesbian respondents (inclusive): 153\n",
      "Lesbian only respondents: 78\n",
      "51.0% of those who selected Lesbian selected ONLY this orientation\n",
      "\n",
      "Gay respondents (inclusive): 103\n",
      "Gay only respondents: 61\n",
      "59.2% of those who selected Gay selected ONLY this orientation\n",
      "\n",
      "Gay or Lesbian (nonbinary) respondents (inclusive): 35\n",
      "Gay or Lesbian (nonbinary) only respondents: 7\n",
      "20.0% of those who selected Gay or Lesbian (nonbinary) selected ONLY this orientation\n",
      "\n",
      "Bi+ respondents (inclusive): 304\n",
      "Bi+ only respondents: 101\n",
      "33.2% of those who selected Bi+ selected ONLY this orientation\n",
      "\n",
      "Queer respondents (inclusive): 280\n",
      "Queer only respondents: 31\n",
      "11.1% of those who selected Queer selected ONLY this orientation\n",
      "\n",
      "Fluid respondents (inclusive): 89\n",
      "Fluid only respondents: 8\n",
      "9.0% of those who selected Fluid selected ONLY this orientation\n",
      "\n",
      "Asexual and/or aromantic respondents (inclusive): 90\n",
      "Asexual and/or aromantic only respondents: 6\n",
      "6.7% of those who selected Asexual and/or aromantic selected ONLY this orientation\n",
      "\n",
      "Heterosexual respondents (inclusive): 31\n",
      "Heterosexual only respondents: 7\n",
      "22.6% of those who selected Heterosexual selected ONLY this orientation\n",
      "\n",
      "Questioning respondents (inclusive): 35\n",
      "Questioning only respondents: 2\n",
      "5.7% of those who selected Questioning selected ONLY this orientation\n",
      "\n",
      "NONE respondents (inclusive): 20\n",
      "NONE only respondents: 4\n",
      "20.0% of those who selected NONE selected ONLY this orientation\n",
      "\n"
     ]
    }
   ],
   "source": [
    "orientation_keys = {\n",
    "    \"LG\" : (LG_plus, LG_only, \"Gay or Lesbian\"),\n",
    "    \"L\" : (lesbian, only_lesbian, \"Lesbian\"),\n",
    "    \"G\" : (gay, only_gay, \"Gay\"),\n",
    "    \"NBLG\" : (nb_lg, only_nb_lg, \"Gay or Lesbian (nonbinary)\"),\n",
    "    \"Bi\" : (bi_plus, bi_only, \"Bi+\"),\n",
    "    \"Q\" : (q_plus, q_only, \"Queer\"),\n",
    "    \"Fluid\" : (fluid_plus, fluid_only, \"Fluid\"),\n",
    "    \"Ace\" : (ace_plus, ace_only, \"Asexual and/or aromantic\"),\n",
    "    \"Het\" : (het_plus, het_only, \"Heterosexual\"),\n",
    "    \"Questioning\" : (questioning_plus, questioning_only, \"Questioning\"),\n",
    "    \"None\" : (none_plus, none_only, \"NONE\")\n",
    "}\n",
    "\n",
    "\n",
    "def print_group_info(key):\n",
    "    x_plus, x_only, x_label = orientation_keys[key]\n",
    "    \n",
    "    x_only_count = len(x_only)\n",
    "    x_plus_count = len(x_plus)\n",
    "        \n",
    "    x_only_frac = x_only_count/x_plus_count\n",
    "    print(x_label, \"respondents (inclusive):\", len(x_plus))\n",
    "    print(x_label, \"only respondents:\", len(x_only))\n",
    "    print (f\"{x_only_frac:.1%} of those who selected\", x_label, \"selected ONLY this orientation\")\n",
    "    \n",
    "\n",
    "for key in orientation_keys.keys():\n",
    "    print_group_info(key)\n",
    "    print()"
   ]
  },
  {
   "cell_type": "code",
   "execution_count": null,
   "metadata": {},
   "outputs": [],
   "source": []
  },
  {
   "cell_type": "markdown",
   "metadata": {},
   "source": []
  },
  {
   "cell_type": "code",
   "execution_count": null,
   "metadata": {
    "tags": []
   },
   "outputs": [],
   "source": []
  },
  {
   "cell_type": "markdown",
   "metadata": {},
   "source": [
    "# Constructing groups based on other differences & aspects of identity"
   ]
  },
  {
   "cell_type": "code",
   "execution_count": null,
   "metadata": {
    "tags": []
   },
   "outputs": [],
   "source": []
  },
  {
   "cell_type": "code",
   "execution_count": 24,
   "metadata": {
    "tags": []
   },
   "outputs": [],
   "source": [
    "#Cisgender, heterosexual respondents, grouped by binary gender\n",
    "\n",
    "cis_heterofile = df[df.survey == \"Cis heterofile\"]\n",
    "ch_men = cis_heterofile[cis_heterofile.Kjonnsidentitet ==\"M\"]\n",
    "ch_women = cis_heterofile[cis_heterofile.Kjonnsidentitet ==\"K\"]\n",
    "\n",
    "ch_gender = {\n",
    "    \"Heterofile cismenn\" : ch_men,\n",
    "    \"Heterofile ciskvinner\" : ch_women,\n",
    "}\n",
    "\n",
    "#print(len(ch_women), len(ch_men)"
   ]
  },
  {
   "cell_type": "code",
   "execution_count": 25,
   "metadata": {
    "tags": []
   },
   "outputs": [
    {
     "name": "stdout",
     "output_type": "stream",
     "text": [
      "350 148 108 22 14\n",
      "90\n"
     ]
    }
   ],
   "source": [
    "#Queer respondents, grouped by (non-overlapping) gender identity\n",
    "\n",
    "alle_skeive = df[df.survey == \"Skeive\"]\n",
    "#print(len(alle_skeive))\n",
    "\n",
    "s_women = alle_skeive[alle_skeive.Kjonnsidentitet == \"K\"]\n",
    "s_men = alle_skeive[alle_skeive.Kjonnsidentitet == \"M\"]\n",
    "nonbinary = alle_skeive[alle_skeive.Kjonnsidentitet == \"IB\"]\n",
    "nonbinary_trans = nonbinary[nonbinary.Cis==\"N\"]\n",
    "questioning_KID = alle_skeive[alle_skeive.Kjonnsidentitet == \"SU\"]\n",
    "none = alle_skeive[alle_skeive.Kjonnsidentitet == \"NONE\"]\n",
    "\n",
    "print(len(s_women), len(s_men), len(nonbinary), len(questioning_KID), len(none))\n",
    "print(len(nonbinary_trans))"
   ]
  },
  {
   "cell_type": "code",
   "execution_count": 26,
   "metadata": {
    "tags": []
   },
   "outputs": [
    {
     "name": "stdout",
     "output_type": "stream",
     "text": [
      "13.1% av Kvinner skrev noe\n",
      "\n",
      "11.5% av Menn skrev noe\n",
      "\n",
      "8.3% av Ikke-binære skrev noe\n",
      "\n",
      "9.1% av Søkende/usikker (questioning) skrev noe\n",
      "\n",
      "28.6% av De som valgte 'ingen av svaralternativene passer' skrev noe\n",
      "\n"
     ]
    }
   ],
   "source": [
    "gender_keys = {\n",
    "    \"K\" : (s_women, \"Kvinner\"),\n",
    "    \"L\" : (s_men, \"Menn\"),\n",
    "    \"IB\" : (nonbinary, \"Ikke-binære\"),\n",
    "    \"SU\" : (questioning_KID, \"Søkende/usikker (questioning)\"),\n",
    "    \"NONE\" : (none, \"De som valgte 'ingen av svaralternativene passer'\"),\n",
    "}\n",
    "\n",
    "def print_info_by_gender(key, column=\"column\"):\n",
    "    group, label = gender_keys[key]\n",
    "    group_na = len(group) - sum((group[column].isna() & group[column].isna()))\n",
    "    whole_group = len(group)\n",
    "    NA_frac = group_na/whole_group\n",
    "    print (f\"{NA_frac:.1%} av {label} skrev noe\")\n",
    "    \n",
    "\n",
    "for key in gender_keys.keys():\n",
    "    print_info_by_gender(key, column=\"Forklare_SIAN_B_U\")\n",
    "    print()"
   ]
  },
  {
   "cell_type": "code",
   "execution_count": 27,
   "metadata": {},
   "outputs": [
    {
     "data": {
      "text/plain": [
       "0.8171428571428572"
      ]
     },
     "execution_count": 27,
     "metadata": {},
     "output_type": "execute_result"
    }
   ],
   "source": [
    "sum(s_women.Avrunding_B.isna())/len(s_women)"
   ]
  },
  {
   "cell_type": "code",
   "execution_count": 28,
   "metadata": {
    "tags": []
   },
   "outputs": [],
   "source": [
    "#Librarians, grouped by queerness (a question to capture respondent's queerness was added after approximately\n",
    "#100 librarians had already responded to the survey — totals therefore do not equal the survey total)\n",
    "\n",
    "bibliotekarer = df[df.survey ==\"Bibliotekarer\"]\n",
    "cishet_bibliotekarer = df[(df.survey ==\"Bibliotekarer\") & (~df.Skeiv)]\n",
    "skeive_bibliotekarer = df[(df.survey ==\"Bibliotekarer\") & (df.Skeiv)]\n",
    "\n",
    "#print(len(bibliotekarer), len(cishet_bibliotekarer), len(skeive_bibliotekarer))"
   ]
  },
  {
   "cell_type": "code",
   "execution_count": 29,
   "metadata": {},
   "outputs": [
    {
     "data": {
      "text/plain": [
       "(68, 40, 35, 22)"
      ]
     },
     "execution_count": 29,
     "metadata": {},
     "output_type": "execute_result"
    }
   ],
   "source": [
    "#Respondents who have 'questioning' on any aspect of identity: Kjønnsidentitet, Ciskjønnethet and/or orientation\n",
    "questioning = alle_skeive[(alle_skeive.Cis ==\"SU\") | (alle_skeive.Kjonnsidentitet==\"SU\") | (alle_skeive.Orienteringer.str.contains(\"SU\"))]\n",
    "#Respondents who have 'questioning' on either gender or cisness\n",
    "questioning_gender = alle_skeive[(alle_skeive.Cis ==\"SU\") | (alle_skeive.Kjonnsidentitet==\"SU\")]\n",
    "#Respondents who have questioning on orientation\n",
    "questioning_plus\n",
    "#Respondents who have questioning on gender\n",
    "questioning_KID\n",
    "len(questioning), len(questioning_gender), len(questioning_plus), len(questioning_KID)"
   ]
  },
  {
   "cell_type": "code",
   "execution_count": 30,
   "metadata": {},
   "outputs": [],
   "source": [
    "#alle_skeive.Cis"
   ]
  },
  {
   "cell_type": "code",
   "execution_count": 31,
   "metadata": {},
   "outputs": [
    {
     "data": {
      "text/plain": [
       "Y       413\n",
       "N       179\n",
       "SU       35\n",
       "NONE     15\n",
       "Name: Cis, dtype: int64"
      ]
     },
     "execution_count": 31,
     "metadata": {},
     "output_type": "execute_result"
    }
   ],
   "source": [
    "alle_skeive.Cis.value_counts()"
   ]
  },
  {
   "cell_type": "code",
   "execution_count": 32,
   "metadata": {
    "tags": []
   },
   "outputs": [
    {
     "name": "stdout",
     "output_type": "stream",
     "text": [
      "Cis responses: 413\n",
      "Trans & nonbinary responses: 214\n",
      "Questioning responses: 35\n",
      "tnb plus1: 214\n"
     ]
    }
   ],
   "source": [
    "#Cis & non-cis queer respondents\n",
    "\n",
    "cis = alle_skeive[alle_skeive.Cis == \"Y\"]\n",
    "tnb = alle_skeive[alle_skeive.Cis == \"N\"]\n",
    "tnb_plus_none = alle_skeive[alle_skeive.Cis != \"Y\"]\n",
    "tnb_plus = alle_skeive[alle_skeive.Cis.isin([\"N\", \"SU\"])]\n",
    "questioning_gender = alle_skeive[alle_skeive.Cis == \"SU\"]\n",
    "ibcis = alle_skeive[(alle_skeive.Cis.isin([\"NONE\", \"Y\"])) & (alle_skeive.Kjonnsidentitet==\"IB\")]\n",
    "\n",
    "print(f\"Cis responses: {len(cis)}\")\n",
    "print(f\"Trans & nonbinary responses: {len(tnb_plus)}\")\n",
    "print(f\"Questioning responses: {len(questioning_gender)}\")\n",
    "print(f\"tnb plus1: {len(tnb_plus)}\")\n",
    "\n",
    "df[\"cisness\"] = df.Cis == \"Y\"\n",
    "#AskMin - who else additional is in tnb_plus2 other than NONE (only 15 nones, but a difference of 35)?\n",
    "\n"
   ]
  },
  {
   "cell_type": "markdown",
   "metadata": {},
   "source": [
    "These categories exclude 12 respondents who answered \"None of these categories fit\". I made the decision to exclude these respondents from these groupings because their answers were generally extreme outliers when compared with trans, nonbinary, and questioning/uncertain respondents, but I did not feel comfortable including them in the cisgender group since they did not self-identify as cisgender. "
   ]
  },
  {
   "cell_type": "code",
   "execution_count": 33,
   "metadata": {},
   "outputs": [
    {
     "name": "stdout",
     "output_type": "stream",
     "text": [
      "9\n",
      "41\n"
     ]
    }
   ],
   "source": [
    "#intersex = those who chose either 'Yes, I am intersex' or 'I know or believe that I am intersex\n",
    "#but have not been diagnosed with an intersex variation'\n",
    "#intersex_plus = as above, also including those who answered 'I do not know whether I am intersex'\n",
    "\n",
    "intersex = df[~df.Intersex.isin([\"N\", \"U\"])].dropna(subset=[\"Intersex\"])\n",
    "intersex_usikker = df[df.Intersex==\"U\"].dropna(subset=[\"Intersex\"])\n",
    "print(len(intersex))\n",
    "print(len(intersex_usikker))"
   ]
  },
  {
   "cell_type": "code",
   "execution_count": 34,
   "metadata": {},
   "outputs": [
    {
     "data": {
      "text/plain": [
       "(213, 54)"
      ]
     },
     "execution_count": 34,
     "metadata": {},
     "output_type": "execute_result"
    }
   ],
   "source": [
    "#Groups based on whether respondents have other marginalized identities. _maj = no other marginalized identities\n",
    "# _min = other marginalized identities, including both those who answered 'yes' and those who were uncertain. \n",
    "\n",
    "s_maj = alle_skeive[alle_skeive.Marginalisert_ident == \"N\"]\n",
    "s_min = alle_skeive[alle_skeive.Marginalisert_ident.isin([\"U\", \"Y\"])]\n",
    "\n",
    "cs_maj = cis[cis.Marginalisert_ident == \"N\"]\n",
    "cs_min = cis[cis.Marginalisert_ident != \"N\"]\n",
    "\n",
    "ts_maj = tnb[tnb.Marginalisert_ident == \"N\"]\n",
    "ts_min = tnb[tnb.Marginalisert_ident != \"N\"]\n",
    "\n",
    "ch_maj = cis_heterofile[cis_heterofile.Marginalisert_ident ==\"N\"]\n",
    "ch_min = cis_heterofile[cis_heterofile.Marginalisert_ident != \"N\"]\n",
    "\n",
    "\n",
    "len(ch_maj), len(ch_min)"
   ]
  },
  {
   "cell_type": "code",
   "execution_count": 35,
   "metadata": {},
   "outputs": [
    {
     "name": "stdout",
     "output_type": "stream",
     "text": [
      "116\n",
      "380\n",
      "30\n",
      "107\n",
      "35\n",
      "172\n"
     ]
    }
   ],
   "source": [
    "#Regional groups for both queer and non-queer respondents\n",
    "\n",
    "s_Vestlandet = alle_skeive[alle_skeive.Region == \"V\"]\n",
    "s_Østlandet = alle_skeive[alle_skeive.Region == \"O\"]\n",
    "s_Sørlandet = alle_skeive[alle_skeive.Region == \"S\"]\n",
    "s_Midt_Norge = alle_skeive[alle_skeive.Region == \"T\"]\n",
    "s_Nord_Norge = alle_skeive[alle_skeive.Region == \"N\"]\n",
    "print(len(s_Vestlandet))\n",
    "print(len(s_Østlandet))\n",
    "\n",
    "tnb_Vestlandet = tnb[tnb.Region == \"V\"]\n",
    "tnb_Østlandet = tnb[tnb.Region == \"O\"]\n",
    "tnb_Sørlandet = tnb[tnb.Region == \"S\"]\n",
    "tnb_Midt_Norge = tnb[tnb.Region == \"T\"]\n",
    "tnb_Nord_Norge = tnb[tnb.Region == \"N\"]\n",
    "print(len(tnb_Vestlandet))\n",
    "print(len(tnb_Østlandet))\n",
    "\n",
    "cis_Vestlandet = cis[cis.Region == \"V\"]\n",
    "cis_Østlandet = cis[cis.Region == \"O\"]\n",
    "cis_Sørlandet = cis[cis.Region == \"S\"]\n",
    "cis_Midt_Norge = cis[cis.Region == \"T\"]\n",
    "cis_Nord_Norge = cis[cis.Region == \"N\"]\n",
    "\n",
    "\n",
    "ch_Vestlandet = cis_heterofile[cis_heterofile.Region == \"V\"]\n",
    "ch_Østlandet = cis_heterofile[cis_heterofile.Region == \"O\"]\n",
    "ch_Sørlandet = cis_heterofile[cis_heterofile.Region == \"S\"]\n",
    "ch_Midt_Norge = cis_heterofile[cis_heterofile.Region == \"T\"]\n",
    "ch_Nord_Norge = cis_heterofile[cis_heterofile.Region == \"N\"]\n",
    "print(len(ch_Vestlandet))\n",
    "print(len(ch_Østlandet))"
   ]
  },
  {
   "cell_type": "code",
   "execution_count": 36,
   "metadata": {},
   "outputs": [
    {
     "name": "stdout",
     "output_type": "stream",
     "text": [
      "17\n",
      "28\n"
     ]
    }
   ],
   "source": [
    "#Age groups for both queer and non-queer respondents\n",
    "\n",
    "s_Age_16_29 = alle_skeive[alle_skeive.Alder == \"16-29\"]\n",
    "s_Age_30_44 = alle_skeive[alle_skeive.Alder == \"30-44\"]\n",
    "s_Age_45_60 = alle_skeive[alle_skeive.Alder == \"45-60\"]\n",
    "s_Age_60_plus = alle_skeive[alle_skeive.Alder == \"Over_60\"]\n",
    "\n",
    "print(len(s_Age_60_plus))\n",
    "\n",
    "ch_Age_16_29 = cis_heterofile[cis_heterofile.Alder == \"16-29\"]\n",
    "ch_Age_30_44 = cis_heterofile[cis_heterofile.Alder == \"30-44\"]\n",
    "ch_Age_45_60 = cis_heterofile[cis_heterofile.Alder == \"45-60\"]\n",
    "ch_Age_60_plus = cis_heterofile[cis_heterofile.Alder == \"Over_60\"]\n",
    "\n",
    "print(len(ch_Age_60_plus))"
   ]
  },
  {
   "cell_type": "code",
   "execution_count": 37,
   "metadata": {
    "tags": []
   },
   "outputs": [
    {
     "data": {
      "text/plain": [
       "9"
      ]
     },
     "execution_count": 37,
     "metadata": {},
     "output_type": "execute_result"
    }
   ],
   "source": [
    "#Grouping cis and non-cis respondents by binary gender\n",
    "\n",
    "cis_women = cis[cis.Kjonnsidentitet == \"K\"]\n",
    "cis_men = cis[cis.Kjonnsidentitet == \"M\"]\n",
    "trans_women = tnb[tnb.Kjonnsidentitet == \"K\"]\n",
    "trans_men = tnb[tnb.Kjonnsidentitet == \"M\"]\n",
    "binary_trans = tnb[tnb.Kjonnsidentitet.isin([\"M\", \"K\"])]\n",
    "genderstuff_trans = tnb[~tnb.Kjonnsidentitet.isin([\"M\", \"K\", \"IB\"])]\n",
    "\n",
    "len(genderstuff_trans)"
   ]
  },
  {
   "cell_type": "code",
   "execution_count": 38,
   "metadata": {},
   "outputs": [
    {
     "data": {
      "text/plain": [
       "27"
      ]
     },
     "execution_count": 38,
     "metadata": {},
     "output_type": "execute_result"
    }
   ],
   "source": [
    "#Grouping queer respondents by the degree to which they feel queerness is a 'big part of who [they] are'\n",
    "\n",
    "SE_skeiv = alle_skeive[alle_skeive.Skeiv_ID == 2.0]\n",
    "LE_skeiv = alle_skeive[alle_skeive.Skeiv_ID == 1.0]\n",
    "N_skeiv = alle_skeive[alle_skeive.Skeiv_ID == 0.0]\n",
    "LU_skeiv = alle_skeive[alle_skeive.Skeiv_ID == -1.0]\n",
    "SU_skeiv = alle_skeive[alle_skeive.Skeiv_ID == -2.0]\n",
    "U_skeiv = alle_skeive[alle_skeive.Skeiv_ID <= -1.0]\n",
    "E_skeiv = alle_skeive[alle_skeive.Skeiv_ID >= 1.0]\n",
    "len(SU_skeiv)"
   ]
  },
  {
   "cell_type": "code",
   "execution_count": 39,
   "metadata": {
    "tags": []
   },
   "outputs": [],
   "source": [
    "#Grouping queer respondents by their degree of visible queerness\n",
    "\n",
    "synlig_skeiv = alle_skeive[alle_skeive.Synlighet >= 1]\n",
    "semisynlig_skeiv = alle_skeive[alle_skeive.Synlighet == 0]\n",
    "usynlig_skeiv = alle_skeive[alle_skeive.Synlighet <= -1]"
   ]
  },
  {
   "cell_type": "code",
   "execution_count": 40,
   "metadata": {},
   "outputs": [],
   "source": [
    "def regroup(groups):\n",
    "    \"\"\"Construct a new dataframe with a spanning 'group' column\n",
    "    \n",
    "    from a dict of group sub-dataframes\n",
    "    \n",
    "    Accounts for overlapping groups by ensuring overlapping elements\n",
    "    are duplcated,\n",
    "    which is why this can't be computed with a simple groupby\n",
    "    of the original dataframe\n",
    "    \"\"\"\n",
    "    for group, frame in groups.items():\n",
    "        frame = groups[group] = frame.copy()\n",
    "        frame[\"group\"] = group\n",
    "\n",
    "    group_frame = pd.concat(groups.values(), ignore_index=True)\n",
    "    group_frame[\"group\"] = group_frame[\"group\"].astype(\"category\")\n",
    "    # validate that we didn't lose any duplicated rows\n",
    "    assert len(group_frame) == sum(len(frame) for frame in groups.values())\n",
    "    return group_frame\n"
   ]
  },
  {
   "cell_type": "markdown",
   "metadata": {},
   "source": [
    "# Group dataframes"
   ]
  },
  {
   "cell_type": "code",
   "execution_count": null,
   "metadata": {
    "tags": []
   },
   "outputs": [],
   "source": []
  },
  {
   "cell_type": "code",
   "execution_count": null,
   "metadata": {},
   "outputs": [],
   "source": []
  },
  {
   "cell_type": "code",
   "execution_count": 41,
   "metadata": {
    "tags": []
   },
   "outputs": [],
   "source": [
    "#Skeive gruppert etter region\n",
    "s_region_groups = {\n",
    "    \"Østlandet \\n(LHBTIQ+)\": s_Østlandet,\n",
    "    \"Vestlandet \\n(LHBTIQ+)\": s_Vestlandet,\n",
    "    \"Sørlandet \\n(LHBTIQ+)\": s_Sørlandet,\n",
    "    \"Midt-Norge \\n(LHBTIQ+)\": s_Midt_Norge,\n",
    "    \"Nord-Norge \\n(LHBTIQ+)\": s_Nord_Norge,\n",
    "}\n",
    "s_region_df = regroup(s_region_groups)\n",
    "s_region_grouped = s_region_df.groupby(\"group\")\n",
    "\n",
    "tnb_region_groups = {\n",
    "    \"Østlandet \\n(trans)\": tnb_Østlandet,\n",
    "    \"Vestlandet \\n(trans)\": tnb_Vestlandet,\n",
    "    \"Sørlandet \\n(trans)\": tnb_Sørlandet,\n",
    "    \"Midt-Norge \\n(trans)\": tnb_Midt_Norge,\n",
    "    \"Nord-Norge \\n(trans)\": tnb_Nord_Norge,\n",
    "}\n",
    "tnb_region_df = regroup(tnb_region_groups)\n",
    "tnb_region_grouped = tnb_region_df.groupby(\"group\")\n",
    "\n",
    "cis_region_groups = {\n",
    "    \"Østlandet \\n(cis)\": cis_Østlandet,\n",
    "    \"Vestlandet \\n(cis)\": cis_Vestlandet,\n",
    "    \"Sørlandet \\n(cis)\": cis_Sørlandet,\n",
    "    \"Midt-Norge \\n(cis)\": cis_Midt_Norge,\n",
    "    \"Nord-Norge \\n(cis)\": cis_Nord_Norge,\n",
    "}\n",
    "cis_region_df = regroup(cis_region_groups)\n",
    "cis_region_grouped = cis_region_df.groupby(\"group\")\n",
    "\n",
    "\n",
    "#Ciskjønnede heterofile gruppert etter region\n",
    "ch_region_groups = {\n",
    "    \"Østlandet \\n(cishetero)\": ch_Østlandet,\n",
    "    \"Vestlandet \\n(cishetero)\": ch_Vestlandet,\n",
    "    \"Sørlandet \\n(cishetero)*\": ch_Sørlandet,\n",
    "    \"Midt-Norge \\n(cishetero)\": ch_Midt_Norge,\n",
    "    \"Nord-Norge \\n(cishetero)\": ch_Nord_Norge,\n",
    "}\n",
    "ch_region_df = regroup(ch_region_groups)\n",
    "ch_region_grouped = ch_region_df.groupby(\"group\")"
   ]
  },
  {
   "cell_type": "code",
   "execution_count": 42,
   "metadata": {},
   "outputs": [],
   "source": [
    "#Skeive gruppert etter alder\n",
    "\n",
    "s_age_groups = {\n",
    "    \"16-29 (LHBTIQ+)\": s_Age_16_29,\n",
    "    \"30-44 (LHBTIQ+)\": s_Age_30_44,\n",
    "    \"45-60 (LHBTIQ+)\": s_Age_45_60,\n",
    "    \"Over 60 (LHBTIQ+)\": s_Age_60_plus,\n",
    "}\n",
    "s_age_df = regroup(s_age_groups)\n",
    "s_age_grouped = s_age_df.groupby(\"group\")\n",
    "\n",
    "\n",
    "#Ciskjønnede heterofile gruppert etter alder\n",
    "\n",
    "ch_age_groups = {\n",
    "    \"16-29 (Cishetero)\": ch_Age_16_29,\n",
    "    \"30-44 (Cishetero)\": ch_Age_30_44,\n",
    "    \"45-60 (Cishetero)\": ch_Age_45_60,\n",
    "    \"Over 60 (Cishetero)\": ch_Age_60_plus,\n",
    "}\n",
    "ch_age_df = regroup(ch_age_groups)\n",
    "ch_age_grouped = ch_age_df.groupby(\"group\")\n"
   ]
  },
  {
   "cell_type": "code",
   "execution_count": 43,
   "metadata": {},
   "outputs": [
    {
     "name": "stdout",
     "output_type": "stream",
     "text": [
      "tnb brukere: 156, su brukere: 32, tnb plus ikke-brukere: 13\n",
      "188\n"
     ]
    }
   ],
   "source": [
    "#Skeive gruppert etter bibliotekbruk eller ikke-bruk\n",
    "\n",
    "s_brukere = alle_skeive[alle_skeive.Bruk == True]\n",
    "s_ikke_brukere = alle_skeive[alle_skeive.Bruk == False]\n",
    "\n",
    "ch_brukere = cis_heterofile[cis_heterofile.Bruk == True]\n",
    "ch_ikke_brukere = cis_heterofile[cis_heterofile.Bruk == False]\n",
    "\n",
    "cs_brukere = s_brukere[s_brukere.Cis == \"Y\"]\n",
    "cs_ikke_brukere = s_ikke_brukere[s_ikke_brukere.Cis == \"Y\"]\n",
    "\n",
    "tnb_brukere = s_brukere[s_brukere.Cis == \"N\"]\n",
    "su_brukere = s_brukere[s_brukere.Cis == \"SU\"]\n",
    "tnb_plus_brukere = s_brukere[s_brukere.Cis.isin([\"N\", \"SU\"])]\n",
    "tnb_plus_ikke_brukere = s_ikke_brukere[s_ikke_brukere.Cis.isin([\"N\", \"SU\"])]\n",
    "\n",
    "\n",
    "\n",
    "alle_B = df[df.Bruk == True]\n",
    "alle_IB = df[df.Bruk == False]\n",
    "\n",
    "bruk_groups = {\n",
    "    \"Brukere \\n(LHBTIQ+)\": s_brukere,\n",
    "    \"Brukere \\n(cishetero)\": ch_brukere,\n",
    "    \"Ikke-brukere \\n(LHBTIQ+)\": s_ikke_brukere,\n",
    "    \"Ikke-brukere \\n(cishetero)\": ch_ikke_brukere,\n",
    "}\n",
    "\n",
    "overall_bruk_groups = {\n",
    "    \"Alle brukere\": alle_B,\n",
    "    \"Alle ikke-brukere\" : alle_IB\n",
    "}\n",
    "\n",
    "skeiv_bruk_groups = {\n",
    "    \"Alle LHBTIQ+ brukere\": s_brukere,\n",
    "    \"LHBQA+ cisbrukere\": cs_brukere,\n",
    "    \"Transbrukere \\n(inkl. ikke-binære)\": tnb_brukere,\n",
    "}\n",
    "\n",
    "queer_non_users = {\n",
    "    \"LHBTIQ+ ikke-brukere\" : s_ikke_brukere\n",
    "}\n",
    "\n",
    "bruk_df = regroup(bruk_groups)\n",
    "bruk_grouped = bruk_df.groupby(\"group\")\n",
    "pd.set_option('max_rows', None)\n",
    "print(f\"tnb brukere: {len(tnb_brukere)}, su brukere: {len(su_brukere)}, tnb plus ikke-brukere: {len(tnb_plus_ikke_brukere)}\")\n",
    "print(len(tnb_plus_brukere))\n"
   ]
  },
  {
   "cell_type": "code",
   "execution_count": 44,
   "metadata": {},
   "outputs": [],
   "source": [
    "LG_groups = {\n",
    "    \"Homofil eller lesbisk\": LG_plus,\n",
    "    \"Homofil\": gay,\n",
    "    \"Lesbisk\": lesbian,\n",
    "    \"Ikke-binær homofil/lesbisk\": nb_lg,\n",
    "}\n",
    "LG_df = regroup(LG_groups)\n",
    "LG_grouped = LG_df.groupby(\"group\")"
   ]
  },
  {
   "cell_type": "code",
   "execution_count": 45,
   "metadata": {},
   "outputs": [],
   "source": [
    "mwct_groups = {\n",
    "    \"Transmenn\": trans_men,\n",
    "    \"Cismenn\": cis_men,\n",
    "    \"Transkvinner\": trans_women,\n",
    "    \"Ciskvinner\": cis_women,\n",
    "}\n",
    "mwct_df = regroup(mwct_groups)\n",
    "mwct_grouped = mwct_df.groupby(\"group\")"
   ]
  },
  {
   "cell_type": "code",
   "execution_count": 46,
   "metadata": {},
   "outputs": [],
   "source": [
    "gender_groups = {\n",
    "    \"Ikke-binære\": nonbinary,\n",
    "    \"Kvinner\": s_women,\n",
    "    \"Menn\": s_men,\n",
    "    \"Søkende \\n(Questioning)\": questioning_KID,\n",
    "}\n",
    "gender_df = regroup(gender_groups)\n",
    "gender_grouped = gender_df.groupby(\"group\")"
   ]
  },
  {
   "cell_type": "code",
   "execution_count": 47,
   "metadata": {
    "tags": []
   },
   "outputs": [
    {
     "data": {
      "text/plain": [
       "78"
      ]
     },
     "execution_count": 47,
     "metadata": {},
     "output_type": "execute_result"
    }
   ],
   "source": [
    "exclusive_orientation_groups = {\n",
    "    #\"LG\": LG,\n",
    "    \"Ikke-binær LH\": only_nb_lg,\n",
    "    \"Lesbisk\": only_lesbian,\n",
    "    \"Homofil\": only_gay,\n",
    "    \"Bi+\": bi_only,\n",
    "    \"Skeiv (Queer)\": q_only,\n",
    "    \"Ace+\": ace_only,\n",
    "    \"Flytende\": fluid_only,\n",
    "    \"Heterofil\" : het_only,\n",
    "    \"Søkende (Questioning)\" : questioning_only,\n",
    "    \"Ikke-kategoriserbar\": none_only\n",
    "}\n",
    "\n",
    "exclusive_orientation_df = regroup(exclusive_orientation_groups)\n",
    "exclusive_orientation_grouped = exclusive_orientation_df.groupby(\"group\")\n",
    "len(only_lesbian)"
   ]
  },
  {
   "cell_type": "code",
   "execution_count": 100,
   "metadata": {
    "tags": []
   },
   "outputs": [],
   "source": [
    "LGBTQIA_grupper = {\n",
    "    \"Lesbisk\": lesbian,\n",
    "    \"Homofil\": gay,\n",
    "    \"Ikke-monoseksuell \\n(bi+, pan, mfl.)\": bi_plus,\n",
    "    \"Trans \\n(inkl. ikke-binære)\": tnb_plus,\n",
    "    \"Interkjønn\": intersex,\n",
    "    \"Skeiv (Queer)\": q_plus,\n",
    "    \"Søkende \\n(Questioning)\": questioning,\n",
    "    \"Aro/Ace+\": ace_plus,\n",
    "}\n",
    "\n",
    "LGBTQIA_norsk_df = regroup(LGBTQIA_grupper)\n",
    "LGBTQIA_norsk_grouped = LGBTQIA_norsk_df.groupby(\"group\")\n",
    "\n",
    "LGBTQIA_groups = {\n",
    "    \"Lesbian\": lesbian,\n",
    "    \"Gay\": gay,\n",
    "    \"Non-monosexual \\n(bi+, pan & others)\": bi_plus,\n",
    "    \"Trans (incl. nonbinary)\": tnb_plus,\n",
    "    \"Intersex\": intersex,\n",
    "    \"Queer\": q_plus,\n",
    "    \"Questioning\": questioning,\n",
    "    \"Aro/Ace spectrum\": ace_plus,\n",
    "}\n",
    "\n",
    "LGBTQIA_df = regroup(LGBTQIA_groups)\n",
    "LGBTQIA_grouped = LGBTQIA_df.groupby(\"group\")"
   ]
  },
  {
   "cell_type": "code",
   "execution_count": 108,
   "metadata": {},
   "outputs": [
    {
     "data": {
      "text/plain": [
       "31"
      ]
     },
     "execution_count": 108,
     "metadata": {},
     "output_type": "execute_result"
    }
   ],
   "source": [
    "LGBQA_groups = {\n",
    "    \"Gay\": gay,\n",
    "    \"Lesbian\" : lesbian,\n",
    "    \"Non-monosexual \\n(bi, pan & more)\": bi_plus,\n",
    "    \"Queer\": q_plus,\n",
    "    \"Aro/Ace\": ace_plus,\n",
    "    \"Questioning\": questioning,\n",
    "}\n",
    "\n",
    "LGBQAplus_groups = {\n",
    "    \"Lesbisk/Homofil\": LG_plus,\n",
    "    \"Bi+\": bi_plus,\n",
    "    \"Skeiv (Queer)\": q_plus,\n",
    "    \"Aro/Ace+\": ace_plus,\n",
    "    \"Flytende\": fluid_plus,\n",
    "}\n",
    "\n",
    "\n",
    "len(het_plus)"
   ]
  },
  {
   "cell_type": "code",
   "execution_count": null,
   "metadata": {
    "tags": []
   },
   "outputs": [],
   "source": []
  },
  {
   "cell_type": "code",
   "execution_count": 50,
   "metadata": {},
   "outputs": [
    {
     "data": {
      "text/plain": [
       "51"
      ]
     },
     "execution_count": 50,
     "metadata": {},
     "output_type": "execute_result"
    }
   ],
   "source": [
    "#tnbL = lesbian[lesbian.Cis.isin([\"SU\", \"N\"])]\n",
    "#tnbH = gay[gay.Cis.isin([\"SU\", \"N\"])]\n",
    "\n",
    "tnbLH = LG_plus[LG_plus.Cis.isin([\"SU\", \"N\"])]\n",
    "tnbB = bi_plus[bi_plus.Cis.isin([\"SU\", \"N\"])]\n",
    "tnbQ = q_plus[q_plus.Cis.isin([\"SU\", \"N\"])]\n",
    "tnbA = ace_plus[ace_plus.Cis.isin([\"SU\", \"N\"])]\n",
    "\n",
    "\n",
    "tnb_LGBQA_groups = {\n",
    "    \"Lesbisk/Homofil (trans)\": tnbLH,\n",
    "    \"Bi+ (trans)\": tnbB,\n",
    "    \"Skeiv (trans)\": tnbQ,\n",
    "    \"Aro/Ace+ (trans)\": tnbA,\n",
    "}\n",
    "len(tnbA)"
   ]
  },
  {
   "cell_type": "code",
   "execution_count": 51,
   "metadata": {},
   "outputs": [],
   "source": [
    "cisLH = LG_plus[LG_plus.Cis==\"Y\"]\n",
    "cisB = bi_plus[bi_plus.Cis==\"Y\"]\n",
    "cisQ = q_plus[q_plus.Cis==\"Y\"]\n",
    "cisA = ace_plus[ace_plus.Cis==\"Y\"]\n",
    "\n",
    "\n",
    "cis_LGBQA_groups = {\n",
    "    \"Lesbisk/homofil (cis)\": cisLH,\n",
    "    \"Bi+ (cis)\": cisB,\n",
    "    \"Skeiv (cis)\": cisQ,\n",
    "    \"Aro/Ace+ (cis)\": cisA,\n",
    "}\n"
   ]
  },
  {
   "cell_type": "code",
   "execution_count": 106,
   "metadata": {
    "tags": []
   },
   "outputs": [],
   "source": [
    "cisness_groups =   {\n",
    "    \"cismenn\": cis_men,\n",
    "    \"ciskvinner\": cis_women,\n",
    "    \"transmenn\" : trans_men,\n",
    "    \"transkvinner\" : trans_women,\n",
    "    \"Ikke-binære\": nonbinary,\n",
    "    \"Søkende/usikker\" : questioning_gender,\n",
    "}\n",
    "\n",
    "cisness_df = regroup(cisness_groups)\n",
    "cisness_grouped = cisness_df.groupby(\"group\")"
   ]
  },
  {
   "cell_type": "code",
   "execution_count": 53,
   "metadata": {
    "tags": []
   },
   "outputs": [],
   "source": [
    "gender_stuff_groups =   {\n",
    "    \"LHBTIQ+ (alle)\" : alle_skeive,\n",
    "    \"Transparaply\" : tnb_plus,\n",
    "    \"Binære transpersoner\": binary_trans,\n",
    "    \"Søkende/usikker \\n(kjønn/ciskjønnethet)\" : questioning_gender,\n",
    "    \"Ikke-binære\" : nonbinary,\n",
    "    \"'Ingen av svaralternativene passer'\" : none,\n",
    "    \"Interkjønn\" : intersex,\n",
    "    \"Mulig interkjønn\" : intersex_usikker,    \n",
    "}\n",
    "\n",
    "gender_stuff_df = regroup(gender_stuff_groups)\n",
    "gender_stuff_grouped = gender_stuff_df.groupby(\"group\")"
   ]
  },
  {
   "cell_type": "code",
   "execution_count": 54,
   "metadata": {},
   "outputs": [],
   "source": [
    "bt_vs_ib = {\n",
    "    \"Binære transpersoner\": binary_trans,\n",
    "    \"Ikke-binære\" : nonbinary,\n",
    "    \"Søkende/usikker \\n(kjønn / ciskjønnethet)\" : questioning_gender,\n",
    "    \"Cis or NONE IB\" : ibcis,\n",
    "}"
   ]
  },
  {
   "cell_type": "code",
   "execution_count": 55,
   "metadata": {},
   "outputs": [],
   "source": [
    "synlig_bt = binary_trans[binary_trans.Synlig_Skeiv==\"Y\"]\n",
    "usynlig_bt = binary_trans[binary_trans.Synlig_Skeiv==\"N\"]\n",
    "mindre_synlig_bt = binary_trans[binary_trans.Synlig_Skeiv!=\"Y\"]\n",
    "\n",
    "synlig_ib = nonbinary[nonbinary.Synlig_Skeiv==\"Y\"]\n",
    "usynlig_ib = nonbinary[nonbinary.Synlig_Skeiv==\"N\"]\n",
    "mindre_synlig_ib = nonbinary[nonbinary.Synlig_Skeiv!=\"Y\"]\n",
    "\n",
    "synlig_trans = {\n",
    "    \"Binæere transpersoner \\n(synlig)\" : synlig_bt,\n",
    "    \"Binære transpersoner \\n(mindre synlig)\" : mindre_synlig_bt,\n",
    "    \"Binære transpersoner \\n(usynlig)\" : usynlig_bt,\n",
    "    \"Ikke-binære \\n(synlig)\" : synlig_ib,\n",
    "    \"Ikke-binære \\n(mindre synlig)\" : mindre_synlig_ib,\n",
    "    \"Ikke-binære \\n(usynlig)\" : usynlig_ib,\n",
    "    \n",
    "}\n"
   ]
  },
  {
   "cell_type": "code",
   "execution_count": 56,
   "metadata": {},
   "outputs": [],
   "source": [
    "Skeiv_ID =   {\n",
    "    \"Ikke viktig\": SU_skeiv,\n",
    "    \"Ikke så viktig\": LU_skeiv,     \n",
    "    \"Nøytral\": N_skeiv,\n",
    "    \"Litt viktig\": LE_skeiv,\n",
    "    \"Veldig viktig\": SE_skeiv,\n",
    "\n",
    "}\n",
    "\n",
    "Skeiv_ID_df = regroup(Skeiv_ID)\n",
    "Skeiv_ID_grouped = Skeiv_ID_df.groupby(\"group\")"
   ]
  },
  {
   "cell_type": "code",
   "execution_count": 57,
   "metadata": {
    "tags": []
   },
   "outputs": [],
   "source": [
    "overall_groups = {\n",
    "    \"Heterofile \\cisrespondenter\": cis_heterofile,\n",
    "    \"LHBTIQ+ \\nrespondenter\": alle_skeive,\n",
    "}\n",
    "\n",
    "overall_df = regroup(overall_groups)\n",
    "overall_grouped = overall_df.groupby(\"group\")\n",
    "\n",
    "overall_queer_groups = {\n",
    "    \"LHBQA+ cisrespondenter\": cis,\n",
    "    \"Trans (inkl. ikke-binære \\n& søkende)\": tnb,\n",
    "}\n",
    "\n",
    "overall_df = regroup(overall_groups)\n",
    "overall_grouped = overall_df.groupby(\"group\")"
   ]
  },
  {
   "cell_type": "code",
   "execution_count": 58,
   "metadata": {},
   "outputs": [],
   "source": [
    "all_the_queers = {\n",
    "    \"LHBTIQ+ (Alle)\" : alle_skeive,\n",
    "}"
   ]
  },
  {
   "cell_type": "code",
   "execution_count": 59,
   "metadata": {},
   "outputs": [],
   "source": [
    "intersectional_groups = {\n",
    "    \"LHBQA+ cisrespondenter UTEN \\nandre marginaliserte identiteter\": cs_maj,\n",
    "    \"LHBQA+ cisrespondenterMED \\nandre marginaliserte identiteter\": cs_min,\n",
    "    \"Transrespondenter (inkl. ikke-binære) UTEN \\nandre marginaliserte identiteter\" : ts_maj,\n",
    "    \"Transrespondenter (inkl. ikke-binære) MED \\nandre marginaliserte identiteter\": ts_min,\n",
    "    \"Heterofile cisrespondenter UTEN \\nandre marginaliserte identiteter\": ch_maj,\n",
    "    \"Heterofile cisrespondenter MED \\nandre marginaliserte identiteter\": ch_min,\n",
    "}\n",
    "intersectional_groups_df = regroup(intersectional_groups)\n",
    "intersectional_grouped = intersectional_groups_df.groupby(\"group\")"
   ]
  },
  {
   "cell_type": "code",
   "execution_count": 60,
   "metadata": {},
   "outputs": [],
   "source": [
    "bib_compare = {\n",
    "    \"LHBTIQ+ brukere\": alle_skeive,\n",
    "    \"Bibliotekarer\": bibliotekarer,\n",
    "}\n",
    "\n",
    "bib_compare_df = regroup(bib_compare)\n",
    "bib_compare_grouped = bib_compare_df.groupby(\"group\")"
   ]
  },
  {
   "cell_type": "code",
   "execution_count": 61,
   "metadata": {
    "tags": []
   },
   "outputs": [],
   "source": [
    "bib_compare2 = {\n",
    "    \"LHBTIQ+ brukere\": alle_skeive,\n",
    "    \"Bibliotekarer\": bibliotekarer,\n",
    "    \"Heterofile cisbrukere\" : cis_heterofile\n",
    "}\n",
    "\n",
    "bib_compare2_df = regroup(bib_compare2)\n",
    "bib_compare2_grouped = bib_compare2_df.groupby(\"group\")"
   ]
  },
  {
   "cell_type": "code",
   "execution_count": 62,
   "metadata": {},
   "outputs": [],
   "source": [
    "bib_compare3 = {\n",
    "    \"LHBTIQ+ bibliotekarer\": skeive_bibliotekarer,\n",
    "    \"Heterofile cis-bibliotekarer\": cishet_bibliotekarer,\n",
    "}\n",
    "\n",
    "bib_compare3_df = regroup(bib_compare3)\n",
    "bib_compare3_grouped = bib_compare3_df.groupby(\"group\")"
   ]
  },
  {
   "cell_type": "code",
   "execution_count": null,
   "metadata": {},
   "outputs": [],
   "source": []
  },
  {
   "cell_type": "code",
   "execution_count": 63,
   "metadata": {},
   "outputs": [
    {
     "data": {
      "text/plain": [
       "1.0973692311518344"
      ]
     },
     "execution_count": 63,
     "metadata": {},
     "output_type": "execute_result"
    }
   ],
   "source": [
    "synlighet = {\n",
    "    \"Synlig skeiv\": synlig_skeiv,\n",
    "    \"Delvis synlig skeiv\": semisynlig_skeiv,\n",
    "    \"Ikke-synlig skeiv\": usynlig_skeiv,\n",
    "}\n",
    "\n",
    "synlighet_df = regroup(synlighet)\n",
    "synlighet_grouped = synlighet_df.groupby(\"group\")\n",
    "\n",
    "np.std(alle_skeive.Skeiv_ID)"
   ]
  },
  {
   "cell_type": "code",
   "execution_count": 64,
   "metadata": {},
   "outputs": [],
   "source": [
    "KH_compare = {\n",
    "   \n",
    "    \n",
    "    \"Bibliotekarer \\n(eget behov)\": bibliotekarer,\n",
    "    \"Bibliotekarer \\n(andre bibliotekarers behov)\": bibliotekarer,\n",
    "    \"LHBQA+ cisbrukere \\n(bibliotekarers behov)\": cs_brukere,\n",
    "    \"Transbrukere (inkl. ikke-binære) \\n(bibliotekarers behov)\": tnb_plus_brukere,\n",
    "}\n",
    "\n",
    "KH_compare_df = regroup(KH_compare)\n",
    "KH_compare_grouped = KH_compare_df.groupby(\"group\")\n",
    "KH_compare_df[\"KH_comparison\"] = KH_compare_df[\"Overall_behov_KH\"]\n",
    "KH_compare_df.loc[KH_compare_df.group==\"LHBQA+ cisbrukere \\n(bibliotekarers behov)\", \"KH_comparison\"] = KH_compare_df.loc[KH_compare_df.group==\"LHBQA+ cisbrukere \\n(bibliotekarers behov)\", \"Behov_kompetanseheving\"]\n",
    "KH_compare_df.loc[KH_compare_df.group==\"Transbrukere (inkl. ikke-binære) \\n(bibliotekarers behov)\", \"KH_comparison\"] = KH_compare_df.loc[KH_compare_df.group==\"Transbrukere (inkl. ikke-binære) \\n(bibliotekarers behov)\", \"Behov_kompetanseheving\"]\n",
    "KH_compare_df.loc[KH_compare_df.group==\"Bibliotekarer \\n(andre bibliotekarers behov)\", \"KH_comparison\"] = KH_compare_df.loc[KH_compare_df.group==\"Bibliotekarer \\n(andre bibliotekarers behov)\", \"Overall_behov_KH\"]\n",
    "KH_compare_df.loc[KH_compare_df.group==\"Bibliotekarer \\n(eget behov)\", \"KH_comparison\"] = KH_compare_df.loc[KH_compare_df.group==\"Bibliotekarer \\n(eget behov)\", \"Individ_behov_KH\"]"
   ]
  },
  {
   "cell_type": "code",
   "execution_count": 65,
   "metadata": {},
   "outputs": [
    {
     "data": {
      "text/plain": [
       "(267, 413, 179)"
      ]
     },
     "execution_count": 65,
     "metadata": {},
     "output_type": "execute_result"
    }
   ],
   "source": [
    "chcsts = {\n",
    "    \"Heterofile cisrespondenter\" : cis_heterofile,\n",
    "    \"LHBQA+ cisrespondenter\": cis,\n",
    "    \"Transrespondenter \\n(inkl. ikke-binære)\": tnb_plus,\n",
    "}\n",
    "\n",
    "chcsts_df = regroup(chcsts)\n",
    "chcsts_grouped = chcsts_df.groupby(\"group\")\n",
    "len(cis_heterofile), len(cis), len(tnb)"
   ]
  },
  {
   "cell_type": "code",
   "execution_count": 66,
   "metadata": {},
   "outputs": [
    {
     "data": {
      "text/plain": [
       "267"
      ]
     },
     "execution_count": 66,
     "metadata": {},
     "output_type": "execute_result"
    }
   ],
   "source": [
    "ch = {\n",
    "    \"Cishetero \\nrespondenter\" : cis_heterofile,\n",
    "}\n",
    "\n",
    "ch_df = regroup(ch)\n",
    "ch_grouped = ch_df.groupby(\"group\")\n",
    "len(cis_heterofile)"
   ]
  },
  {
   "cell_type": "code",
   "execution_count": 67,
   "metadata": {},
   "outputs": [
    {
     "name": "stdout",
     "output_type": "stream",
     "text": [
      "279\n",
      "146\n",
      "2.073208722741433\n"
     ]
    }
   ],
   "source": [
    "n_choices = alle_skeive.Orienteringer.str.strip(\",\").str.count(',')+1\n",
    "\n",
    "one_O = alle_skeive[n_choices == 1]\n",
    "two_O = alle_skeive[n_choices == 2]\n",
    "multiple_O = alle_skeive[n_choices >= 3]\n",
    "\n",
    "print(len(one_O))\n",
    "#print (len(lt_two_O))\n",
    "print (len(multiple_O))\n",
    "\n",
    "n_orientations = {\n",
    "   \"Kun én orientering valgt\": one_O,\n",
    "   \"To orienteringer\" : two_O,\n",
    "   \"Sammensatt orientering\": multiple_O,\n",
    "}\n",
    "n_orientations_df = regroup(n_orientations)\n",
    "\n",
    "print(np.mean(n_choices))"
   ]
  },
  {
   "cell_type": "code",
   "execution_count": 68,
   "metadata": {
    "tags": []
   },
   "outputs": [],
   "source": [
    "#Show non-captured entries (those with more than one orientation selected) by creating a union of all group indices and locate all rows not in that index\n",
    "noncaptured = df[~df.NR.isin(exclusive_orientation_df.NR)]\n",
    "#noncaptured.loc[noncaptured.Orienteringer == \"Het,\", [\"RO\", \"Seksuell_orientering\", \"Kjonnsidentitet\"]]\n",
    "#noncaptured.Orienteringer.value_counts()"
   ]
  },
  {
   "cell_type": "code",
   "execution_count": 69,
   "metadata": {
    "tags": []
   },
   "outputs": [],
   "source": [
    "s_D = alle_skeive[alle_skeive.Deichman]\n",
    "s_U = alle_skeive[alle_skeive.Urban]\n",
    "s_R = alle_skeive[~alle_skeive.Urban]\n",
    "\n",
    "s_urban_groups = {\n",
    "    \"Oslo (Deichman-systemet)\": s_D,\n",
    "    \"Andre storby- og byregioner\": s_U,\n",
    "    \"Distriktsområder\": s_R,\n",
    "}\n",
    "s_urban_groups_df = regroup(s_urban_groups)\n",
    "s_urban_grouped = s_urban_groups_df.groupby(\"group\")\n",
    "\n",
    "\n",
    "cs_D = cis[cis.Deichman]\n",
    "cs_U = cis[cis.Urban]\n",
    "cs_R = cis[~cis.Urban]\n",
    "\n",
    "cs_urban_groups = {\n",
    "    \"Oslo (Deichman-systemet)\": cs_D,\n",
    "    \"Andre storby- og byregioner\": cs_U,\n",
    "    \"Distriktsområder\": cs_R,\n",
    "}\n",
    "cs_urban_groups_df = regroup(cs_urban_groups)\n",
    "cs_urban_grouped = cs_urban_groups_df.groupby(\"group\")\n",
    "\n",
    "\n",
    "\n",
    "tnb_D = tnb_plus[tnb_plus.Deichman]\n",
    "tnb_U = tnb_plus[tnb_plus.Urban]\n",
    "tnb_R = tnb_plus[~tnb_plus.Urban]\n",
    "\n",
    "tnb_urban_groups = {\n",
    "    \"Oslo (Deichman-systemet)\": tnb_D,\n",
    "    \"Andre storby- og byregioner\": tnb_U,\n",
    "    \"Distriktsområder\": tnb_R,\n",
    "}\n",
    "tnb_urban_groups_df = regroup(tnb_urban_groups)\n",
    "tnb_urban_grouped = tnb_urban_groups_df.groupby(\"group\")\n",
    "\n",
    "ch_D = cis_heterofile[cis_heterofile.Deichman]\n",
    "ch_U = cis_heterofile[cis_heterofile.Urban]\n",
    "ch_R = cis_heterofile[~cis_heterofile.Urban]\n",
    "\n",
    "ch_urban_groups = {\n",
    "    \"Oslo (Deichman-systemet)\": ch_D,\n",
    "    \"Andre storby- og byregioner\": ch_U,\n",
    "    \"Distriktsområder\": ch_R,\n",
    "}\n",
    "ch_urban_groups_df = regroup(ch_urban_groups)\n",
    "ch_urban_grouped = ch_urban_groups_df.groupby(\"group\")"
   ]
  },
  {
   "cell_type": "code",
   "execution_count": 70,
   "metadata": {},
   "outputs": [
    {
     "data": {
      "text/plain": [
       "0.24761904761904763"
      ]
     },
     "execution_count": 70,
     "metadata": {},
     "output_type": "execute_result"
    }
   ],
   "source": [
    "sum(s_R.Valgt_andre_bib==True)/len(s_R)"
   ]
  },
  {
   "cell_type": "markdown",
   "metadata": {},
   "source": [
    "# Total respondents vs total responses\n",
    "### (When grouped by orientation; all other groupings are non-overlapping)"
   ]
  },
  {
   "cell_type": "code",
   "execution_count": 71,
   "metadata": {
    "tags": []
   },
   "outputs": [
    {
     "name": "stdout",
     "output_type": "stream",
     "text": [
      "Total respondents: 642\n",
      "Total respondents who chose only one orientation: 279 (43.5% of all respondents)\n",
      "Total number of responses counted by expansive definitions (allowing overlap in orientations): 1140\n"
     ]
    }
   ],
   "source": [
    "total_responses = len(ace_plus) + len(het_plus) + len(q_plus) + len(bi_plus) + len(LG_plus) + len(none_plus) + len(fluid_plus) + len(questioning_plus)\n",
    "total_respondents_one_choice = len(one_O)\n",
    "troc_frac = total_respondents_one_choice / len(df[df.survey == \"Skeive\"])\n",
    "print(\"Total respondents:\", len(df[df.survey == \"Skeive\"]))\n",
    "print(\"Total respondents who chose only one orientation:\", total_respondents_one_choice, f\"({troc_frac:.1%} of all respondents)\")\n",
    "print(\"Total number of responses counted by expansive definitions (allowing overlap in orientations):\", total_responses) "
   ]
  },
  {
   "cell_type": "code",
   "execution_count": null,
   "metadata": {},
   "outputs": [],
   "source": []
  },
  {
   "cell_type": "code",
   "execution_count": null,
   "metadata": {},
   "outputs": [],
   "source": []
  },
  {
   "cell_type": "code",
   "execution_count": 72,
   "metadata": {},
   "outputs": [
    {
     "data": {
      "text/plain": [
       "30-44      373\n",
       "16-29      336\n",
       "45-60      155\n",
       "Over_60     45\n",
       "Name: Alder, dtype: int64"
      ]
     },
     "execution_count": 72,
     "metadata": {},
     "output_type": "execute_result"
    }
   ],
   "source": [
    "df.Alder.value_counts()"
   ]
  },
  {
   "cell_type": "code",
   "execution_count": 73,
   "metadata": {},
   "outputs": [],
   "source": [
    "def add_age_weight(df):\n",
    "    known_population = pd.Series([.19, .202, .202, .237], index=['16-29', '30-44', '45-60', 'Over_60'])\n",
    "    known_population.name = 'known_population'\n",
    "\n",
    "\n",
    "    age_counts = df.Alder.value_counts()\n",
    "    total = len(df.Alder.dropna())\n",
    "    age_fractions = age_counts / total\n",
    "    age_fractions.name = 'age_fraction'\n",
    "\n",
    "    age_weights = pd.concat([age_fractions, known_population], axis=1)\n",
    "    \n",
    "    age_weights[\"weight\"] = age_weights[\"known_population\"] / age_weights[\"age_fraction\"]\n",
    "\n",
    "    df[\"age_weight\"] = df.Alder.apply(lambda age: age_weights.loc[age].weight)"
   ]
  },
  {
   "cell_type": "code",
   "execution_count": null,
   "metadata": {},
   "outputs": [],
   "source": []
  },
  {
   "cell_type": "code",
   "execution_count": null,
   "metadata": {},
   "outputs": [],
   "source": []
  },
  {
   "cell_type": "code",
   "execution_count": null,
   "metadata": {},
   "outputs": [],
   "source": []
  },
  {
   "cell_type": "code",
   "execution_count": null,
   "metadata": {},
   "outputs": [],
   "source": []
  },
  {
   "cell_type": "code",
   "execution_count": null,
   "metadata": {
    "collapsed": true,
    "jupyter": {
     "outputs_hidden": true
    },
    "tags": []
   },
   "outputs": [],
   "source": []
  },
  {
   "cell_type": "code",
   "execution_count": null,
   "metadata": {},
   "outputs": [],
   "source": []
  },
  {
   "cell_type": "code",
   "execution_count": 74,
   "metadata": {},
   "outputs": [],
   "source": [
    "def add_gender_weight(df):\n",
    "    known_population_gender = pd.Series([.495, .515, .0], index=['K', 'M', 'SU'])\n",
    "    known_population_gender.name = 'known_population_gender'\n",
    "    \n",
    "    gender_counts = df.Kjonnsidentitet.value_counts()\n",
    "    total = len(df.Kjonnsidentitet.dropna())\n",
    "    gender_fractions = gender_counts / total\n",
    "    gender_fractions.name = 'gender_fraction'\n",
    "    \n",
    "    gender_weights = pd.concat([gender_fractions, known_population_gender], axis=1)\n",
    "    \n",
    "    gender_weights[\"gender_weight\"] = gender_weights[\"known_population_gender\"] / gender_weights[\"gender_fraction\"]   \n",
    "    \n",
    "    df[\"gender_weight\"] = df.Kjonnsidentitet.apply(lambda gender: gender_weights.loc[gender].gender_weight)"
   ]
  },
  {
   "cell_type": "code",
   "execution_count": null,
   "metadata": {},
   "outputs": [],
   "source": []
  },
  {
   "cell_type": "code",
   "execution_count": null,
   "metadata": {},
   "outputs": [],
   "source": []
  },
  {
   "cell_type": "code",
   "execution_count": null,
   "metadata": {},
   "outputs": [],
   "source": []
  },
  {
   "cell_type": "code",
   "execution_count": null,
   "metadata": {
    "tags": []
   },
   "outputs": [],
   "source": []
  },
  {
   "cell_type": "code",
   "execution_count": null,
   "metadata": {},
   "outputs": [],
   "source": []
  },
  {
   "cell_type": "markdown",
   "metadata": {},
   "source": [
    "## Statistics"
   ]
  },
  {
   "cell_type": "code",
   "execution_count": 75,
   "metadata": {},
   "outputs": [],
   "source": [
    "#from Shibat, 2016: https://github.com/y-shibat/brunnermunzel\n",
    "import math\n",
    "import numpy\n",
    "import scipy.stats\n",
    "\n",
    "def _calc_S2(R, Ri, Ravr):\n",
    "    num_elem = len(Ri)\n",
    "    if len(Ri) != len(R):\n",
    "        raise \"number of elements in sample and its rank must be same.\"\n",
    "\n",
    "    s = 0.0\n",
    "    i = 0\n",
    "    while i < num_elem:\n",
    "        v = (R[i] - Ri[i] - Ravr + (1.0 * num_elem + 1) / 2)\n",
    "        v2 = v * v\n",
    "        s += v2\n",
    "        i += 1\n",
    "\n",
    "    return s / (num_elem - 1)\n",
    "\n",
    "\n",
    "def brunnermunzel_test(x, y, ttype=0, alpha=0.05):\n",
    "#     This function implements the Brunner-Munzel test.\n",
    "#     Arguments 'x' and 'y' are list/scipy array whose type is integer or floaing point.\n",
    "#     Run Brunner-Munzel test aginst 2 list of samples, X and Y.\n",
    "#     All of element in both X and Y must be valid number.\n",
    "#     You can select phypothesis by specifying negative, 0, or positive integer to 'ttype'.\n",
    "#     0 is for null hypothesis, -1 or smaller integer is for less hypotesis, 1 or bigger for greater one.\n",
    "#     Default is 0.\n",
    "#     'alpha' is the confidence level. Devault is 0.05. Its for 95% confidence interval.\n",
    "#     This function returns a tuple of (W, f_hat, p, Pest), where\n",
    "#        W: test statisfic\n",
    "#        f_hat: degree of freedom\n",
    "#        p: p-value\n",
    "#        Pest: estimated effect size \n",
    "#        Cl: Low boundary of the range of numerical list of the range of given condifidence level. \n",
    "#        Ch: High boundary of the range of numerical list of the range of given condifidence level.\n",
    "#     The implementation is based on the description in next URL.\n",
    "#     http://oku.edu.mie-u.ac.jp/~okumura/stat/brunner-munzel.html\n",
    "\n",
    "    N_x = len(x)\n",
    "    N_y = len(y)\n",
    "\n",
    "    if isinstance(x, numpy.ndarray):\n",
    "        x = x.tolist()\n",
    "    if isinstance(x, numpy.ndarray):\n",
    "        y = y.tolist()\n",
    "\n",
    "    cat_x_y = list(x)\n",
    "    cat_x_y.extend(y)\n",
    "\n",
    "    R_total = scipy.stats.rankdata(cat_x_y, method='average')\n",
    "    R_x = R_total[:N_x]\n",
    "    R_y = R_total[N_x:]\n",
    "\n",
    "    Ravr_x = sum(R_x) / N_x\n",
    "    Ravr_y = sum(R_y) / N_y\n",
    "\n",
    "    Pest = (Ravr_y - Ravr_x) / (N_x + N_y) + 0.5\n",
    "    Pest_2 = ( Ravr_y - 0.5 * (N_y + 1) ) / N_x\n",
    "\n",
    "    Ri_x = scipy.stats.rankdata(x, method='average')\n",
    "    Ri_y = scipy.stats.rankdata(y, method='average')\n",
    "\n",
    "    S2_x = _calc_S2(R_x, Ri_x, Ravr_x)\n",
    "    S2_y = _calc_S2(R_y, Ri_y, Ravr_y)\n",
    "\n",
    "    W = ((N_x * N_y) * (Ravr_y - Ravr_x)) / ((N_x + N_y) * math.sqrt(N_x * S2_x + N_y * S2_y))\n",
    "\n",
    "    nS2_x = N_x * S2_x\n",
    "    nS2_y = N_y * S2_y\n",
    "\n",
    "    f_hat_num = (nS2_x + nS2_y) * (nS2_x + nS2_y)\n",
    "    f_hat_den = (nS2_x * nS2_x) / (N_x - 1) + (nS2_y * nS2_y) / (N_y - 1)\n",
    "    f_hat = f_hat_num / f_hat_den\n",
    "\n",
    "    int_t = scipy.stats.t.ppf(1 - (alpha/2), f_hat) * math.sqrt((S2_x / (N_x * N_y * N_y)) + (S2_y / (N_x * N_x * N_y)))\n",
    "    C_l = Pest - int_t\n",
    "    C_h = Pest + int_t\n",
    "\n",
    "    if ttype < 0:\n",
    "        p_value = scipy.stats.t.cdf(W, f_hat)\n",
    "    elif ttype > 0:\n",
    "        p_value = 1 - scipy.stats.t.cdf(W, f_hat)\n",
    "    else:\n",
    "        pt_g = scipy.stats.t.cdf(abs(W), f_hat)\n",
    "        pt_l = 1 - scipy.stats.t.cdf(abs(W), f_hat)\n",
    "        if pt_g < pt_l:\n",
    "            p_value = 2 * pt_g\n",
    "        else:\n",
    "            p_value = 2 * pt_l\n",
    "    plus_minus = round(C_h, 3) - round(Pest, 3)\n",
    "\n",
    "    print(f\"Brunner-Munzel teststatistikk:{round(W, 3)} \\np-verdi:{p_value} \\nCL effektstørrelse = G1: {round((1-Pest_2), 3)} / G2: {round(Pest, 3)}  \\n95% konfidensintervall: ±{round(plus_minus, 3)} (lav = {round(C_l, 3)}, høy = {round(C_h, 3)}) \\nfrihetsgrad:{f_hat} \")\n",
    "\n",
    "#runnermunzel_test(cis_heterofile.Bib_pleier_ha.dropna(), alle_skeive.Bib_pleier_ha.dropna(), ttype=0, alpha=0.05)"
   ]
  },
  {
   "cell_type": "code",
   "execution_count": 76,
   "metadata": {
    "tags": []
   },
   "outputs": [],
   "source": [
    "#kruskal_wallis is similar to mannwhitneyu, but allows for comparison between more than two groups. \n",
    "#This test is used on group dataframes to determine whether there may be differences worth investigating more closely (p < .05). \n",
    "\n",
    "def kruskal_wallis(group_dict, column_name):\n",
    "    things_to_compare = []\n",
    "    for group in group_dict.values():\n",
    "        column = group[column_name].dropna().values\n",
    "        things_to_compare.append(column)\n",
    "    h, kp = stats.mstats.kruskalwallis(*things_to_compare)\n",
    "    print(f\"Kruskal-Wallis H statistic: {h}, p-value: {kp}\")\n",
    "\n",
    "#Un-comment & run for an example\n",
    "#kruskal_wallis(overall_groups, \"Bib_pleier_ha\")"
   ]
  },
  {
   "cell_type": "code",
   "execution_count": 77,
   "metadata": {
    "tags": []
   },
   "outputs": [],
   "source": [
    "#Returns the Mann-Whitney U statistic converted into the common language effect size (CLES) \n",
    "#in order to check & confirm results of the Brunner-Munzel test, which should be similar if not identical.\n",
    "\n",
    "def mannwhitneyu_norm(a, b):\n",
    "    a = a.dropna()\n",
    "    b = b.dropna()\n",
    "    u, p = stats.mannwhitneyu(a, b, alternative='two-sided')\n",
    "    return f'Common language effect size: {u / ( len(a) * len(b)):.1%}, p-value: {p}'\n",
    "\n",
    "#Un-comment & run for an example\n",
    "#mannwhitneyu_norm(alle_skeive.Bib_pleier_ha, cis_heterofile.Bib_pleier_ha)"
   ]
  },
  {
   "cell_type": "code",
   "execution_count": 78,
   "metadata": {
    "tags": []
   },
   "outputs": [],
   "source": [
    "# def mann_whitney(group_dict, column_name):\n",
    "#     things_to_compare = []\n",
    "#     for group in group_dict.values():\n",
    "#         column = group[column_name].dropna().values\n",
    "#         things_to_compare.append(column)\n",
    "#     u, p = stats.mannwhitneyu(*things_to_compare)\n",
    "#     return u, p\n",
    "\n",
    "# mann_whitney(overall_groups, \"Rep_matters_all\")"
   ]
  },
  {
   "cell_type": "markdown",
   "metadata": {},
   "source": [
    "## Plotting"
   ]
  },
  {
   "cell_type": "code",
   "execution_count": 79,
   "metadata": {},
   "outputs": [],
   "source": [
    "# set the default color map to 'Spectral' (rainbow)\n",
    "#mpl.rc('image', cmap='Spectral')"
   ]
  },
  {
   "cell_type": "code",
   "execution_count": 80,
   "metadata": {},
   "outputs": [],
   "source": [
    "mycolors = \"Crimson\", \"DarkOrange\", \"Gold\", \"YellowGreen\", \"LightSeaGreen\", \"RoyalBlue\", \"RebeccaPurple\"\n",
    "#DarkOrange can be replaced with \"#F77B00\" to create more distinct contrast for some colorblind viewers."
   ]
  },
  {
   "cell_type": "code",
   "execution_count": 81,
   "metadata": {},
   "outputs": [],
   "source": [
    "#Plots group tilfredshet histograms\n",
    "def plot_tilfredshet(name, tilfredshet):\n",
    "    \"\"\"Plot overall tilfredshet\"\"\"\n",
    "    cm = mpl.cm.Spectral\n",
    "    # drop missing answers\n",
    "    tilfredshet = tilfredshet.dropna()\n",
    "    # create\n",
    "    n, bins, patches = plt.hist(tilfredshet, np.arange(1, 9))\n",
    "    # set the rainbow colors ourselves\n",
    "    for i, bin, p in zip(range(len(bins)), bins, patches):\n",
    "        # this is where we pick colors\n",
    "        # to use our own color list, replace cm(...) with mycolors[i]\n",
    "        #plt.setp(p, \"facecolor\", cm(bin / 7))\n",
    "        plt.setp(p, \"facecolor\", mycolors[i])\n",
    "\n",
    "    # shift xticks to center on bars\n",
    "    values = np.arange(1, 8)\n",
    "    plt.xticks(values + 0.5, values)\n",
    "    \n",
    "    # calculate some summary statistics to put in the title\n",
    "    negative_percent = 100 * (tilfredshet < 4).mean()\n",
    "    neutral = 100 * (tilfredshet == 4).mean()\n",
    "    positive_percent = 100 * (tilfredshet > 4).mean()\n",
    "    mean = tilfredshet.mean()\n",
    "\n",
    "    plt.title(\n",
    "        f\"{name} ({len(tilfredshet)}) mean={tilfredshet.mean():.1f}, pos={positive_percent:.0f}%, neg={negative_percent:.0f}%\"\n",
    "    )\n",
    "    plt.grid(False)"
   ]
  },
  {
   "cell_type": "code",
   "execution_count": null,
   "metadata": {},
   "outputs": [],
   "source": []
  },
  {
   "cell_type": "code",
   "execution_count": null,
   "metadata": {},
   "outputs": [],
   "source": []
  },
  {
   "cell_type": "code",
   "execution_count": 82,
   "metadata": {},
   "outputs": [],
   "source": [
    "add_gender_weight(ch[\"Cishetero \\nrespondenter\"])\n",
    "add_age_weight(ch[\"Cishetero \\nrespondenter\"])"
   ]
  },
  {
   "cell_type": "code",
   "execution_count": 83,
   "metadata": {},
   "outputs": [
    {
     "data": {
      "image/png": "[encoded data removed]",
      "text/plain": [
       "<Figure size 1440x720 with 1 Axes>"
      ]
     },
     "metadata": {
      "needs_background": "light"
     },
     "output_type": "display_data"
    }
   ],
   "source": [
    "#stacked histogram of group tilfredshet\n",
    "\n",
    "def plot_group_tilfredshet(groups, plot_all=True, rotation=None, normalize=True, title=\"Title\"):\n",
    "    \"\"\"Plot tilfredshet histograms for groups\n",
    "    \n",
    "    Each group gets a histogram of responses\n",
    "    \n",
    "    Then, a single plot shows all histograms on a single stacked bar chart\n",
    "    (same information, but denser)\n",
    "    \"\"\"\n",
    "    fractions = {}\n",
    "    if isinstance(groups, dict):\n",
    "        iterable = groups.items()\n",
    "        group_order = list(groups)\n",
    "        \n",
    "    else:\n",
    "        iterable = groups.Overall_tilfredshet\n",
    "        group_order = None\n",
    "    \n",
    "    for name, group in sorted(\n",
    "        iterable,\n",
    "        key=lambda name_s: len(name_s[1]),\n",
    "        reverse=True,\n",
    "    ):\n",
    "        if isinstance(groups, dict):\n",
    "            tilfredshet = group.Overall_tilfredshet\n",
    "        else:\n",
    "            tilfredshet = group\n",
    "        if plot_all:\n",
    "            plt.figure()\n",
    "            plot_tilfredshet(name, tilfredshet)\n",
    "        if \"gender_weight\" in group.columns:\n",
    "            weighted_fractions = group.groupby(\"Overall_tilfredshet\").gender_weight.sum()\n",
    "            weighted_fractions /= weighted_fractions.sum()\n",
    "            weighted_name = name + \" \\n(vektet etter kjønn)\"\n",
    "            fractions[weighted_name] = weighted_fractions\n",
    "            group_order.insert(group_order.index(name)+1, weighted_name)\n",
    "        if \"age_weight\" in group.columns:\n",
    "            weighted_fractions = group.groupby(\"Overall_tilfredshet\").age_weight.sum()\n",
    "            weighted_fractions /= weighted_fractions.sum()\n",
    "            weighted_name = name + \" \\n(vektet etter alder)\"\n",
    "            fractions[weighted_name] = weighted_fractions\n",
    "            group_order.insert(group_order.index(name), weighted_name)\n",
    "        #else:\n",
    "        fractions[name] = tilfredshet.value_counts(normalize=normalize)\n",
    "            \n",
    "        \n",
    "    #cmap = mpl.cm.get_cmap(\"Spectral\", 7)\n",
    "    fraction_df = pd.DataFrame.from_dict(fractions, orient=\"index\")\n",
    "    fraction_df = fraction_df.reindex(sorted(fraction_df.columns.astype(int)), axis=1)\n",
    "    if group_order: \n",
    "        fraction_df = fraction_df.reindex(group_order)\n",
    "    ax = fraction_df.plot(kind='bar', stacked=True, width = .6, color=mycolors, figsize=(20, 10))\n",
    "    plt.legend(fraction_df.columns[::-1])\n",
    "    handles, labels = ax.get_legend_handles_labels()\n",
    "    labels = [\"1 (Ikke i det hele tatt)\", \"2\", \"3\", \"4 (Nøytral)\", \"5\", \"6\", \"7 (I svært stor grad)\"]\n",
    "    ax.legend(reversed(handles), reversed(labels), title=None, bbox_to_anchor=(1, 1.015), loc='upper left', fontsize='xx-large')\n",
    "    plt.grid(False, axis='x')\n",
    "    plt.grid(True, axis='y')\n",
    "    marks = [0, 0.1, 0.2, 0.3, 0.4, 0.5, 0.6, 0.7, 0.8, 0.9, 1]\n",
    "    #marks = [0, 30, 60, 90, 120, 150, 180, 210]\n",
    "    labels = [f\"{int(i * 100)}%\" for i in marks]\n",
    "    #labels = [i for i in marks]\n",
    "    plt.yticks(marks, labels)\n",
    "    plt.xticks(rotation=rotation)\n",
    "    plt.title(title)\n",
    "#   print(fraction_df)\n",
    "    \n",
    "#AskMin\n",
    "plot_group_tilfredshet(cis_LGBQA_groups, normalize = True, plot_all=False)\n",
    "#plt.ylim(0, 1)"
   ]
  },
  {
   "cell_type": "markdown",
   "metadata": {},
   "source": [
    "Analysis : Could make several charts with weighted queer group to show that weighting doesn't significantly change the results — weighting isn't possible for this group, but this shows that it wouldn't have a large impact anyway. \n"
   ]
  },
  {
   "cell_type": "markdown",
   "metadata": {},
   "source": [
    "# I made a function!"
   ]
  },
  {
   "cell_type": "code",
   "execution_count": 84,
   "metadata": {
    "tags": []
   },
   "outputs": [],
   "source": [
    "def plot_some_lines(put_df_here, column_name, kind=\"line\", **kwargs):\n",
    "    value_counts = put_df_here.groupby(\"group\")[column_name].value_counts(normalize = True).unstack()\n",
    "    if kind==\"line\":\n",
    "        value_counts = value_counts.transpose()\n",
    "    thicc=value_counts.plot(kind=kind, color=mycolors, **kwargs)\n",
    "    for line in thicc.get_lines():\n",
    "        line.set_linewidth(4)\n",
    "        \n",
    "def plot_some_lines_and_bars_too(put_df_here, column_name, rotation=None, labels=None):\n",
    "    fig, axs = plt.subplots(1, 3, figsize=(15, 5), constrained_layout=True, sharey=True)\n",
    "    plot_some_lines(put_df_here, column_name, ax=axs[0])\n",
    "    plot_some_lines(put_df_here, column_name, kind=\"bar\", ax=axs[1]) \n",
    "    plot_some_lines(put_df_here, column_name, kind=\"bar\", stacked = True, ax=axs[2]) \n",
    "    if rotation is not None: \n",
    "        axs[1].set_xticklabels(axs[1].get_xticklabels(), rotation=rotation)\n",
    "        axs[2].set_xticklabels(axs[2].get_xticklabels(), rotation=rotation)\n",
    "    \n",
    "    handles, labels = axs[1].get_legend_handles_labels()\n",
    "    #axs[1].legend(handles[::-1], labels[::-1], title=None, bbox_to_anchor=(1.05, 1), loc='upper left')\n",
    "    axs[1].legend(handles[::-1], labels=labels, title=None, bbox_to_anchor=(1.05, 1), loc='upper left')\n",
    "    axs[2].legend().remove()\n",
    "    \n",
    "    \n",
    "    # Put in instead of \"labels[::-1]\" — [\"Svært enig\", \"Litt enig\", \"Nøytral\", \"Litt uenig\", \"Svært uenig\"]\n",
    "    \n",
    "# plot_some_lines_and_bars_too(chcsts_df, \"utrygt\", rotation=0)\n",
    "#plot_some_lines(synlighet_df, \"Valgt_andre_bib\")"
   ]
  },
  {
   "cell_type": "code",
   "execution_count": 85,
   "metadata": {},
   "outputs": [],
   "source": [
    "#labels = list(results.keys())\n",
    "#data = np.array(list(np.array(r) for r in results.values()))\n",
    "#data_cum = data.cumsum(axis=1)\n",
    "#data\n"
   ]
  },
  {
   "cell_type": "markdown",
   "metadata": {},
   "source": [
    "# Plotting answers to Likert-scale agree/disagree questions\n"
   ]
  },
  {
   "cell_type": "code",
   "execution_count": null,
   "metadata": {
    "tags": []
   },
   "outputs": [],
   "source": [
    "\n"
   ]
  },
  {
   "cell_type": "code",
   "execution_count": 86,
   "metadata": {
    "tags": []
   },
   "outputs": [],
   "source": [
    "# Making a horizontal bar graph for agree - disagree questions\n",
    "\n",
    "enighetsskala = [\"Svært uenig\", \"Litt uenig\", \"Nøytral\", \"Litt enig\", \"Svært enig\",]\n",
    "hyppighetsskala = [\"Aldri\", \"Sjeldent\", \"Noen ganger\", \"Ofte\", \"Hver gang\",]\n",
    "hendelsesskala = [\"Aldri\", \"Kun under Pride\", \"Et par ganger\", \"Noen ganger\", \"Mange ganger\",]\n",
    "viktighetsskala = [\"Ikke viktig i det hele tatt\", \"Ikke så viktig\", \"Nøytral / ingen mening\", \"Litt viktig\", \"Svært viktig\",]\n",
    "holdningsskala = [\"Svært negativ\", \"Litt negativ\", \"Nøytral\", \"Litt positiv\", \"Svært positiv\",]\n",
    "\n",
    "scales = {\n",
    "    'UV' : hendelsesskala,\n",
    "    'UBU' : hendelsesskala,\n",
    "    'Andre_temaer' : hendelsesskala,\n",
    "    'Arr' : hendelsesskala,\n",
    "    \n",
    "    'utlan' : hyppighetsskala,\n",
    "    'bla_i' : hyppighetsskala,\n",
    "    'datamaskin' : hyppighetsskala,\n",
    "    'still_spm' : hyppighetsskala,\n",
    "    'utrygt' : hyppighetsskala,\n",
    "    'm_med_respekt' : hyppighetsskala,\n",
    "    \n",
    "    'Holdning_UV' : holdningsskala,\n",
    "    'Holdning_UBU' : holdningsskala,\n",
    "    'Holdning_Andre_temaer' : holdningsskala,\n",
    "    'Holdning_Arr' : holdningsskala,\n",
    "    \n",
    "    'Mer_skj_item' : viktighetsskala,\n",
    "    'Mer_skj_skaper' : viktighetsskala,\n",
    "    'Mer_skj_mangfold' : viktighetsskala,\n",
    "    'Mer_faglitt' : viktighetsskala,\n",
    "    'Mer_BU' : viktighetsskala,\n",
    "    'Bedre_gjenfinning' : viktighetsskala,\n",
    "    'Info' : viktighetsskala,\n",
    "    'Kompetanseheving' : viktighetsskala,\n",
    "    'Apne_ansatte' : viktighetsskala,\n",
    "    'Tredje_KI' : viktighetsskala,\n",
    "    'Selvbestemt_KID' : viktighetsskala,\n",
    "    'Endre_KID' : viktighetsskala,\n",
    "    'Toaletter' : viktighetsskala,\n",
    "    'Pronomen_bruk' : viktighetsskala,\n",
    "    'Nulltoleranse' : viktighetsskala,\n",
    "    'Skilting' : viktighetsskala,\n",
    "}\n",
    "\n",
    "\n",
    "\n",
    "#     agreement_scale = [\n",
    "#         \"Strongly disagree\",\n",
    "#         \"Somewhat disagree\",\n",
    "#         \"Neutral\",\n",
    "#         \"Somewhat agree\",\n",
    "#         \"Strongly agree\",\n",
    "#     ]\n",
    "\n",
    "# categorical data type for enighet columns\n",
    "# ensures value_counts() returns 0 for categories with no responses\n",
    "enighet_category = pd.CategoricalDtype([-2, -1, 0, 1, 2], ordered=True)\n",
    "\n",
    "\n",
    "def enighet(df, columns, title=None, group_order=None):\n",
    "    \"\"\"\n",
    "\n",
    "    Plot enighet bars for all groups\n",
    "\n",
    "    Parameters\n",
    "    ----------\n",
    "    df : DataFrame (e.g. created with regroup()) or group dict of dataframes\n",
    "    columns : list of str\n",
    "        The column(s) to plot for each group\n",
    "    \"\"\"\n",
    "    if isinstance(columns, str):\n",
    "    # allow columns to be a single column name\n",
    "        columns = [columns]\n",
    "    column = columns[0]   \n",
    "    scale = scales.get(column, enighetsskala)\n",
    "    if title is None:\n",
    "        title = \", \".join(columns)\n",
    "    # create a dict of {'group name': subset_df for just that group}\n",
    "    if isinstance(df, dict):\n",
    "        groups = df\n",
    "    elif \"group\" in df.columns:\n",
    "        groups = {}\n",
    "        for cat in df.group.dtype.categories:\n",
    "            groups[cat] = df[df.group == cat]\n",
    "    else:\n",
    "        # no groups given, use just one group\n",
    "        groups = {\"\": df}\n",
    "\n",
    "    #Different sorting options    \n",
    "    if group_order == 'ce_descending':\n",
    "        def count_enig(key):\n",
    "            series = groups[key][columns[0]]\n",
    "            return 1.0 * (((series == 2).sum()) + (series == 1).sum()) / len(series.dropna())\n",
    "\n",
    "        group_order = sorted(groups.keys(), key=count_enig, reverse=True)\n",
    "        #title = f\"{title}\\n (Sortert etter sterk enighet i synkende rekkefølge)\"\n",
    "    \n",
    "    elif group_order == 'se_descending':\n",
    "        def count_svært_enig(key):\n",
    "            series = groups[key][columns[0]]\n",
    "            return 1.0 * (series == 2).sum() / len(series.dropna())\n",
    "\n",
    "        group_order = sorted(groups.keys(), key=count_svært_enig, reverse=True)\n",
    "        #title = f\"{title}\\n (Sortert etter enighet (litt + svært enig) i synkende rekkefølge)\"\n",
    "    \n",
    "    elif group_order == 'cu_descending':\n",
    "        def count_enig(key):\n",
    "            series = groups[key][columns[0]]\n",
    "            return 1.0 * (((series == -2).sum()) + (series == -1).sum()) / len(series.dropna())\n",
    "\n",
    "        group_order = sorted(groups.keys(), key=count_enig, reverse=True)\n",
    "        #title = f\"{title}\\n (Sortert etter sterk enighet i synkende rekkefølge)\"\n",
    "    \n",
    "    elif group_order == 'su_descending':\n",
    "        def count_svært_enig(key):\n",
    "            series = groups[key][columns[0]]\n",
    "            return 1.0 * (series == -2).sum() / len(series.dropna())\n",
    "\n",
    "        group_order = sorted(groups.keys(), key=count_svært_enig, reverse=True)\n",
    "        #title = f\"{title}\\n (Sortert etter enighet (litt + svært enig) i synkende rekkefølge)\"\n",
    "    \n",
    "    if group_order:\n",
    "        iterable = [(key, groups[key]) for key in group_order]\n",
    "    else:\n",
    "        iterable = groups.items()\n",
    "    \n",
    "    \n",
    "    \n",
    "    # construc the results dict\n",
    "    # with 5 numbers for each combination of group + column\n",
    "    results = {}\n",
    "    nice_column_names = {\n",
    "        \"Jeg bruker ikke folkebibliotek fordi at jeg ikke \\nføler meg velkommen der som en skeiv/LHBTIQ+ person\" : 'Ikke_velkommen',\n",
    "        \"Jeg ville brukt biblioteket om jeg var sikker på \\nat det ville være et trygt rom for meg som skeiv/LHBTIQ+ person\" : 'Trygge_rom_pers_IB',\n",
    "    }\n",
    "    # reorder these `for...` lines to switch whether questions or groups\n",
    "    for column in columns:\n",
    "        for group, group_df in iterable:\n",
    "            nice_column = nice_column_names.get(column, column)\n",
    "            label = group\n",
    "            if len(group_df) <= 20:\n",
    "                label += \"*\"\n",
    "            label = f\"{label} \\n (N={len(group_df[column].dropna())})\"\n",
    "            if len(columns) > 1:\n",
    "                label = f\"{nice_column} {label}\"\n",
    "            # group_df[column] means get that column for that group\n",
    "            # the rest is turn it into 5 numbers for the fractional value counts\n",
    "            results[label] = (\n",
    "                group_df[column]\n",
    "                .astype(enighet_category)\n",
    "                .value_counts(normalize=True)\n",
    "                .sort_index()\n",
    "                .array\n",
    "            )\n",
    "\n",
    "    # from this point on, the rest of the function is unchanged\n",
    "    labels = list(results.keys())\n",
    "    # Line below = \"value counts array\"\n",
    "    data = np.array(list(results.values()))\n",
    "    data_cum = data.cumsum(axis=1)\n",
    "    category_colors = plt.get_cmap(\"RdYlGn\")(np.linspace(0.15, 0.85, data.shape[1]))\n",
    "\n",
    "    fig, ax = plt.subplots(figsize=(15, 8))\n",
    "    ax.title.set_text(title)\n",
    "    ax.invert_yaxis()\n",
    "    ax.xaxis.set_visible(False)\n",
    "    ax.set_xlim(0, np.sum(data, axis=1).max())\n",
    "\n",
    "    for i, (colname, color) in enumerate(zip(scale, category_colors)):\n",
    "        widths = data[:, i]\n",
    "        starts = data_cum[:, i] - widths\n",
    "        ax.barh(labels, widths, left=starts, height=0.5, label=colname, color=color)\n",
    "        xcenters = starts + widths / 2\n",
    "\n",
    "        r, g, b, _ = color\n",
    "        text_color = \"black\"  # if r * g * b < 0.5 else 'darkgrey'\n",
    "        for y, (x, c) in enumerate(zip(xcenters, widths)):\n",
    "            if c > .04:\n",
    "                size=16\n",
    "            elif c < .02:\n",
    "                continue\n",
    "            else:\n",
    "                size=12\n",
    "            ax.text(\n",
    "                    x,\n",
    "                    y,\n",
    "                    str(int(c * 100)) + \"%\",\n",
    "                    ha=\"center\",\n",
    "                    va=\"center\",\n",
    "                    color=text_color, \n",
    "                    size=size\n",
    "            )\n",
    "    ax.legend(\n",
    "        ncol=len(scale),\n",
    "        fancybox=True,\n",
    "        bbox_to_anchor=(0.5, -0.1),\n",
    "        loc=\"lower center\",\n",
    "        fontsize=\"x-large\",\n",
    "    )\n",
    "\n",
    "    return fig, ax\n",
    "\n",
    "\n",
    "cishet_skeive = {\n",
    "    \"cis-heterofile\": cis_heterofile,\n",
    "    \"skeive\": alle_skeive,\n",
    "}\n",
    "cishet_skeive_df = regroup(cishet_skeive)\n",
    "\n",
    "#enighet(gender_stuff_groups, [\"Arr\"], group_order=None)\n",
    "\n",
    "\n"
   ]
  },
  {
   "cell_type": "code",
   "execution_count": 87,
   "metadata": {
    "tags": []
   },
   "outputs": [],
   "source": [
    "# # Making a horizontal bar graph for agree - disagree questions\n",
    "\n",
    "# enighetsskala = [\n",
    "#    \"Svært uenig\",\n",
    "#    \"Litt uenig\",\n",
    "#    \"Nøytral\",\n",
    "#     \"Litt enig\",\n",
    "#     \"Svært enig\",\n",
    "# ]\n",
    "\n",
    "# hyppighetsskala = [\n",
    "#     \"Aldri\",\n",
    "#     \"Sjeldent\",\n",
    "#     \"Noen ganger\",\n",
    "#     \"Ofte\",\n",
    "#     \"Hver gang\",\n",
    "# ]\n",
    "\n",
    "# #     agreement_scale = [\n",
    "# #         \"Strongly disagree\",\n",
    "# #         \"Somewhat disagree\",\n",
    "# #         \"Neutral\",\n",
    "# #         \"Somewhat agree\",\n",
    "# #         \"Strongly agree\",\n",
    "# #     ]\n",
    "\n",
    "# # categorical data type for enighet columns\n",
    "# # ensures value_counts() returns 0 for categories with no responses\n",
    "# enighet_category = pd.CategoricalDtype([-2, -1, 0, 1, 2], ordered=True)\n",
    "\n",
    "\n",
    "# def enighet(df, columns, title=None, group_order=None):\n",
    "#     \"\"\"\n",
    "\n",
    "#     Plot enighet bars for all groups\n",
    "\n",
    "#     Parameters\n",
    "#     ----------\n",
    "#     df : DataFrame (e.g. created with regroup()) or group dict of dataframes\n",
    "#     columns : list of str\n",
    "#         The column(s) to plot for each group\n",
    "#     \"\"\"\n",
    "#     if isinstance(columns, str):\n",
    "#     # allow columns to be a single column name\n",
    "#         columns = [columns]\n",
    "\n",
    "#     if title is None:\n",
    "#         title = \", \".join(columns)\n",
    "#     # create a dict of {'group name': subset_df for just that group}\n",
    "#     if isinstance(df, dict):\n",
    "#         groups = df\n",
    "#     elif \"group\" in df.columns:\n",
    "#         groups = {}\n",
    "#         for cat in df.group.dtype.categories:\n",
    "#             groups[cat] = df[df.group == cat]\n",
    "#     else:\n",
    "#         # no groups given, use just one group\n",
    "#         groups = {\"\": df}\n",
    "\n",
    "#     #Different sorting options    \n",
    "#     if group_order == 'ce_descending':\n",
    "#         def count_enig(key):\n",
    "#             series = groups[key][columns[0]]\n",
    "#             return 1.0 * (((series == 2).sum()) + (series == 1).sum()) / len(series.dropna())\n",
    "\n",
    "#         group_order = sorted(groups.keys(), key=count_enig, reverse=True)\n",
    "#         #title = f\"{title}\\n (Sortert etter sterk enighet i synkende rekkefølge)\"\n",
    "    \n",
    "#     elif group_order == 'se_descending':\n",
    "#         def count_svært_enig(key):\n",
    "#             series = groups[key][columns[0]]\n",
    "#             return 1.0 * (series == 2).sum() / len(series.dropna())\n",
    "\n",
    "#         group_order = sorted(groups.keys(), key=count_svært_enig, reverse=True)\n",
    "#         #title = f\"{title}\\n (Sortert etter enighet (litt + svært enig) i synkende rekkefølge)\"\n",
    "    \n",
    "#     elif group_order == 'cu_descending':\n",
    "#         def count_enig(key):\n",
    "#             series = groups[key][columns[0]]\n",
    "#             return 1.0 * (((series == -2).sum()) + (series == -1).sum()) / len(series.dropna())\n",
    "\n",
    "#         group_order = sorted(groups.keys(), key=count_enig, reverse=True)\n",
    "#         #title = f\"{title}\\n (Sortert etter sterk enighet i synkende rekkefølge)\"\n",
    "    \n",
    "#     elif group_order == 'su_descending':\n",
    "#         def count_svært_enig(key):\n",
    "#             series = groups[key][columns[0]]\n",
    "#             return 1.0 * (series == -2).sum() / len(series.dropna())\n",
    "\n",
    "#         group_order = sorted(groups.keys(), key=count_svært_enig, reverse=True)\n",
    "#         #title = f\"{title}\\n (Sortert etter enighet (litt + svært enig) i synkende rekkefølge)\"\n",
    "    \n",
    "#     if group_order:\n",
    "#         iterable = [(key, groups[key]) for key in group_order]\n",
    "#     else:\n",
    "#         iterable = groups.items()\n",
    "    \n",
    "    \n",
    "    \n",
    "#     # construc the results dict\n",
    "#     # with 5 numbers for each combination of group + column\n",
    "#     results = {}\n",
    "#     nice_column_names = {\n",
    "#         \"Jeg bruker ikke folkebibliotek fordi at jeg ikke \\nføler meg velkommen der som en skeiv/LHBTIQ+ person\" : 'Ikke_velkommen',\n",
    "#         \"Jeg ville brukt biblioteket om jeg var sikker på \\nat det ville være et trygt rom for meg som skeiv/LHBTIQ+ person\" : 'Trygge_rom_pers_IB',\n",
    "#     }\n",
    "#     # reorder these `for...` lines to switch whether questions or groups\n",
    "#     for column in columns:\n",
    "#         for group, group_df in iterable:\n",
    "#             nice_column = nice_column_names.get(column, column)\n",
    "#             label = group\n",
    "#             if len(group_df) <= 20:\n",
    "#                 label += \"*\"\n",
    "#             label = f\"{label} \\n (N={len(group_df[column].dropna())})\"\n",
    "#             if len(columns) > 1:\n",
    "#                 label = f\"{nice_column} {label}\"\n",
    "#             # group_df[column] means get that column for that group\n",
    "#             # the rest is turn it into 5 numbers for the fractional value counts\n",
    "#             results[label] = (\n",
    "#                 group_df[column]\n",
    "#                 .astype(enighet_category)\n",
    "#                 .value_counts(normalize=True)\n",
    "#                 .sort_index()\n",
    "#                 .array\n",
    "#             )\n",
    "\n",
    "#     # from this point on, the rest of the function is unchanged\n",
    "#     labels = list(results.keys())\n",
    "#     # Line below = \"value counts array\"\n",
    "#     data = np.array(list(results.values()))\n",
    "#     data_cum = data.cumsum(axis=1)\n",
    "#     category_colors = plt.get_cmap(\"RdYlGn\")(np.linspace(0.15, 0.85, data.shape[1]))\n",
    "\n",
    "#     fig, ax = plt.subplots(figsize=(15, 8))\n",
    "#     ax.title.set_text(title)\n",
    "#     ax.invert_yaxis()\n",
    "#     ax.xaxis.set_visible(False)\n",
    "#     ax.set_xlim(0, np.sum(data, axis=1).max())\n",
    "\n",
    "#     for i, (colname, color) in enumerate(zip(enighetsskala, category_colors)):\n",
    "#         widths = data[:, i]\n",
    "#         starts = data_cum[:, i] - widths\n",
    "#         ax.barh(labels, widths, left=starts, height=0.5, label=colname, color=color)\n",
    "#         xcenters = starts + widths / 2\n",
    "\n",
    "#         r, g, b, _ = color\n",
    "#         text_color = \"black\"  # if r * g * b < 0.5 else 'darkgrey'\n",
    "#         for y, (x, c) in enumerate(zip(xcenters, widths)):\n",
    "#             if c > .04:\n",
    "#                 size=16\n",
    "#             elif c < .02:\n",
    "#                 continue\n",
    "#             else:\n",
    "#                 size=12\n",
    "#             ax.text(\n",
    "#                     x,\n",
    "#                     y,\n",
    "#                     str(int(c * 100)) + \"%\",\n",
    "#                     ha=\"center\",\n",
    "#                     va=\"center\",\n",
    "#                     color=text_color, \n",
    "#                     size=size\n",
    "#             )\n",
    "#     ax.legend(\n",
    "#         ncol=len(enighetsskala),\n",
    "#         fancybox=True,\n",
    "#         bbox_to_anchor=(0.5, -0.1),\n",
    "#         loc=\"lower center\",\n",
    "#         fontsize=\"x-large\",\n",
    "#     )\n",
    "\n",
    "#     return fig, ax\n",
    "\n",
    "\n",
    "# cishet_skeive = {\n",
    "#     \"cis-heterofile\": cis_heterofile,\n",
    "#     \"skeive\": alle_skeive,\n",
    "# }\n",
    "# cishet_skeive_df = regroup(cishet_skeive)\n",
    "\n",
    "# enighet(gender_stuff_groups, [\"Minoritetsstress_brukere\"], group_order=None)"
   ]
  },
  {
   "cell_type": "code",
   "execution_count": 88,
   "metadata": {},
   "outputs": [],
   "source": [
    "#enighet(queer_non_users, [\"Trygge_rom_pers_IB\", \"Ikke_velkommen\"], group_order=None)"
   ]
  },
  {
   "cell_type": "code",
   "execution_count": 89,
   "metadata": {},
   "outputs": [],
   "source": [
    "def plot_group_column(groups, column=\"Overall_tilfredshet\", plot_all=True, rotation=None, low_is_bad=True, group_order=None, title=\"title\", labels=[\"1 (Ikke i det \\n   hele tatt)\", \"2\", \"3\", \"4 (Nøytral)\", \"5\", \"6\", \"7 (I svært \\n   stor grad)\"]):\n",
    "\n",
    "    counts = {}\n",
    "    \n",
    "    fractions = {}\n",
    "    if isinstance(groups, dict):\n",
    "        iterable = groups.items()\n",
    "        group_order = list(groups)\n",
    "        \n",
    "    else:\n",
    "        iterable = groups[column]\n",
    "    \n",
    "    for name, group in sorted(\n",
    "        iterable,\n",
    "        key=lambda name_s: len(name_s[1]),\n",
    "        reverse=True,\n",
    "    ):\n",
    "        if isinstance(groups, dict):\n",
    "            series = group[column]\n",
    "        else:\n",
    "            series = group\n",
    "        counts[name] = len(series.dropna())\n",
    "        if len(series.dropna()):    \n",
    "            fractions[name] = series.value_counts(normalize=True)\n",
    "        else:\n",
    "            if group_order: \n",
    "                group_order.remove(name)\n",
    "        \n",
    "    #cmap = mpl.cm.get_cmap(\"Spectral\", 7)\n",
    "    fraction_df = pd.DataFrame.from_dict(fractions, orient=\"index\")\n",
    "    fraction_df = fraction_df.reindex(sorted(fraction_df.columns.astype(int)), axis=1)\n",
    "    if group_order: \n",
    "        fraction_df = fraction_df.reindex(group_order)\n",
    "    if low_is_bad:\n",
    "        colors=mycolors\n",
    "    else:\n",
    "        colors=mycolors[::-1]\n",
    "    ax = fraction_df.plot(kind='bar', stacked=True, color=colors)\n",
    "    plt.legend(fraction_df.columns[::-1])\n",
    "    handles, existing_labels = ax.get_legend_handles_labels() \n",
    "    ax.legend(reversed(handles), reversed(labels), title=None, fontsize='x-large', bbox_to_anchor=(1.015, 1.015), loc='upper left')\n",
    "    plt.grid(False, axis='x')\n",
    "    plt.grid(True, axis='y')\n",
    "    marks = [0, 0.1, 0.2, 0.3, 0.4, 0.5, 0.6, 0.7, 0.8, 0.9, 1]\n",
    "    labels = [f\"{int(i * 100)}%\" for i in marks]\n",
    "    plt.yticks(marks, labels)\n",
    "    xlabels=[]\n",
    "    for name in group_order:\n",
    "        xlabels.append(f\"{name} \\n (N={counts[name]})\")\n",
    "    locs, labels = plt.xticks()  # Get the current locations and labels.\n",
    "    plt.xticks(locs, xlabels, rotation=rotation)\n",
    "    plt.title(title)\n",
    "#   print(fraction_df)\n",
    "\n",
    "#plot_group_column(all_the_queers, column=\"Alltid_velkommen\", plot_all=True, rotation=None, low_is_bad=True, group_order=None, title=\"title\", labels=[\"1 (Ikke i det hele tatt)\", \"2\", \"3\", \"4 (Nøytral)\", \"5\", \"6\", \"7 (I svært stor grad)\"])\n",
    "\n"
   ]
  },
  {
   "cell_type": "code",
   "execution_count": 90,
   "metadata": {},
   "outputs": [],
   "source": [
    "orientation_names ={\n",
    "    \"Ace\" : \"Ace-spekter\",\n",
    "    \"LG\" : \"Homofil eller lesbisk\",\n",
    "    \"Bi\" : \"Ikke-monoseksuell \\n (bifil, panfil mm.)\",\n",
    "    \"Fluid\" : \"Flytende\",\n",
    "    \"Het\" : \"Heterofil\",\n",
    "    \"Q\" : \"Skeiv\",\n",
    "    \"SU\" : \"Søkende/usikker\",\n",
    "    \"NONE\" : \"Ingen av svaralternativene passer\"\n",
    "}\n",
    "\n",
    "\n",
    "def orientation_venn(O1=\"Ace\", O2=\"Bi\", O3=\"LG\"):\n",
    "    O1_venn = sum(df.Seksuell_orientering.str.contains(O1))\n",
    "    O2_venn = sum(df.Seksuell_orientering.str.contains(O2))\n",
    "    top_int = (df.Seksuell_orientering.str.contains(O1) & df.Seksuell_orientering.str.contains(O2)).sum()\n",
    "    if O3:\n",
    "        left_int = (df.Seksuell_orientering.str.contains(O1) & df.Seksuell_orientering.str.contains(O3)).sum()\n",
    "        right_int = (df.Seksuell_orientering.str.contains(O2) & df.Seksuell_orientering.str.contains(O3)).sum()\n",
    "        middle_int = (df.Seksuell_orientering.str.contains(O2) & df.Seksuell_orientering.str.contains(O3) & df.Seksuell_orientering.str.contains(O1)).sum()\n",
    "        O3_venn = sum(df.Seksuell_orientering.str.contains(O3))\n",
    "\n",
    "    plt.figure(figsize=(10,10))\n",
    "    \n",
    "    if not O3:\n",
    "        c = venn2(subsets = (O1_venn, O2_venn, top_int), alpha = 0.7, set_labels = (orientation_names[O] for O in (O1, O2)))\n",
    "        c.get_patch_by_id('10').set_color('Crimson')\n",
    "        c.get_patch_by_id('01').set_color('Gold')\n",
    "        c.get_patch_by_id('11').set_color('DarkOrange')\n",
    "    else:\n",
    "        c = venn3(subsets = (O1_venn, O2_venn, top_int, O3_venn, left_int, right_int, middle_int), alpha = 0.7, set_labels = (orientation_names[O] for O in (O1, O2, O3))) # 7-element list of subset sizes\n",
    "        c.get_patch_by_id('100').set_color('Crimson')\n",
    "        c.get_patch_by_id('010').set_color('Gold')\n",
    "        c.get_patch_by_id('001').set_color('RoyalBlue')\n",
    "        patch = c.get_patch_by_id('110')\n",
    "        if patch:\n",
    "            patch.set_color('DarkOrange')\n",
    "        patch = c.get_patch_by_id('011')\n",
    "        if patch:\n",
    "            patch.set_color('YellowGreen')\n",
    "        patch = c.get_patch_by_id('101')\n",
    "        if patch:\n",
    "            patch.set_color('RebeccaPurple')\n",
    "        patch = c.get_patch_by_id('111')\n",
    "        if patch:\n",
    "            patch.set_color('RosyBrown')\n",
    "\n",
    "    #c.get_patch_by_id('01').set_alpha(1.3)\n",
    "    plt.title(\"Overlappende orienteringer \\n\", fontsize=20)\n",
    "    for text in c.set_labels:\n",
    "        if text:\n",
    "            text.set_fontsize(18)\n",
    "    for text in c.subset_labels:\n",
    "        if text:\n",
    "            text.set_fontsize(18)\n",
    "    plt.show()\n",
    "    #the first element is the size of the set on the left\n",
    "    #the second element is the size of the set on the right\n",
    "    #the third element is the size of the overlap between the left and right sets\n",
    "    #the fourth element is the size of the set on the bottom\n",
    "    #the fifth element is the size of the overlap between the left and bottom sets\n",
    "    #the sixth element is the size of the overlap between the right and bottom sets\n",
    "    #and the seventh element is the size of the overlap between all three sets.\n",
    "    \n",
    "    #To adjust the labels in the venn:\n",
    "    #c.get_label_by_id(\"011\").set_x(0.08)\n",
    "    #c.get_label_by_id(\"100\").set_x(-0.4)\n",
    "    #c.get_label_by_id(\"100\").set_y(0.2)\n",
    "    #c.get_label_by_id(\"010\").set_y(0.3)\n",
    "    #c.get_label_by_id(\"010\").set_x(0.25)\n",
    "    #c.get_label_by_id(\"001\").set_x(-0.1)\n",
    "    #c.get_label_by_id(\"001\").set_y(-0.4)\n",
    "    #c.get_label_by_id(\"101\").set_y(0.005)\n",
    "    #c.get_label_by_id(\"111\").set_x(-0.145)\n",
    "    #c.get_label_by_id(\"111\").set_y(0.03)\n",
    "    \n",
    "#orientation_venn(\"Q\", \"Bi\", \"Ace\")"
   ]
  },
  {
   "cell_type": "code",
   "execution_count": 91,
   "metadata": {},
   "outputs": [],
   "source": [
    "# # Making a horizontal bar graph that works for all questions and multiple questions OR multiple groups\n",
    "\n",
    "# #category of scale\n",
    "# five_pt = pd.CategoricalDtype([-2, -1, 0, 1, 2], ordered=True)\n",
    "# seven_pt = pd.CategoricalDtype([1, 2, 3, 4, 5, 6, 7], ordered=True)\n",
    "\n",
    "# #scale (labels for legend)\n",
    "# enighetsskala = [\"Svært uenig\", \"Litt uenig\", \"Nøytral\", \"Litt enig\", \"Svært enig\",]\n",
    "# hyppighetsskala = [\"Aldri\", \"Sjeldent\", \"Noen ganger\", \"Ofte\", \"Hver gang\",]\n",
    "# hendelsesskala = [\"Aldri\", \"Kun under Pride\", \"Et par ganger\", \"Noen ganger\", \"Mange ganger\",]\n",
    "# viktighetsskala = [\"Ikke viktig i det hele tatt\", \"Ikke så viktig\", \"Nøytral / ingen mening\", \"Litt viktig\", \"Svært viktig\",]\n",
    "# holdningsskala = [\"Svært negativ\", \"Litt negativ\", \"Nøytral\", \"Litt positiv\", \"Svært positiv\",]\n",
    "# tilfredshetsskala = [\"Ikke i det \\nhele tatt\", \"2\", \"3\", \"Nøytral\", \"5\", \"6\", \"I svært \\nstor grad\"]\n",
    "\n",
    "# scales = {\n",
    "#     'UV' : (hendelsesskala, five_pt),\n",
    "#     'UBU' : (hendelsesskala, five_pt),\n",
    "#     'Andre_temaer' : (hendelsesskala, five_pt),\n",
    "#     'Arr' : (hendelsesskala, five_pt),\n",
    "    \n",
    "#     'utlan' : (hyppighetsskala, five_pt),\n",
    "#     'bla_i' : (hyppighetsskala, five_pt),\n",
    "#     'datamaskin' : (hyppighetsskala, five_pt),\n",
    "#     'still_spm' : (hyppighetsskala, five_pt),\n",
    "#     'utrygt' : (hyppighetsskala, five_pt),\n",
    "#     'm_med_respekt' : (hyppighetsskala, five_pt),\n",
    "    \n",
    "#     'Holdning_UV' : (holdningsskala, five_pt),\n",
    "#     'Holdning_UBU' : (holdningsskala, five_pt),\n",
    "#     'Holdning_Andre_temaer' : (holdningsskala, five_pt),\n",
    "#     'Holdning_Arr' : (holdningsskala, five_pt),\n",
    "    \n",
    "#     'Mer_skj_item' : (holdningsskala, five_pt),\n",
    "#     'Mer_skj_skaper' : (holdningsskala, five_pt),\n",
    "#     'Mer_skj_mangfold' : (holdningsskala, five_pt),\n",
    "#     'Mer_faglitt' : (holdningsskala, five_pt),\n",
    "#     'Mer_BU' : (holdningsskala, five_pt),\n",
    "#     'Bedre_gjenfinning' : (holdningsskala, five_pt),\n",
    "#     'Info' : (holdningsskala, five_pt),\n",
    "#     'Kompetanseheving' : (holdningsskala, five_pt),\n",
    "#     'Apne_ansatte' : (holdningsskala, five_pt),\n",
    "#     'Tredje_KI' : (holdningsskala, five_pt),\n",
    "#     'Selvbestemt_KID' : (holdningsskala, five_pt),\n",
    "#     'Endre_KID' : (holdningsskala, five_pt),\n",
    "#     'Toaletter' : (holdningsskala, five_pt),\n",
    "#     'Pronomen_bruk' : (holdningsskala, five_pt),\n",
    "#     'Nulltoleranse' : (holdningsskala, five_pt),\n",
    "#     'Skilting' : (holdningsskala, five_pt),\n",
    "    \n",
    "#     \"Overall_tilfredshet\" : (tilfredshetsskala, seven_pt, True),\n",
    "#     \"Overall_behov_KH\" : (tilfredshetsskala, seven_pt),\n",
    "#     \"Individ_behov_KH\" : (tilfredshetsskala, seven_pt),\n",
    "#     \"Interesse_KH\" : (tilfredshetsskala, seven_pt),\n",
    "#     \"Behov_kompetanseheving\" : (tilfredshetsskala, seven_pt, False),\n",
    "    \n",
    "#     'Utvalg_KID' : (enighetsskala, five_pt, True),\n",
    "#     'Utvalg_Orientering' : (enighetsskala, five_pt, True),\n",
    "#     'Utvalg_Intersex' : (enighetsskala, five_pt, True),\n",
    "#     'Utvalg_lykkelig' : (enighetsskala, five_pt, True),\n",
    "#     'Utvalg_fag' : (enighetsskala, five_pt, True),\n",
    "#     'Aldri_tenkt' : (enighetsskala, five_pt, True),\n",
    "#     'Utrygt_stille_spm' : (enighetsskala, five_pt, True),\n",
    "#     'Rep_matters_B' : (enighetsskala, five_pt, True),\n",
    "#     'Bib_pleier_ha' : (enighetsskala, five_pt, True),\n",
    "#     'Alltid_velkommen' : (enighetsskala, five_pt, True),\n",
    "#     'Trygge_rom_gen_B' : (enighetsskala, five_pt, True),\n",
    "#     'Ingen_rolle' : (enighetsskala, five_pt, True),\n",
    "#     'Ingenting_tilby' : (enighetsskala, five_pt, True),\n",
    "#     'Bibs_ansvar' : (enighetsskala, five_pt, True),\n",
    "#     'Minoritetsstress_ansatte' : (enighetsskala, five_pt, True),\n",
    "#     'Minoritetsstress_brukere' : (enighetsskala, five_pt, True),\n",
    "#     'Lhbtiq_vennlig' : (enighetsskala, five_pt, True),\n",
    "#     'Rom_for_forbedring' : (enighetsskala, five_pt, True),\n",
    "#     'Andre_brukere' : (enighetsskala, five_pt, True),\n",
    "#     'Helt_meg_selv' : (enighetsskala, five_pt, True),\n",
    "#     'Ikke_velkommen' : (enighetsskala, five_pt, True),\n",
    "#     'Ingen_rolle_IB' : (enighetsskala, five_pt, True),\n",
    "#     'Trygge_rom_pers_IB' : (enighetsskala, five_pt, True),\n",
    "#     'Trygge_rom_gen_IB' : (enighetsskala, five_pt, True),\n",
    "#     'Godt_utvalg' : (enighetsskala, five_pt, True),\n",
    "#     'Skeiv_medieforbruk_pos' : (enighetsskala, five_pt, True),\n",
    "#     'Skeiv_medieforbruk_neg' : (enighetsskala, five_pt, True),\n",
    "#     'Rep_matters_IB' : (enighetsskala, five_pt, True),\n",
    "#     'Rep_matters_all' : (enighetsskala, five_pt, True),\n",
    "#     'Trygge_rom_gen_all' :(enighetsskala, five_pt, True),\n",
    "\n",
    "# }\n",
    "\n",
    "# #enighet_category = pd.CategoricalDtype([-2, -1, 0, 1, 2], ordered=True)\n",
    "# #tilfredshet_category = pd.CategoricalDtype([1, 2, 3, 4, 5, 6, 7], ordered=True)\n",
    "\n",
    "\n",
    "# # categorical data type for enighet columns\n",
    "# # ensures value_counts() returns 0 for categories with no responses\n",
    "\n",
    "\n",
    "# def hbar_scales(df, columns, title=None, group_order=None):\n",
    "#     \"\"\"\n",
    "\n",
    "#     Plot enighet bars for all groups\n",
    "\n",
    "#     Parameters\n",
    "#     ----------\n",
    "#     df : DataFrame (e.g. created with regroup()) or group dict of dataframes\n",
    "#     columns : list of str\n",
    "#         The column(s) to plot for each group\n",
    "#     \"\"\"\n",
    "#     if isinstance(columns, str):\n",
    "#     # allow columns to be a single column name\n",
    "#         columns = [columns]\n",
    "#     column = columns[0]   \n",
    "    \n",
    "#     scale, category, low_is_bad = scales.get(column)\n",
    "    \n",
    "#     if title is None:\n",
    "#         title = \", \".join(columns)\n",
    "#     # create a dict of {'group name': subset_df for just that group}\n",
    "#     if isinstance(df, dict):\n",
    "#         groups = df\n",
    "#     elif \"group\" in df.columns:\n",
    "#         groups = {}\n",
    "#         for cat in df.group.dtype.categories:\n",
    "#             groups[cat] = df[df.group == cat]\n",
    "#     else:\n",
    "#         # no groups given, use just one group\n",
    "#         groups = {\"\": df}\n",
    "\n",
    "#     #Different sorting options    \n",
    "#     if group_order == 'ce_descending':\n",
    "#         def count_enig(key):\n",
    "#             series = groups[key][columns[0]]\n",
    "#             return 1.0 * (((series == 2).sum()) + (series == 1).sum()) / len(series.dropna())\n",
    "\n",
    "#         group_order = sorted(groups.keys(), key=count_enig, reverse=True)\n",
    "#         #title = f\"{title}\\n (Sortert etter sterk enighet i synkende rekkefølge)\"\n",
    "    \n",
    "#     elif group_order == 'se_descending':\n",
    "#         def count_svært_enig(key):\n",
    "#             series = groups[key][columns[0]]\n",
    "#             return 1.0 * (series == 2).sum() / len(series.dropna())\n",
    "\n",
    "#         group_order = sorted(groups.keys(), key=count_svært_enig, reverse=True)\n",
    "#         #title = f\"{title}\\n (Sortert etter enighet (litt + svært enig) i synkende rekkefølge)\"\n",
    "    \n",
    "#     elif group_order == 'cu_descending':\n",
    "#         def count_enig(key):\n",
    "#             series = groups[key][columns[0]]\n",
    "#             return 1.0 * (((series == -2).sum()) + (series == -1).sum()) / len(series.dropna())\n",
    "\n",
    "#         group_order = sorted(groups.keys(), key=count_enig, reverse=True)\n",
    "#         #title = f\"{title}\\n (Sortert etter sterk enighet i synkende rekkefølge)\"\n",
    "    \n",
    "#     elif group_order == 'su_descending':\n",
    "#         def count_svært_enig(key):\n",
    "#             series = groups[key][columns[0]]\n",
    "#             return 1.0 * (series == -2).sum() / len(series.dropna())\n",
    "\n",
    "#         group_order = sorted(groups.keys(), key=count_svært_enig, reverse=True)\n",
    "#         #title = f\"{title}\\n (Sortert etter enighet (litt + svært enig) i synkende rekkefølge)\"\n",
    "    \n",
    "#     if group_order:\n",
    "#         iterable = [(key, groups[key]) for key in group_order]\n",
    "#     else:\n",
    "#         iterable = groups.items()\n",
    "    \n",
    "    \n",
    "    \n",
    "#     # construc the results dict\n",
    "#     # with 5 numbers for each combination of group + column\n",
    "#     results = {}\n",
    "#     nice_column_names = {\n",
    "#         \"Jeg bruker ikke folkebibliotek fordi at jeg ikke \\nføler meg velkommen der som en skeiv/LHBTIQ+ person\" : 'Ikke_velkommen',\n",
    "#         \"Jeg ville brukt biblioteket om jeg var sikker på \\nat det ville være et trygt rom for meg som skeiv/LHBTIQ+ person\" : 'Trygge_rom_pers_IB',\n",
    "#     }\n",
    "#     # reorder these `for...` lines to switch whether questions or groups\n",
    "    \n",
    "#     for column in columns:\n",
    "#         for group, group_df in iterable:\n",
    "#             nice_column = nice_column_names.get(column, column)\n",
    "#             label = group\n",
    "#             if len(group_df) <= 20:\n",
    "#                 label += \"*\"\n",
    "#             label = f\"{label} \\n (N={len(group_df[column].dropna())})\"\n",
    "#             if len(columns) > 1:\n",
    "#                 label = f\"{nice_column} {label}\"\n",
    "#             # group_df[column] means get that column for that group\n",
    "#             # the rest is turn it into 5 numbers for the fractional value counts\n",
    "#             results[label] = (\n",
    "#                 group_df[column]\n",
    "#                 .astype(category)\n",
    "#                 .value_counts(normalize=True)\n",
    "#                 .sort_index()\n",
    "#                 .array\n",
    "#             )\n",
    "        \n",
    "#     # from this point on, the rest of the function is unchanged\n",
    "#     labels = list(results.keys())\n",
    "#     # Line below = \"value counts array\"\n",
    "#     data = np.array(list(results.values()))\n",
    "#     data_cum = data.cumsum(axis=1)\n",
    "    \n",
    "#     if len(scale) == 5:\n",
    "#         category_colors = plt.get_cmap(\"RdYlGn\")(np.linspace(0.15, 0.85, data.shape[1]))\n",
    "#     elif len(scale) == 7:\n",
    "#         if low_is_bad == True:\n",
    "#             category_colors=mycolors\n",
    "#         else:\n",
    "#             category_colors=mycolors[::-1]\n",
    "\n",
    "#     fig, ax = plt.subplots(figsize=(15, 8))\n",
    "#     ax.title.set_text(title)\n",
    "#     ax.invert_yaxis()\n",
    "#     ax.xaxis.set_visible(False)\n",
    "#     ax.set_xlim(0, np.sum(data, axis=1).max())\n",
    "\n",
    "#     for i, (colname, color) in enumerate(zip(scale, category_colors)):\n",
    "#         widths = data[:, i]\n",
    "#         starts = data_cum[:, i] - widths\n",
    "#         ax.barh(labels, widths, left=starts, height=0.5, label=colname, color=color)\n",
    "#         xcenters = starts + widths / 2\n",
    "\n",
    "#   #      r, g, b, _ = color\n",
    "#         text_color = \"black\"  # if r * g * b < 0.5 else 'darkgrey'\n",
    "#         for y, (x, c) in enumerate(zip(xcenters, widths)):\n",
    "#             if c > .04:\n",
    "#                 size=16\n",
    "#             elif c < .02:\n",
    "#                 continue\n",
    "#             else:\n",
    "#                 size=12\n",
    "#             ax.text(\n",
    "#                     x,\n",
    "#                     y,\n",
    "#                     str(int(c * 100)) + \"%\",\n",
    "#                     ha=\"center\",\n",
    "#                     va=\"center\",\n",
    "#                     color=text_color, \n",
    "#                     size=size\n",
    "#             )\n",
    "#     ax.legend(\n",
    "#         ncol=len(scale),\n",
    "#         fancybox=True,\n",
    "#         bbox_to_anchor=(0.5, -0.15),\n",
    "#         loc=\"lower center\",\n",
    "#         fontsize=\"x-large\",\n",
    "#     )\n",
    "\n",
    "#     return fig, ax\n",
    "\n",
    "\n",
    "# cishet_skeive = {\n",
    "#     \"cis-heterofile\": cis_heterofile,\n",
    "#     \"skeive\": alle_skeive,\n",
    "# }\n",
    "# cishet_skeive_df = regroup(cishet_skeive)\n",
    "\n",
    "# #hbar_scales(LGBTQIA_groups, [\"Lhbtiq_vennlig\"], group_order=None)"
   ]
  },
  {
   "cell_type": "code",
   "execution_count": null,
   "metadata": {},
   "outputs": [],
   "source": []
  },
  {
   "cell_type": "code",
   "execution_count": null,
   "metadata": {},
   "outputs": [],
   "source": []
  },
  {
   "cell_type": "code",
   "execution_count": null,
   "metadata": {
    "collapsed": true,
    "jupyter": {
     "outputs_hidden": true
    },
    "tags": []
   },
   "outputs": [],
   "source": []
  },
  {
   "cell_type": "code",
   "execution_count": null,
   "metadata": {},
   "outputs": [],
   "source": []
  },
  {
   "cell_type": "code",
   "execution_count": null,
   "metadata": {},
   "outputs": [],
   "source": []
  },
  {
   "cell_type": "markdown",
   "metadata": {},
   "source": [
    "^Analysis: 63% were familiar with the SIAN issue/debate, 35% ja, påvirket oppfatning av bib som trygt rom, 35% nei, 29% usikker. Look into how many pos. vs. neg."
   ]
  },
  {
   "cell_type": "code",
   "execution_count": null,
   "metadata": {},
   "outputs": [],
   "source": []
  },
  {
   "cell_type": "code",
   "execution_count": null,
   "metadata": {},
   "outputs": [],
   "source": []
  },
  {
   "cell_type": "code",
   "execution_count": null,
   "metadata": {},
   "outputs": [],
   "source": []
  },
  {
   "cell_type": "code",
   "execution_count": null,
   "metadata": {},
   "outputs": [],
   "source": []
  },
  {
   "cell_type": "code",
   "execution_count": null,
   "metadata": {},
   "outputs": [],
   "source": []
  },
  {
   "cell_type": "code",
   "execution_count": null,
   "metadata": {},
   "outputs": [],
   "source": []
  },
  {
   "cell_type": "code",
   "execution_count": 92,
   "metadata": {},
   "outputs": [],
   "source": [
    "# regions = alle_skeive.Region.unique()\n",
    "# for iterable in regions:\n",
    "#     fraction = sum(alle_skeive.Region == iterable)\n",
    "#     total = len(alle_skeive)\n",
    "#     print(iterable, \":\", \"{:.1%}\".format(fraction/total))"
   ]
  },
  {
   "cell_type": "code",
   "execution_count": 93,
   "metadata": {},
   "outputs": [],
   "source": [
    "# regions = cis_heterofile.Region.unique()\n",
    "# for iterable in regions:\n",
    "#     fraction = sum(cis_heterofile.Region == iterable)\n",
    "#     total = len(cis_heterofile)\n",
    "#     print(iterable, \":\", \"{:.1%}\".format(fraction/total))"
   ]
  },
  {
   "cell_type": "code",
   "execution_count": 94,
   "metadata": {},
   "outputs": [],
   "source": [
    "# genders = alle_skeive.Kjonnsidentitet.unique()\n",
    "# for iterable in genders:\n",
    "#     fraction = sum(alle_skeive.Kjonnsidentitet == iterable)\n",
    "#     total = len(alle_skeive)\n",
    "#     print(iterable, \":\", \"{:.1%}\".format(fraction/total))"
   ]
  },
  {
   "cell_type": "code",
   "execution_count": 95,
   "metadata": {},
   "outputs": [],
   "source": [
    "# genders = cis_heterofile.Kjonnsidentitet.unique()\n",
    "# for iterable in genders:\n",
    "#     fraction = sum(cis_heterofile.Kjonnsidentitet == iterable)\n",
    "#     total = len(cis_heterofile)\n",
    "#     print(iterable, \":\", \"{:.1%}\".format(fraction/total))"
   ]
  },
  {
   "cell_type": "code",
   "execution_count": 96,
   "metadata": {},
   "outputs": [],
   "source": [
    "# ages = cis_heterofile.Alder.unique()\n",
    "# for iterable in ages:\n",
    "#     fraction = sum(cis_heterofile.Alder == iterable)\n",
    "#     total = len(cis_heterofile)\n",
    "#     print(iterable, \":\", \"{:.1%}\".format(fraction/total))"
   ]
  },
  {
   "cell_type": "code",
   "execution_count": 97,
   "metadata": {},
   "outputs": [],
   "source": [
    "#     ages = alle_skeive.Alder.unique()\n",
    "#     for iterable in ages:\n",
    "#         fraction = sum(alle_skeive.Alder == iterable)\n",
    "#         total = len(alle_skeive)\n",
    "#         print(iterable, \":\", \"{:.1%}\".format(fraction/total))"
   ]
  }
 ],
 "metadata": {
  "kernelspec": {
   "display_name": "Python 3",
   "language": "python",
   "name": "python3"
  },
  "language_info": {
   "codemirror_mode": {
    "name": "ipython",
    "version": 3
   },
   "file_extension": ".py",
   "mimetype": "text/x-python",
   "name": "python",
   "nbconvert_exporter": "python",
   "pygments_lexer": "ipython3",
   "version": "3.9.1"
  },
  "nteract": {
   "version": "0.28.0"
  },
  "widgets": {
   "application/vnd.jupyter.widget-state+json": {
    "state": {},
    "version_major": 2,
    "version_minor": 0
   }
  }
 },
 "nbformat": 4,
 "nbformat_minor": 4
}
