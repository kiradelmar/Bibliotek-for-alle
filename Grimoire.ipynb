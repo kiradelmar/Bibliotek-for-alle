{
 "cells": [
  {
   "cell_type": "code",
   "execution_count": 53,
   "id": "gentle-quest",
   "metadata": {
    "tags": []
   },
   "outputs": [],
   "source": [
    "%%capture\n",
    "%run shared.ipynb"
   ]
  },
  {
   "cell_type": "code",
   "execution_count": null,
   "id": "solid-feeling",
   "metadata": {},
   "outputs": [],
   "source": []
  },
  {
   "cell_type": "markdown",
   "id": "rapid-attitude",
   "metadata": {},
   "source": [
    "questioning_KID = JUST Kjonnsidentitet\n",
    "questioning_Cis = JUST Cisness\n",
    "questioning_gender = Kjønnsidentitet and/or Cisness\n",
    "questioning_plus = JUST anyone who has SU in their orientation\n",
    "questioning  = any or all of the above\n"
   ]
  },
  {
   "cell_type": "markdown",
   "id": "experimental-bundle",
   "metadata": {
    "tags": []
   },
   "source": [
    "```\n",
    "\n",
    "NOTES FROM MIN:\n",
    "\n",
    "DICTIONARY = the thing in squigly braces with colons. it is made up of:\n",
    "    KEYS on the left of the colon (usually strings but can be anything hashable)\n",
    "        hashable = things that can be turned into a number\n",
    "        list = modifiable, tuple = not, so tuples are hashable and can be keys; lists are not and cannot\n",
    "    VALUES on the right of the colon (can be literally anything)\n",
    "    \n",
    "It looks like this:\n",
    "```\n",
    "\n",
    "```python\n",
    "dictionary_name = {\n",
    "    \"key\" : value(s),\n",
    "    \"another_key\" : more_value(s),\n",
    "}\n",
    "```\n",
    "```\n",
    "Dictionary of tuples (values look like (thing, other_thing, \"thing\", etc.))\n",
    "Dictionary of dictionaries, the values can be variable names for other dictionaries (like making a dictionary of all my groups), or nested literals\n",
    "\n",
    "\n",
    "- global namespace is the dictionary that when I type LG_df, what does that actually correspond to - how does it find the dataframe?\n",
    "\n",
    "- 'get a handle on' - how to find the thing you want to change, find a method or a function that returns that thing so that you can modify or interact with it in some way\n",
    "\n",
    "EXPRESSION = a bunch of symbols that has a result, calling a function can be an expression \n",
    "             what you put inside brackets is an expression, whose result is always a series\n",
    "             one expression can have many terms\n",
    "             you can always store the result of an expression in a variable\n",
    "             rather than having df[big complicated expression]\n",
    "             variable = whatever you had in brackets\n",
    "             df[variable]\n",
    "\n",
    "ARRAY = a sequence of things, a special list\n",
    "\n",
    "INDEX = the thing (number or string) you use to look up items in a container (\"indexing into an array\" = the position in the array, 0 = the one at the beginning)\n",
    "\n",
    "SERIES = the main thing that distinguishes a series from an array is that a series has a customizable index\n",
    "         is two arrays, kind of like a dictionary - the arrays are the index and the values\n",
    "         a column is a series - the index is like a row ID, the actual contents of the column are the values\n",
    "         if you do something like sorting or slicing it maintains the relationship between the index & value\n",
    "         a dataframe is just a collection of series that have the same index (that's why nans are there)\n",
    "         when you do arethmetic or something on a series, it usually means doing that operation element-wise (for each value, \n",
    "         do the thing)\n",
    "             \n",
    "             orientation == bi - actually doing that operation on every item in the values, returning a new series with the \n",
    "             same index where the values are the result of whatever operation you did\n",
    "                         \n",
    "         df[\"Hyppighet_n\"] = df.Hyppighet.apply(Hyppighet_map.get)\n",
    "            In the order that it gets 'done':\n",
    "              - get the dataframe called df\n",
    "              - .Hyppighet = look up the column called Hyppighet (now we have a series)\n",
    "              - .apply() is a method on series that says call this function and return a new series where each item in the \n",
    "              series is the result of calling that function on each item in the hyppighet series \n",
    "              - .get is getting an item out of a dictionary\n",
    "              - df[\"Hyppighet_n\"] = store the resulting series in a new column with this name same kind of things .isin() or \n",
    "              .str.contains() or == or > (all booleans that return true/false)\n",
    "         \n",
    "THING[OTHERTHING] = \"get item\" (or \"set item\" if it's on the left side of an equals sign)\n",
    "    - how you get things out of a container of things (like a list or a tuple or a dataframe or a dictionary)\n",
    "    - In Pandas, if you treat it like a dictionary and give it a string, that will return a column. If you give it a 'mask' \n",
    "        it will return a new dataframe or series (if you give a series a mask you get a series back, df get df back) where \n",
    "        that mask is true\n",
    "    - with things like arrays and dataframes, one of the things you can pass to get item is a 'mask'\n",
    "\n",
    "MASK: series of booleans (true/false) that has the same index as the dataframe or series (columns are series, series are not necessarily columns) you can mask a series or a dataframe, masking a dataframe is the same as masking all the series at once\n",
    "\n",
    "df[df.column_name] or df[df.column_name == \"something\"] or df[df.column_name.isin(\"something\")] \n",
    "Different examples of applying one mask\n",
    "saying give me the subset (rows) where this mask is true - what you need to do when you are f.eks. creating a group\n",
    "\n",
    "or 'if this is true or this is true...' - combining a bunch of masks into one mask:\n",
    "df[df.column_name == \"something\" | df.column_name.isin(\"something\")]\n",
    "\n",
    "inside the brackets is a mask - there are lots of ways to make a mask, any series of operations - the result of whatever you put together is a series of booleans with an index that matches the thing you are trying to mask\n",
    "\n",
    ".dropna() changes the index because it's applying a mask - series.isna() = a series\n",
    "if you use dropna inside your filter, you have to also do it outside (filter and mask are the same thing)\n",
    "\n",
    "creating a mask vs. applying a mask\n",
    ".isna() creates a mask\n",
    ".dropna() applies the inverse of that mask is equivalent to df[~df.isna()]\n",
    "\n",
    "\n",
    "When you have df[mask] you're changing the index (picking a subset) to be the items where the mask is true\n",
    "when do you apply the mask? \"apply the mask\" means another_df = df[mask] or another_series = series[mask]\n",
    "never use len on the mask (doesn't provide information, creating a mask doesn't change the length - always has one value for every row)\n",
    "if you're interested in the values of the same column or another column where the mask is true, that's when you apply the mask \n",
    "\n",
    "\n",
    "Kira's way: use brackets when applying a mask, no brackets means making it but not applying it\n",
    "\n",
    "Min's way: *shakes head in disappointment*\n",
    "Step 1: Creating the mask (big boolean expession that usually starts with df.) is saying find where these things are true\n",
    "Step 2: Give me the subset of rows where it was true in a way that I can interact with it (apply the mask in order to get that subset of another column)\n",
    "With a mask, there's only one question you can answer - for how many rows is this condition true (or false) mask.value_counts() or sum(mask)\n",
    "If you want to answer other questions about a group for which those things are true, then apply the mask (which creates a new df or series) and store it as a new variable so you can work with it\n",
    "\n",
    "\n",
    ".isin(\"T\", \"OT\") = value of the column is exactly one of the items in the list (identical to a chained == \"T\" or == \"OT\" with separate parentheses for each). \n",
    ".str.contains(\"T\") will get T, Thing, Thingy, etc. = that substring appears anywhere in the column. \n",
    "````"
   ]
  },
  {
   "cell_type": "code",
   "execution_count": 54,
   "id": "protected-audience",
   "metadata": {
    "tags": []
   },
   "outputs": [
    {
     "data": {
      "text/plain": [
       "KH_compare_df\n",
       "LGBQA_df\n",
       "LGBTQIA_df\n",
       "LG_df\n",
       "Skeiv_ID_df\n",
       "alle_cis_heterofile_df\n",
       "bib_compare2_df\n",
       "bib_compare3_df\n",
       "bib_compare_df\n",
       "bruk_df\n",
       "ch_age_df\n",
       "ch_df\n",
       "ch_region_df\n",
       "ch_urban_groups_df\n",
       "chcsts_df\n",
       "cis_df\n",
       "cishet_skeive_df\n",
       "cisness_df\n",
       "df\n",
       "exclusive_orientation_df\n",
       "gender_df\n",
       "gender_stuff_df\n",
       "intersectional_groups_df\n",
       "mwct_df\n",
       "n_orientations_df\n",
       "overall_df\n",
       "privilege_df\n",
       "queer_cisness_df\n",
       "s_age_df\n",
       "s_region_df\n",
       "s_urban_groups_df\n",
       "skeiv_df\n",
       "synlighet_df\n",
       "tnb_region_df"
      ]
     },
     "metadata": {},
     "output_type": "display_data"
    }
   ],
   "source": [
    "*df*?"
   ]
  },
  {
   "cell_type": "code",
   "execution_count": 55,
   "id": "honest-european",
   "metadata": {
    "tags": []
   },
   "outputs": [],
   "source": [
    "#pd.set_option('max_rows', None)"
   ]
  },
  {
   "cell_type": "code",
   "execution_count": 56,
   "id": "interracial-foster",
   "metadata": {
    "tags": []
   },
   "outputs": [
    {
     "data": {
      "text/plain": [
       "['NR',\n",
       " 'Malgruppe',\n",
       " 'Alder',\n",
       " 'Region',\n",
       " 'Kjonnsidentitet',\n",
       " 'KID_egne_ord',\n",
       " 'Cis',\n",
       " 'Spesifiser_Cis',\n",
       " 'Pronomener',\n",
       " 'Intersex',\n",
       " 'Seksuell_orientering_1',\n",
       " 'Seksuell_orientering_2',\n",
       " 'Seksuell_orientering_3',\n",
       " 'Seksuell_orientering_4',\n",
       " 'Seksuell_orientering_5',\n",
       " 'Seksuell_orientering_6',\n",
       " 'Seksuell_orientering_7',\n",
       " 'Seksuell_orientering_8',\n",
       " 'SO_egne_ord',\n",
       " 'Annen_RO',\n",
       " 'RO_1',\n",
       " 'RO_2',\n",
       " 'RO_3',\n",
       " 'RO_4',\n",
       " 'RO_5',\n",
       " 'RO_6',\n",
       " 'RO_7',\n",
       " 'RO_8',\n",
       " 'RO_egne_ord',\n",
       " 'Synlig_Skeiv_1',\n",
       " 'Synlig_Skeiv_2',\n",
       " 'Synlig_Skeiv_3',\n",
       " 'Synlig_Skeiv_4',\n",
       " 'Synlig_Skeiv_5',\n",
       " 'Skeiv_ID',\n",
       " 'Marginalisert_ident',\n",
       " 'Spesifiser_marg_ident',\n",
       " 'Sist_besok',\n",
       " 'Hyppighet',\n",
       " 'Urban',\n",
       " 'Deichman',\n",
       " 'Valgt_andre_bib',\n",
       " 'Valg_andre_bib_eks',\n",
       " 'UV',\n",
       " 'UBU',\n",
       " 'Andre_temaer',\n",
       " 'Arr',\n",
       " 'utlan',\n",
       " 'bla_i',\n",
       " 'datamaskin',\n",
       " 'still_spm',\n",
       " 'utrygt',\n",
       " 'm_med_respekt',\n",
       " 'feilkjonnet',\n",
       " 'antatt_orientering',\n",
       " 'Interaksjon_bibansatt_1',\n",
       " 'Interaksjon_bibansatt_2',\n",
       " 'Interaksjon_bibansatt_3',\n",
       " 'Interaksjon_bibansatt_4',\n",
       " 'Interaksjon_brukere_1',\n",
       " 'Interaksjon_brukere_2',\n",
       " 'Interaksjon_brukere_3',\n",
       " 'Interaksjon_brukere_4',\n",
       " 'Forklar_Ja',\n",
       " 'Utvalg_KID',\n",
       " 'Utvalg_Orientering',\n",
       " 'Utvalg_Intersex',\n",
       " 'Utvalg_lykkelig',\n",
       " 'Utvalg_fag',\n",
       " 'Aldri_tenkt',\n",
       " 'Utrygt_stille_spm',\n",
       " 'Rep_matters_B',\n",
       " 'Bib_pleier_ha',\n",
       " 'Alltid_velkommen',\n",
       " 'Trygge_rom_gen_B',\n",
       " 'Ingen_rolle',\n",
       " 'Ingenting_tilby',\n",
       " 'Bibs_ansvar',\n",
       " 'Minoritetsstress_ansatte',\n",
       " 'Minoritetsstress_brukere',\n",
       " 'Lhbtiq_vennlig',\n",
       " 'Rom_for_forbedring',\n",
       " 'Andre_brukere',\n",
       " 'Helt_meg_selv',\n",
       " 'Ikke_velkommen',\n",
       " 'Ingen_rolle_IB',\n",
       " 'Trygge_rom_pers_IB',\n",
       " 'Trygge_rom_gen_IB',\n",
       " 'Godt_utvalg',\n",
       " 'Skeiv_medieforbruk_pos',\n",
       " 'Skeiv_medieforbruk_neg',\n",
       " 'Rep_matters_IB',\n",
       " 'Mer_skj_item',\n",
       " 'Mer_skj_skaper',\n",
       " 'Mer_skj_mangfold',\n",
       " 'Mer_faglitt',\n",
       " 'Mer_BU',\n",
       " 'Bedre_gjenfinning',\n",
       " 'Info',\n",
       " 'Kompetanseheving',\n",
       " 'Apne_ansatte',\n",
       " 'Tredje_KI',\n",
       " 'Selvbestemt_KID',\n",
       " 'Endre_KID',\n",
       " 'Toaletter',\n",
       " 'Pronomen_bruk',\n",
       " 'Nulltoleranse',\n",
       " 'Skilting',\n",
       " 'Andre_forslag',\n",
       " 'Presisering_hypotetiske',\n",
       " 'God_tid',\n",
       " 'Regnbuehyller_B',\n",
       " 'Regnbuehyller_IB',\n",
       " 'Bib_regnbuehylle',\n",
       " 'Meninger_regnbuehyller_B',\n",
       " 'Meninger_regnbuehyller_IB',\n",
       " 'Anbefaling_B',\n",
       " 'Anbefaling_IB',\n",
       " 'Kjenner_til_SIAN_B',\n",
       " 'Kjenner_til_SIAN_IB',\n",
       " 'Pavirket_oppfatning_B',\n",
       " 'Pavirket_oppfatning_IB',\n",
       " 'Forklare_SIAN_B_Ja',\n",
       " 'Forklare_SIAN_IB_Ja',\n",
       " 'Forklare_SIAN_B_U',\n",
       " 'Forklare_SIAN_IB_U',\n",
       " 'Avrunding_IB',\n",
       " 'Kommentarer_IB',\n",
       " 'Behov_kompetanseheving',\n",
       " 'Overall_tilfredshet',\n",
       " 'Avrunding_B',\n",
       " 'Kommentarer_B',\n",
       " 'Svartid',\n",
       " 'survey',\n",
       " 'KID_egne_ord2',\n",
       " 'Elapsed time',\n",
       " 'Er du over 16 år og IKKE skeiv/LHBTIQ+?',\n",
       " 'Jeg er interessert i å lese bøker om skeive/LHBTIQ+-karakterer',\n",
       " 'Holdning_UV',\n",
       " 'Holdning_UBU',\n",
       " 'Holdning_Andre_temaer',\n",
       " 'Holdning_Arr',\n",
       " 'Undervisning_om_skeive',\n",
       " 'Oblig_emne',\n",
       " 'HP_Arr',\n",
       " 'Overall_behov_KH',\n",
       " 'Individ_behov_KH',\n",
       " 'Interesse_KH',\n",
       " 'Skeiv',\n",
       " 'Seksuell_orientering',\n",
       " 'RO',\n",
       " 'Synlig_Skeiv',\n",
       " 'Interaksjon_bibansatt',\n",
       " 'Interaksjon_brukere',\n",
       " 'Orienteringer',\n",
       " 'Sist_besok_måneder',\n",
       " 'Hyppighet_n',\n",
       " 'Bruk',\n",
       " 'Rep_matters_all',\n",
       " 'Trygge_rom_gen_all',\n",
       " 'Urban_rural',\n",
       " 'cisness']"
      ]
     },
     "execution_count": 56,
     "metadata": {},
     "output_type": "execute_result"
    }
   ],
   "source": [
    "#Show all the columns and rows\n",
    "#pd.options.display.max_columns = None\n",
    "#pd.options.display.max_rows = None\n",
    "\n",
    "#all column names\n",
    "list(df.columns)"
   ]
  },
  {
   "cell_type": "code",
   "execution_count": 57,
   "id": "sweet-browse",
   "metadata": {
    "tags": []
   },
   "outputs": [
    {
     "name": "stdout",
     "output_type": "stream",
     "text": [
      "41.1%\n",
      "41.1%\n"
     ]
    }
   ],
   "source": [
    "#Format decimal as percentage:\n",
    "\n",
    "queer_frac = (sum(df.Seksuell_orientering.str.contains(\"Q\"))/len(alle_skeive))\n",
    "\n",
    "print(\"{:.1%}\".format(queer_frac))\n",
    "#or\n",
    "print (f\"{queer_frac:.1%}\")"
   ]
  },
  {
   "cell_type": "code",
   "execution_count": 58,
   "id": "sustainable-machine",
   "metadata": {
    "tags": []
   },
   "outputs": [
    {
     "name": "stdout",
     "output_type": "stream",
     "text": [
      "12\n"
     ]
    },
    {
     "data": {
      "text/plain": [
       "90"
      ]
     },
     "execution_count": 58,
     "metadata": {},
     "output_type": "execute_result"
    }
   ],
   "source": [
    "#Make new categories\n",
    "bibliotekarer = df[df.survey ==\"Bibliotekarer\"]\n",
    "cishet_bibliotekarer = df[(df.survey ==\"Bibliotekarer\") & (~df.Skeiv)]\n",
    "skeive_bibliotekarer = df[(df.survey ==\"Bibliotekarer\") & (df.Skeiv)]\n",
    "print(len(skeive_bibliotekarer))\n",
    "\n",
    "ace_plus = df[df.Seksuell_orientering.str.contains(\"Ace\")|df.RO.str.contains(\"Aro\")]\n",
    "len(ace_plus)"
   ]
  },
  {
   "cell_type": "code",
   "execution_count": 59,
   "id": "eleven-concord",
   "metadata": {},
   "outputs": [],
   "source": [
    "#x_groups is a dictionary, and the strings are the keys, and the dataframes (LG, gay, etc.) are the values. \n",
    "#You can get one of the values by asking for one of the keys, so if you type x_groups[\"X\"] the you will get the gay dataframe.\n",
    "\n",
    "#Make them into a group df\n"
   ]
  },
  {
   "cell_type": "code",
   "execution_count": 63,
   "id": "visible-wildlife",
   "metadata": {},
   "outputs": [
    {
     "data": {
      "text/plain": [
       "<AxesSubplot:>"
      ]
     },
     "execution_count": 63,
     "metadata": {},
     "output_type": "execute_result"
    },
    {
     "data": {
      "image/png": "[encoded data removed]",
      "text/plain": [
       "<Figure size 432x288 with 1 Axes>"
      ]
     },
     "metadata": {
      "needs_background": "light"
     },
     "output_type": "display_data"
    }
   ],
   "source": [
    "cisness_df[\"feilkjonnet\"].hist()"
   ]
  },
  {
   "cell_type": "code",
   "execution_count": 61,
   "id": "retained-mayor",
   "metadata": {},
   "outputs": [
    {
     "data": {
      "text/plain": [
       "1     279\n",
       "2     217\n",
       "3      71\n",
       "4      26\n",
       "5      19\n",
       "6      19\n",
       "8       5\n",
       "7       4\n",
       "10      1\n",
       "14      1\n",
       "Name: Orienteringer, dtype: int64"
      ]
     },
     "execution_count": 61,
     "metadata": {},
     "output_type": "execute_result"
    },
    {
     "data": {
      "image/png": "[encoded data removed]",
      "text/plain": [
       "<Figure size 432x288 with 1 Axes>"
      ]
     },
     "metadata": {
      "needs_background": "light"
     },
     "output_type": "display_data"
    }
   ],
   "source": [
    "alle_skeive.Orienteringer.str.strip(\",\").str.split(\",\").apply(len).value_counts(normalize=True).plot(kind='bar')\n",
    "alle_skeive.Orienteringer.str.strip(\",\").str.split(\",\").apply(len).value_counts()\n",
    "#alle_skeive.Orienteringer.unique()"
   ]
  },
  {
   "cell_type": "code",
   "execution_count": null,
   "id": "corrected-night",
   "metadata": {},
   "outputs": [],
   "source": [
    "#Drops all 'neutral' responses from those who did not change the pre-set neutral on ANY questions (N=12)\n",
    "\n",
    "# columns = [\"Utvalg_KID\", \"Utvalg_Orientering\", \"Utvalg_Intersex\", \"Utvalg_lykkelig\", \"Utvalg_fag\", \"Aldri_tenkt\", \"Utrygt_stille_spm\", \"Rep_matters_B\", \"Bib_pleier_ha\", \"Alltid_velkommen\", \"Trygge_rom_gen_B\", \"Ingen_rolle\", \"Ingenting_tilby\", \"Bibs_ansvar\", \"Minoritetsstress_ansatte\", \"Minoritetsstress_brukere\", \"Lhbtiq_vennlig\", \"Rom_for_forbedring\", \"Andre_brukere\", \"Helt_meg_selv\"]\n",
    "# non_participants = True\n",
    "# for column in columns:\n",
    "#     non_participants &= df[column] == 0\n",
    "\n",
    "# df.loc[non_participants, columns] = pd.NA"
   ]
  },
  {
   "cell_type": "code",
   "execution_count": null,
   "id": "thermal-shelter",
   "metadata": {},
   "outputs": [],
   "source": [
    "for key in gender_keys.keys():\n",
    "    print_info_by_gender(key, column=\"Forklare_SIAN_B_U\")\n",
    "    print()"
   ]
  },
  {
   "cell_type": "code",
   "execution_count": null,
   "id": "hollow-optimum",
   "metadata": {},
   "outputs": [],
   "source": [
    "sum(s_women.Avrunding_B.isna())/len(s_women)"
   ]
  }
 ],
 "metadata": {
  "kernelspec": {
   "display_name": "Python 3",
   "language": "python",
   "name": "python3"
  },
  "language_info": {
   "codemirror_mode": {
    "name": "ipython",
    "version": 3
   },
   "file_extension": ".py",
   "mimetype": "text/x-python",
   "name": "python",
   "nbconvert_exporter": "python",
   "pygments_lexer": "ipython3",
   "version": "3.9.1"
  }
 },
 "nbformat": 4,
 "nbformat_minor": 5
}
