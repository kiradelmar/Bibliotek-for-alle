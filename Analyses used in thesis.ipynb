{
 "cells": [
  {
   "cell_type": "code",
   "execution_count": 1,
   "id": "charming-lease",
   "metadata": {},
   "outputs": [],
   "source": [
    "%%capture\n",
    "%run shared.ipynb"
   ]
  },
  {
   "cell_type": "markdown",
   "id": "fantastic-ukraine",
   "metadata": {
    "tags": []
   },
   "source": [
    "## Analyses used in thesis\n",
    "\n",
    "These are among the statistical analyses used in the BA thesis. I am in the process of making this notebook tidier and more readable for others. "
   ]
  },
  {
   "cell_type": "code",
   "execution_count": 2,
   "id": "soviet-dynamics",
   "metadata": {},
   "outputs": [
    {
     "name": "stdout",
     "output_type": "stream",
     "text": [
      "Gay or Lesbian respondents (inclusive): 291\n",
      "Gay or Lesbian only respondents: 146\n",
      "50.2% of those who selected Gay or Lesbian selected ONLY this orientation\n",
      "\n",
      "Lesbian respondents (inclusive): 153\n",
      "Lesbian only respondents: 78\n",
      "51.0% of those who selected Lesbian selected ONLY this orientation\n",
      "\n",
      "Gay respondents (inclusive): 103\n",
      "Gay only respondents: 61\n",
      "59.2% of those who selected Gay selected ONLY this orientation\n",
      "\n",
      "Gay or Lesbian (nonbinary) respondents (inclusive): 35\n",
      "Gay or Lesbian (nonbinary) only respondents: 7\n",
      "20.0% of those who selected Gay or Lesbian (nonbinary) selected ONLY this orientation\n",
      "\n",
      "Bi+ respondents (inclusive): 304\n",
      "Bi+ only respondents: 101\n",
      "33.2% of those who selected Bi+ selected ONLY this orientation\n",
      "\n",
      "Queer respondents (inclusive): 280\n",
      "Queer only respondents: 31\n",
      "11.1% of those who selected Queer selected ONLY this orientation\n",
      "\n",
      "Fluid respondents (inclusive): 89\n",
      "Fluid only respondents: 8\n",
      "9.0% of those who selected Fluid selected ONLY this orientation\n",
      "\n",
      "Asexual and/or aromantic respondents (inclusive): 90\n",
      "Asexual and/or aromantic only respondents: 6\n",
      "6.7% of those who selected Asexual and/or aromantic selected ONLY this orientation\n",
      "\n",
      "Heterosexual respondents (inclusive): 31\n",
      "Heterosexual only respondents: 7\n",
      "22.6% of those who selected Heterosexual selected ONLY this orientation\n",
      "\n",
      "Questioning respondents (inclusive): 35\n",
      "Questioning only respondents: 2\n",
      "5.7% of those who selected Questioning selected ONLY this orientation\n",
      "\n",
      "NONE respondents (inclusive): 20\n",
      "NONE only respondents: 4\n",
      "20.0% of those who selected NONE selected ONLY this orientation\n",
      "\n"
     ]
    }
   ],
   "source": [
    "#Function used to create table 2 (p. 32)\n",
    "\n",
    "orientation_keys = {\n",
    "    \"LG\" : (LG_plus, LG_only, \"Gay or Lesbian\"),\n",
    "    \"L\" : (lesbian, only_lesbian, \"Lesbian\"),\n",
    "    \"G\" : (gay, only_gay, \"Gay\"),\n",
    "    \"NBLG\" : (nb_lg, only_nb_lg, \"Gay or Lesbian (nonbinary)\"),\n",
    "    \"Bi\" : (bi_plus, bi_only, \"Bi+\"),\n",
    "    \"Q\" : (q_plus, q_only, \"Queer\"),\n",
    "    \"Fluid\" : (fluid_plus, fluid_only, \"Fluid\"),\n",
    "    \"Ace\" : (ace_plus, ace_only, \"Asexual and/or aromantic\"),\n",
    "    \"Het\" : (het_plus, het_only, \"Heterosexual\"),\n",
    "    \"Questioning\" : (questioning_plus, questioning_only, \"Questioning\"),\n",
    "    \"None\" : (none_plus, none_only, \"NONE\")\n",
    "}\n",
    "\n",
    "\n",
    "def print_group_info(key):\n",
    "    x_plus, x_only, x_label = orientation_keys[key]\n",
    "    \n",
    "    x_only_count = len(x_only)\n",
    "    x_plus_count = len(x_plus)\n",
    "        \n",
    "    x_only_frac = x_only_count/x_plus_count\n",
    "    print(x_label, \"respondents (inclusive):\", len(x_plus))\n",
    "    print(x_label, \"only respondents:\", len(x_only))\n",
    "    print (f\"{x_only_frac:.1%} of those who selected\", x_label, \"selected ONLY this orientation\")\n",
    "    \n",
    "\n",
    "for key in orientation_keys.keys():\n",
    "    print_group_info(key)\n",
    "    print()"
   ]
  },
  {
   "cell_type": "code",
   "execution_count": null,
   "id": "needed-warrior",
   "metadata": {},
   "outputs": [],
   "source": []
  },
  {
   "cell_type": "code",
   "execution_count": null,
   "id": "boolean-option",
   "metadata": {},
   "outputs": [],
   "source": []
  },
  {
   "cell_type": "code",
   "execution_count": null,
   "id": "plastic-drill",
   "metadata": {},
   "outputs": [],
   "source": []
  },
  {
   "cell_type": "code",
   "execution_count": null,
   "id": "extended-hydrogen",
   "metadata": {},
   "outputs": [],
   "source": []
  },
  {
   "cell_type": "code",
   "execution_count": null,
   "id": "revolutionary-municipality",
   "metadata": {},
   "outputs": [],
   "source": []
  },
  {
   "cell_type": "code",
   "execution_count": 3,
   "id": "invisible-salem",
   "metadata": {},
   "outputs": [
    {
     "data": {
      "text/plain": [
       "(0.9593908629441624, 1.1257825860185013)"
      ]
     },
     "execution_count": 3,
     "metadata": {},
     "output_type": "execute_result"
    }
   ],
   "source": [
    "np.mean(tnb_plus.Alltid_velkommen), np.std(tnb_plus.Alltid_velkommen)"
   ]
  },
  {
   "cell_type": "code",
   "execution_count": 4,
   "id": "arctic-genealogy",
   "metadata": {},
   "outputs": [
    {
     "data": {
      "text/plain": [
       "(1.2225130890052356, 0.9379804352698924)"
      ]
     },
     "execution_count": 4,
     "metadata": {},
     "output_type": "execute_result"
    }
   ],
   "source": [
    "np.mean(cis.Trygge_rom_gen_B), np.std(cis.Trygge_rom_gen_B)"
   ]
  },
  {
   "cell_type": "markdown",
   "id": "duplicate-challenge",
   "metadata": {
    "tags": []
   },
   "source": [
    "\n",
    "Cis \n",
    "Personal mean = 1.43 (.89)\n",
    "General: mean = 1.22 (.93)\n",
    "difference of .20\n",
    "\n",
    "\n",
    "Trans\n",
    "Personal mean = .96 (1.12)\n",
    "General: mean = .82 (1.05)\n",
    "difference of .14"
   ]
  },
  {
   "cell_type": "code",
   "execution_count": null,
   "id": "reduced-purple",
   "metadata": {},
   "outputs": [],
   "source": []
  },
  {
   "cell_type": "code",
   "execution_count": null,
   "id": "swedish-fight",
   "metadata": {
    "tags": []
   },
   "outputs": [],
   "source": []
  },
  {
   "cell_type": "code",
   "execution_count": 5,
   "id": "prepared-tonight",
   "metadata": {},
   "outputs": [
    {
     "data": {
      "text/plain": [
       "SpearmanrResult(correlation=0.3396155254499248, pvalue=8.536874147372123e-19)"
      ]
     },
     "execution_count": 5,
     "metadata": {},
     "output_type": "execute_result"
    }
   ],
   "source": [
    "stats.spearmanr(alle_skeive.Skeiv_ID.fillna(0), alle_skeive.Synlighet.fillna(0))"
   ]
  },
  {
   "cell_type": "code",
   "execution_count": null,
   "id": "quiet-requirement",
   "metadata": {},
   "outputs": [],
   "source": []
  },
  {
   "cell_type": "code",
   "execution_count": 6,
   "id": "opposite-sleep",
   "metadata": {
    "tags": []
   },
   "outputs": [],
   "source": [
    "#cis_heterofile[\"age_weight\"] = cis_heterofile.Alder.apply(lambda age: age_weights.loc[age].weight)\n",
    "#cis_heterofile[[\"Alder\", \"age_weight\"]]"
   ]
  },
  {
   "cell_type": "code",
   "execution_count": 7,
   "id": "passing-letters",
   "metadata": {},
   "outputs": [
    {
     "data": {
      "text/plain": [
       "K     189\n",
       "M      76\n",
       "SU      2\n",
       "Name: Kjonnsidentitet, dtype: int64"
      ]
     },
     "execution_count": 7,
     "metadata": {},
     "output_type": "execute_result"
    }
   ],
   "source": [
    "cis_heterofile.Kjonnsidentitet.value_counts()"
   ]
  },
  {
   "cell_type": "code",
   "execution_count": 8,
   "id": "hungarian-tsunami",
   "metadata": {},
   "outputs": [],
   "source": [
    "known_population_gender = pd.Series([.495, .515, .0], index=['K', 'M', 'SU'])\n",
    "known_population_gender.name = 'known_population_gender'"
   ]
  },
  {
   "cell_type": "code",
   "execution_count": 9,
   "id": "skilled-possible",
   "metadata": {},
   "outputs": [
    {
     "data": {
      "text/plain": [
       "K     0.707865\n",
       "M     0.284644\n",
       "SU    0.007491\n",
       "Name: gender_fraction, dtype: float64"
      ]
     },
     "execution_count": 9,
     "metadata": {},
     "output_type": "execute_result"
    }
   ],
   "source": [
    "gender_counts = cis_heterofile.Kjonnsidentitet.value_counts()\n",
    "total = len(cis_heterofile.Kjonnsidentitet.dropna())\n",
    "gender_fractions = gender_counts / total\n",
    "gender_fractions.name = 'gender_fraction'\n",
    "gender_fractions"
   ]
  },
  {
   "cell_type": "code",
   "execution_count": 10,
   "id": "assumed-license",
   "metadata": {},
   "outputs": [],
   "source": [
    "gender_weights = pd.concat([gender_fractions, known_population_gender], axis=1)"
   ]
  },
  {
   "cell_type": "code",
   "execution_count": 11,
   "id": "quarterly-skating",
   "metadata": {},
   "outputs": [
    {
     "data": {
      "text/html": [
       "<div>\n",
       "<style scoped>\n",
       "    .dataframe tbody tr th:only-of-type {\n",
       "        vertical-align: middle;\n",
       "    }\n",
       "\n",
       "    .dataframe tbody tr th {\n",
       "        vertical-align: top;\n",
       "    }\n",
       "\n",
       "    .dataframe thead th {\n",
       "        text-align: right;\n",
       "    }\n",
       "</style>\n",
       "<table border=\"1\" class=\"dataframe\">\n",
       "  <thead>\n",
       "    <tr style=\"text-align: right;\">\n",
       "      <th></th>\n",
       "      <th>gender_fraction</th>\n",
       "      <th>known_population_gender</th>\n",
       "      <th>gender_weight</th>\n",
       "    </tr>\n",
       "  </thead>\n",
       "  <tbody>\n",
       "    <tr>\n",
       "      <th>K</th>\n",
       "      <td>0.707865</td>\n",
       "      <td>0.495</td>\n",
       "      <td>0.699286</td>\n",
       "    </tr>\n",
       "    <tr>\n",
       "      <th>M</th>\n",
       "      <td>0.284644</td>\n",
       "      <td>0.515</td>\n",
       "      <td>1.809276</td>\n",
       "    </tr>\n",
       "    <tr>\n",
       "      <th>SU</th>\n",
       "      <td>0.007491</td>\n",
       "      <td>0.000</td>\n",
       "      <td>0.000000</td>\n",
       "    </tr>\n",
       "  </tbody>\n",
       "</table>\n",
       "</div>"
      ],
      "text/plain": [
       "    gender_fraction  known_population_gender  gender_weight\n",
       "K          0.707865                    0.495       0.699286\n",
       "M          0.284644                    0.515       1.809276\n",
       "SU         0.007491                    0.000       0.000000"
      ]
     },
     "execution_count": 11,
     "metadata": {},
     "output_type": "execute_result"
    }
   ],
   "source": [
    "gender_weights[\"gender_weight\"] = gender_weights[\"known_population_gender\"] / gender_weights[\"gender_fraction\"]\n",
    "gender_weights"
   ]
  },
  {
   "cell_type": "code",
   "execution_count": 12,
   "id": "proved-officer",
   "metadata": {
    "tags": []
   },
   "outputs": [],
   "source": [
    "#cis_heterofile[\"gender_weight\"] = cis_heterofile.Kjonnsidentitet.apply(lambda gender: gender_weights.loc[gender].gender_weight)\n",
    "#cis_heterofile[[\"Kjonnsidentitet\", \"gender_weight\"]]"
   ]
  },
  {
   "cell_type": "code",
   "execution_count": 13,
   "id": "popular-macro",
   "metadata": {},
   "outputs": [
    {
     "data": {
      "text/plain": [
       "Mindre enn 3 måneder siden    183\n",
       "3-11 måneder siden             71\n",
       "1-3 år siden                   37\n",
       "6 år siden eller mer           26\n",
       "3-6 år siden                   13\n",
       "Less than 3 months ago          8\n",
       "3-11 months ago                 4\n",
       "Aldri                           3\n",
       "1-3 years ago                   3\n",
       "3-6 years ago                   1\n",
       "Name: Sist_besok, dtype: int64"
      ]
     },
     "execution_count": 13,
     "metadata": {},
     "output_type": "execute_result"
    }
   ],
   "source": [
    "eldre = alle_skeive[alle_skeive.mapped_age > 1]\n",
    "eldre.Sist_besok.value_counts()"
   ]
  },
  {
   "cell_type": "code",
   "execution_count": 14,
   "id": "sorted-milan",
   "metadata": {},
   "outputs": [
    {
     "name": "stdout",
     "output_type": "stream",
     "text": [
      "16-29 % som har besøkt siste året\n",
      "0.8737201365187713\n",
      "Older:\n",
      "0.7621776504297995\n"
     ]
    }
   ],
   "source": [
    "print(\"16-29 % som har besøkt siste året\")\n",
    "print((168+74+6+8)/len(s_Age_16_29))\n",
    "print(\"Older:\")\n",
    "print((183+71+8+4)/len(eldre))"
   ]
  },
  {
   "cell_type": "code",
   "execution_count": 15,
   "id": "tender-beverage",
   "metadata": {},
   "outputs": [
    {
     "data": {
      "text/plain": [
       "30-44      128\n",
       "16-29       96\n",
       "45-60       45\n",
       "Over_60     10\n",
       "Name: Alder, dtype: int64"
      ]
     },
     "execution_count": 15,
     "metadata": {},
     "output_type": "execute_result"
    }
   ],
   "source": [
    "one_O.Alder.value_counts()"
   ]
  },
  {
   "cell_type": "code",
   "execution_count": 16,
   "id": "documented-shooting",
   "metadata": {
    "tags": []
   },
   "outputs": [
    {
     "data": {
      "text/plain": [
       "16-29      88\n",
       "30-44      44\n",
       "45-60      12\n",
       "Over_60     2\n",
       "Name: Alder, dtype: int64"
      ]
     },
     "execution_count": 16,
     "metadata": {},
     "output_type": "execute_result"
    }
   ],
   "source": [
    "multiple_O.Alder.value_counts()"
   ]
  },
  {
   "cell_type": "code",
   "execution_count": 17,
   "id": "polar-bloom",
   "metadata": {},
   "outputs": [
    {
     "data": {
      "text/plain": [
       "16-29      293\n",
       "30-44      246\n",
       "45-60       86\n",
       "Over_60     17\n",
       "Name: Alder, dtype: int64"
      ]
     },
     "execution_count": 17,
     "metadata": {},
     "output_type": "execute_result"
    }
   ],
   "source": [
    "alle_skeive.Alder.value_counts()"
   ]
  },
  {
   "cell_type": "code",
   "execution_count": 18,
   "id": "finished-cemetery",
   "metadata": {},
   "outputs": [
    {
     "data": {
      "text/plain": [
       "0.3003412969283277"
      ]
     },
     "execution_count": 18,
     "metadata": {},
     "output_type": "execute_result"
    }
   ],
   "source": [
    "44/246\n",
    "88/293"
   ]
  },
  {
   "cell_type": "code",
   "execution_count": 19,
   "id": "greenhouse-grace",
   "metadata": {},
   "outputs": [],
   "source": [
    "q = \"Helt_meg_selv\"\n",
    "\n",
    "sub_groups = [binary_trans,\n",
    "nonbinary,\n",
    "questioning_gender,\n",
    "             ]\n",
    "\n",
    "tnb_plus;"
   ]
  },
  {
   "cell_type": "code",
   "execution_count": 20,
   "id": "fewer-chosen",
   "metadata": {},
   "outputs": [
    {
     "data": {
      "text/html": [
       "<div>\n",
       "<style scoped>\n",
       "    .dataframe tbody tr th:only-of-type {\n",
       "        vertical-align: middle;\n",
       "    }\n",
       "\n",
       "    .dataframe tbody tr th {\n",
       "        vertical-align: top;\n",
       "    }\n",
       "\n",
       "    .dataframe thead th {\n",
       "        text-align: right;\n",
       "    }\n",
       "</style>\n",
       "<table border=\"1\" class=\"dataframe\">\n",
       "  <thead>\n",
       "    <tr style=\"text-align: right;\">\n",
       "      <th></th>\n",
       "      <th>Cis</th>\n",
       "      <th>Kjonnsidentitet</th>\n",
       "    </tr>\n",
       "  </thead>\n",
       "  <tbody>\n",
       "    <tr>\n",
       "      <th>23</th>\n",
       "      <td>SU</td>\n",
       "      <td>IB</td>\n",
       "    </tr>\n",
       "    <tr>\n",
       "      <th>96</th>\n",
       "      <td>SU</td>\n",
       "      <td>IB</td>\n",
       "    </tr>\n",
       "    <tr>\n",
       "      <th>98</th>\n",
       "      <td>SU</td>\n",
       "      <td>IB</td>\n",
       "    </tr>\n",
       "    <tr>\n",
       "      <th>143</th>\n",
       "      <td>SU</td>\n",
       "      <td>IB</td>\n",
       "    </tr>\n",
       "    <tr>\n",
       "      <th>180</th>\n",
       "      <td>SU</td>\n",
       "      <td>IB</td>\n",
       "    </tr>\n",
       "    <tr>\n",
       "      <th>185</th>\n",
       "      <td>SU</td>\n",
       "      <td>IB</td>\n",
       "    </tr>\n",
       "    <tr>\n",
       "      <th>187</th>\n",
       "      <td>SU</td>\n",
       "      <td>IB</td>\n",
       "    </tr>\n",
       "    <tr>\n",
       "      <th>238</th>\n",
       "      <td>SU</td>\n",
       "      <td>IB</td>\n",
       "    </tr>\n",
       "    <tr>\n",
       "      <th>317</th>\n",
       "      <td>SU</td>\n",
       "      <td>IB</td>\n",
       "    </tr>\n",
       "    <tr>\n",
       "      <th>377</th>\n",
       "      <td>SU</td>\n",
       "      <td>IB</td>\n",
       "    </tr>\n",
       "    <tr>\n",
       "      <th>483</th>\n",
       "      <td>SU</td>\n",
       "      <td>IB</td>\n",
       "    </tr>\n",
       "    <tr>\n",
       "      <th>488</th>\n",
       "      <td>SU</td>\n",
       "      <td>IB</td>\n",
       "    </tr>\n",
       "    <tr>\n",
       "      <th>555</th>\n",
       "      <td>SU</td>\n",
       "      <td>IB</td>\n",
       "    </tr>\n",
       "  </tbody>\n",
       "</table>\n",
       "</div>"
      ],
      "text/plain": [
       "    Cis Kjonnsidentitet\n",
       "23   SU              IB\n",
       "96   SU              IB\n",
       "98   SU              IB\n",
       "143  SU              IB\n",
       "180  SU              IB\n",
       "185  SU              IB\n",
       "187  SU              IB\n",
       "238  SU              IB\n",
       "317  SU              IB\n",
       "377  SU              IB\n",
       "483  SU              IB\n",
       "488  SU              IB\n",
       "555  SU              IB"
      ]
     },
     "execution_count": 20,
     "metadata": {},
     "output_type": "execute_result"
    }
   ],
   "source": [
    "all_nr = pd.concat(sub_groups).NR\n",
    "nr_counts = all_nr.value_counts()\n",
    "doubles = nr_counts[nr_counts > 1]\n",
    "all_nr[all_nr.isin(doubles.index)]\n",
    "df.loc[df.NR.isin(doubles.index), [\"Cis\", \"Kjonnsidentitet\"]]"
   ]
  },
  {
   "cell_type": "code",
   "execution_count": 21,
   "id": "significant-devon",
   "metadata": {},
   "outputs": [
    {
     "data": {
      "text/html": [
       "<div>\n",
       "<style scoped>\n",
       "    .dataframe tbody tr th:only-of-type {\n",
       "        vertical-align: middle;\n",
       "    }\n",
       "\n",
       "    .dataframe tbody tr th {\n",
       "        vertical-align: top;\n",
       "    }\n",
       "\n",
       "    .dataframe thead th {\n",
       "        text-align: right;\n",
       "    }\n",
       "</style>\n",
       "<table border=\"1\" class=\"dataframe\">\n",
       "  <thead>\n",
       "    <tr style=\"text-align: right;\">\n",
       "      <th></th>\n",
       "      <th>NR</th>\n",
       "      <th>Cis</th>\n",
       "      <th>Kjonnsidentitet</th>\n",
       "      <th>Helt_meg_selv</th>\n",
       "    </tr>\n",
       "  </thead>\n",
       "  <tbody>\n",
       "    <tr>\n",
       "      <th>216</th>\n",
       "      <td>12543235</td>\n",
       "      <td>N</td>\n",
       "      <td>SU</td>\n",
       "      <td>-1.0</td>\n",
       "    </tr>\n",
       "    <tr>\n",
       "      <th>248</th>\n",
       "      <td>12548606</td>\n",
       "      <td>N</td>\n",
       "      <td>NONE</td>\n",
       "      <td>1.0</td>\n",
       "    </tr>\n",
       "    <tr>\n",
       "      <th>261</th>\n",
       "      <td>12553119</td>\n",
       "      <td>N</td>\n",
       "      <td>NONE</td>\n",
       "      <td>1.0</td>\n",
       "    </tr>\n",
       "    <tr>\n",
       "      <th>338</th>\n",
       "      <td>12574096</td>\n",
       "      <td>N</td>\n",
       "      <td>NONE</td>\n",
       "      <td>-1.0</td>\n",
       "    </tr>\n",
       "    <tr>\n",
       "      <th>389</th>\n",
       "      <td>12586341</td>\n",
       "      <td>N</td>\n",
       "      <td>NONE</td>\n",
       "      <td>-1.0</td>\n",
       "    </tr>\n",
       "    <tr>\n",
       "      <th>423</th>\n",
       "      <td>12629348</td>\n",
       "      <td>N</td>\n",
       "      <td>NONE</td>\n",
       "      <td>-1.0</td>\n",
       "    </tr>\n",
       "    <tr>\n",
       "      <th>462</th>\n",
       "      <td>12641332</td>\n",
       "      <td>N</td>\n",
       "      <td>NONE</td>\n",
       "      <td>1.0</td>\n",
       "    </tr>\n",
       "    <tr>\n",
       "      <th>467</th>\n",
       "      <td>12651201</td>\n",
       "      <td>N</td>\n",
       "      <td>NONE</td>\n",
       "      <td>0.0</td>\n",
       "    </tr>\n",
       "    <tr>\n",
       "      <th>506</th>\n",
       "      <td>12689366</td>\n",
       "      <td>N</td>\n",
       "      <td>SU</td>\n",
       "      <td>NaN</td>\n",
       "    </tr>\n",
       "  </tbody>\n",
       "</table>\n",
       "</div>"
      ],
      "text/plain": [
       "           NR Cis Kjonnsidentitet  Helt_meg_selv\n",
       "216  12543235   N              SU           -1.0\n",
       "248  12548606   N            NONE            1.0\n",
       "261  12553119   N            NONE            1.0\n",
       "338  12574096   N            NONE           -1.0\n",
       "389  12586341   N            NONE           -1.0\n",
       "423  12629348   N            NONE           -1.0\n",
       "462  12641332   N            NONE            1.0\n",
       "467  12651201   N            NONE            0.0\n",
       "506  12689366   N              SU            NaN"
      ]
     },
     "execution_count": 21,
     "metadata": {},
     "output_type": "execute_result"
    }
   ],
   "source": [
    "overlap = tnb_plus.NR.isin(all_nr)\n",
    "tnb_plus.loc[overlap == False, [\"NR\", \"Cis\", \"Kjonnsidentitet\", q]]\n"
   ]
  },
  {
   "cell_type": "code",
   "execution_count": null,
   "id": "guilty-maker",
   "metadata": {
    "tags": []
   },
   "outputs": [],
   "source": []
  },
  {
   "cell_type": "code",
   "execution_count": 30,
   "id": "environmental-latino",
   "metadata": {},
   "outputs": [
    {
     "name": "stdout",
     "output_type": "stream",
     "text": [
      "Brunner-Munzel teststatistikk:-2.46 \n",
      "p-verdi:0.014993764099184848 \n",
      "CL effektstørrelse = G1: 0.583 / G2: 0.417  \n",
      "95% konfidensintervall: ±0.067 (lav = 0.35, høy = 0.484) \n",
      "frihetsgrad:153.84524965711566 \n"
     ]
    }
   ],
   "source": [
    "#Attempts at weighting based on age\n",
    "\n",
    "brunnermunzel_test(s_R.Utrygt_stille_spm.dropna(), eldre.Utrygt_stille_spm.dropna(), ttype=0, alpha=.05)\n",
    "age_counts = cis_heterofile.Alder.value_counts()\n",
    "total = len(cis_heterofile.Alder.dropna())\n",
    "age_fractions = age_counts / total\n",
    "age_fractions.name = 'age_fraction'\n",
    "age_fractions\n",
    "\n",
    "known_population = pd.Series([.19, .202, .202, .237], index=['16-29', '30-44', '45-60', 'Over_60'])\n",
    "known_population.name = 'known_population'\n",
    "age_weights = pd.concat([age_fractions, known_population], axis=1)\n"
   ]
  },
  {
   "cell_type": "code",
   "execution_count": 29,
   "id": "positive-greece",
   "metadata": {},
   "outputs": [
    {
     "data": {
      "text/html": [
       "<div>\n",
       "<style scoped>\n",
       "    .dataframe tbody tr th:only-of-type {\n",
       "        vertical-align: middle;\n",
       "    }\n",
       "\n",
       "    .dataframe tbody tr th {\n",
       "        vertical-align: top;\n",
       "    }\n",
       "\n",
       "    .dataframe thead th {\n",
       "        text-align: right;\n",
       "    }\n",
       "</style>\n",
       "<table border=\"1\" class=\"dataframe\">\n",
       "  <thead>\n",
       "    <tr style=\"text-align: right;\">\n",
       "      <th></th>\n",
       "      <th>age_fraction</th>\n",
       "      <th>known_population</th>\n",
       "      <th>weight</th>\n",
       "    </tr>\n",
       "  </thead>\n",
       "  <tbody>\n",
       "    <tr>\n",
       "      <th>30-44</th>\n",
       "      <td>0.475655</td>\n",
       "      <td>0.202</td>\n",
       "      <td>0.424677</td>\n",
       "    </tr>\n",
       "    <tr>\n",
       "      <th>45-60</th>\n",
       "      <td>0.258427</td>\n",
       "      <td>0.202</td>\n",
       "      <td>0.781652</td>\n",
       "    </tr>\n",
       "    <tr>\n",
       "      <th>16-29</th>\n",
       "      <td>0.161049</td>\n",
       "      <td>0.190</td>\n",
       "      <td>1.179767</td>\n",
       "    </tr>\n",
       "    <tr>\n",
       "      <th>Over_60</th>\n",
       "      <td>0.104869</td>\n",
       "      <td>0.237</td>\n",
       "      <td>2.259964</td>\n",
       "    </tr>\n",
       "  </tbody>\n",
       "</table>\n",
       "</div>"
      ],
      "text/plain": [
       "         age_fraction  known_population    weight\n",
       "30-44        0.475655             0.202  0.424677\n",
       "45-60        0.258427             0.202  0.781652\n",
       "16-29        0.161049             0.190  1.179767\n",
       "Over_60      0.104869             0.237  2.259964"
      ]
     },
     "execution_count": 29,
     "metadata": {},
     "output_type": "execute_result"
    }
   ],
   "source": [
    "age_weights[\"weight\"] = age_weights[\"known_population\"] / age_weights[\"age_fraction\"]\n",
    "age_weights"
   ]
  },
  {
   "cell_type": "code",
   "execution_count": null,
   "id": "legislative-joseph",
   "metadata": {},
   "outputs": [],
   "source": []
  }
 ],
 "metadata": {
  "kernelspec": {
   "display_name": "Python 3",
   "language": "python",
   "name": "python3"
  },
  "language_info": {
   "codemirror_mode": {
    "name": "ipython",
    "version": 3
   },
   "file_extension": ".py",
   "mimetype": "text/x-python",
   "name": "python",
   "nbconvert_exporter": "python",
   "pygments_lexer": "ipython3",
   "version": "3.9.1"
  }
 },
 "nbformat": 4,
 "nbformat_minor": 5
}
