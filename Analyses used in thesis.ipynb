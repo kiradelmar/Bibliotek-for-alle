{
 "cells": [
  {
   "cell_type": "code",
   "execution_count": 1,
   "id": "similar-chamber",
   "metadata": {},
   "outputs": [],
   "source": [
    "%%capture\n",
    "%run shared.ipynb"
   ]
  },
  {
   "cell_type": "markdown",
   "id": "cooperative-sucking",
   "metadata": {
    "tags": []
   },
   "source": [
    "## Analyses used in thesis\n",
    "\n",
    "These are among the statistical analyses used in the BA thesis. I am in the process of making this notebook tidier and more readable for others. "
   ]
  },
  {
   "cell_type": "code",
   "execution_count": 31,
   "id": "ambient-cocktail",
   "metadata": {},
   "outputs": [],
   "source": [
    "def add_gender_weight(df):\n",
    "    known_population_gender = pd.Series([.495, .515, .0], index=['K', 'M', 'SU'])\n",
    "    known_population_gender.name = 'known_population_gender'\n",
    "    \n",
    "    gender_counts = df.Kjonnsidentitet.value_counts()\n",
    "    total = len(df.Kjonnsidentitet.dropna())\n",
    "    gender_fractions = gender_counts / total\n",
    "    gender_fractions.name = 'gender_fraction'\n",
    "    \n",
    "    gender_weights = pd.concat([gender_fractions, known_population_gender], axis=1)\n",
    "    \n",
    "    gender_weights[\"gender_weight\"] = gender_weights[\"known_population_gender\"] / gender_weights[\"gender_fraction\"]   \n",
    "    \n",
    "    df[\"gender_weight\"] = df.Kjonnsidentitet.apply(lambda gender: gender_weights.loc[gender].gender_weight)"
   ]
  },
  {
   "cell_type": "code",
   "execution_count": 32,
   "id": "fiscal-blair",
   "metadata": {
    "jupyter": {
     "source_hidden": true
    },
    "tags": []
   },
   "outputs": [],
   "source": [
    "# regions = alle_skeive.Region.unique()\n",
    "# for iterable in regions:\n",
    "#     fraction = sum(alle_skeive.Region == iterable)\n",
    "#     total = len(alle_skeive)\n",
    "#     print(iterable, \":\", \"{:.1%}\".format(fraction/total))"
   ]
  },
  {
   "cell_type": "code",
   "execution_count": 34,
   "id": "macro-cause",
   "metadata": {},
   "outputs": [],
   "source": [
    "def add_age_weight(df):\n",
    "    known_population = pd.Series([.19, .202, .202, .237], index=['16-29', '30-44', '45-60', 'Over_60'])\n",
    "    known_population.name = 'known_population'\n",
    "\n",
    "\n",
    "    age_counts = df.Alder.value_counts()\n",
    "    total = len(df.Alder.dropna())\n",
    "    age_fractions = age_counts / total\n",
    "    age_fractions.name = 'age_fraction'\n",
    "\n",
    "    age_weights = pd.concat([age_fractions, known_population], axis=1)\n",
    "    \n",
    "    age_weights[\"weight\"] = age_weights[\"known_population\"] / age_weights[\"age_fraction\"]\n",
    "\n",
    "    df[\"age_weight\"] = df.Alder.apply(lambda age: age_weights.loc[age].weight)\n",
    "    \n",
    "    "
   ]
  },
  {
   "cell_type": "code",
   "execution_count": 33,
   "id": "talented-treatment",
   "metadata": {},
   "outputs": [],
   "source": [
    "# regions = cis_heterofile.Region.unique()\n",
    "# for iterable in regions:\n",
    "#     fraction = sum(cis_heterofile.Region == iterable)\n",
    "#     total = len(cis_heterofile)\n",
    "#     print(iterable, \":\", \"{:.1%}\".format(fraction/total))"
   ]
  },
  {
   "cell_type": "code",
   "execution_count": 86,
   "id": "united-morris",
   "metadata": {},
   "outputs": [],
   "source": [
    "# genders = alle_skeive.Kjonnsidentitet.unique()\n",
    "# for iterable in genders:\n",
    "#     fraction = sum(alle_skeive.Kjonnsidentitet == iterable)\n",
    "#     total = len(alle_skeive)\n",
    "#     print(iterable, \":\", \"{:.1%}\".format(fraction/total))"
   ]
  },
  {
   "cell_type": "code",
   "execution_count": 87,
   "id": "signal-monaco",
   "metadata": {},
   "outputs": [],
   "source": [
    "# genders = cis_heterofile.Kjonnsidentitet.unique()\n",
    "# for iterable in genders:\n",
    "#     fraction = sum(cis_heterofile.Kjonnsidentitet == iterable)\n",
    "#     total = len(cis_heterofile)\n",
    "#     print(iterable, \":\", \"{:.1%}\".format(fraction/total))"
   ]
  },
  {
   "cell_type": "code",
   "execution_count": 88,
   "id": "digital-finnish",
   "metadata": {},
   "outputs": [],
   "source": [
    "# ages = cis_heterofile.Alder.unique()\n",
    "# for iterable in ages:\n",
    "#     fraction = sum(cis_heterofile.Alder == iterable)\n",
    "#     total = len(cis_heterofile)\n",
    "#     print(iterable, \":\", \"{:.1%}\".format(fraction/total))"
   ]
  },
  {
   "cell_type": "code",
   "execution_count": 89,
   "id": "brown-coaching",
   "metadata": {
    "jupyter": {
     "source_hidden": true
    },
    "tags": []
   },
   "outputs": [],
   "source": [
    "#     ages = alle_skeive.Alder.unique()\n",
    "#     for iterable in ages:\n",
    "#         fraction = sum(alle_skeive.Alder == iterable)\n",
    "#         total = len(alle_skeive)\n",
    "#         print(iterable, \":\", \"{:.1%}\".format(fraction/total))"
   ]
  },
  {
   "cell_type": "code",
   "execution_count": 2,
   "id": "welsh-equality",
   "metadata": {},
   "outputs": [
    {
     "name": "stdout",
     "output_type": "stream",
     "text": [
      "Gay or Lesbian respondents (inclusive): 291\n",
      "Gay or Lesbian only respondents: 146\n",
      "50.2% of those who selected Gay or Lesbian selected ONLY this orientation\n",
      "\n",
      "Lesbian respondents (inclusive): 153\n",
      "Lesbian only respondents: 78\n",
      "51.0% of those who selected Lesbian selected ONLY this orientation\n",
      "\n",
      "Gay respondents (inclusive): 103\n",
      "Gay only respondents: 61\n",
      "59.2% of those who selected Gay selected ONLY this orientation\n",
      "\n",
      "Gay or Lesbian (nonbinary) respondents (inclusive): 35\n",
      "Gay or Lesbian (nonbinary) only respondents: 7\n",
      "20.0% of those who selected Gay or Lesbian (nonbinary) selected ONLY this orientation\n",
      "\n",
      "Bi+ respondents (inclusive): 304\n",
      "Bi+ only respondents: 101\n",
      "33.2% of those who selected Bi+ selected ONLY this orientation\n",
      "\n",
      "Queer respondents (inclusive): 280\n",
      "Queer only respondents: 31\n",
      "11.1% of those who selected Queer selected ONLY this orientation\n",
      "\n",
      "Fluid respondents (inclusive): 89\n",
      "Fluid only respondents: 8\n",
      "9.0% of those who selected Fluid selected ONLY this orientation\n",
      "\n",
      "Asexual and/or aromantic respondents (inclusive): 90\n",
      "Asexual and/or aromantic only respondents: 6\n",
      "6.7% of those who selected Asexual and/or aromantic selected ONLY this orientation\n",
      "\n",
      "Heterosexual respondents (inclusive): 31\n",
      "Heterosexual only respondents: 7\n",
      "22.6% of those who selected Heterosexual selected ONLY this orientation\n",
      "\n",
      "Questioning respondents (inclusive): 35\n",
      "Questioning only respondents: 2\n",
      "5.7% of those who selected Questioning selected ONLY this orientation\n",
      "\n",
      "NONE respondents (inclusive): 20\n",
      "NONE only respondents: 4\n",
      "20.0% of those who selected NONE selected ONLY this orientation\n",
      "\n"
     ]
    }
   ],
   "source": [
    "#Function used to create table 2 (p. 32)\n",
    "\n",
    "orientation_keys = {\n",
    "    \"LG\" : (LG_plus, LG_only, \"Gay or Lesbian\"),\n",
    "    \"L\" : (lesbian, only_lesbian, \"Lesbian\"),\n",
    "    \"G\" : (gay, only_gay, \"Gay\"),\n",
    "    \"NBLG\" : (nb_lg, only_nb_lg, \"Gay or Lesbian (nonbinary)\"),\n",
    "    \"Bi\" : (bi_plus, bi_only, \"Bi+\"),\n",
    "    \"Q\" : (q_plus, q_only, \"Queer\"),\n",
    "    \"Fluid\" : (fluid_plus, fluid_only, \"Fluid\"),\n",
    "    \"Ace\" : (ace_plus, ace_only, \"Asexual and/or aromantic\"),\n",
    "    \"Het\" : (het_plus, het_only, \"Heterosexual\"),\n",
    "    \"Questioning\" : (questioning_plus, questioning_only, \"Questioning\"),\n",
    "    \"None\" : (none_plus, none_only, \"NONE\")\n",
    "}\n",
    "\n",
    "\n",
    "def print_group_info(key):\n",
    "    x_plus, x_only, x_label = orientation_keys[key]\n",
    "    \n",
    "    x_only_count = len(x_only)\n",
    "    x_plus_count = len(x_plus)\n",
    "        \n",
    "    x_only_frac = x_only_count/x_plus_count\n",
    "    print(x_label, \"respondents (inclusive):\", len(x_plus))\n",
    "    print(x_label, \"only respondents:\", len(x_only))\n",
    "    print (f\"{x_only_frac:.1%} of those who selected\", x_label, \"selected ONLY this orientation\")\n",
    "    \n",
    "\n",
    "for key in orientation_keys.keys():\n",
    "    print_group_info(key)\n",
    "    print()"
   ]
  },
  {
   "cell_type": "code",
   "execution_count": null,
   "id": "palestinian-commander",
   "metadata": {},
   "outputs": [],
   "source": []
  },
  {
   "cell_type": "code",
   "execution_count": null,
   "id": "excess-reading",
   "metadata": {},
   "outputs": [],
   "source": []
  },
  {
   "cell_type": "code",
   "execution_count": null,
   "id": "infinite-creation",
   "metadata": {},
   "outputs": [],
   "source": []
  },
  {
   "cell_type": "code",
   "execution_count": null,
   "id": "assisted-galaxy",
   "metadata": {},
   "outputs": [],
   "source": []
  },
  {
   "cell_type": "code",
   "execution_count": null,
   "id": "strong-regulation",
   "metadata": {},
   "outputs": [],
   "source": []
  },
  {
   "cell_type": "code",
   "execution_count": 3,
   "id": "welcome-algorithm",
   "metadata": {},
   "outputs": [
    {
     "data": {
      "text/plain": [
       "(0.9593908629441624, 1.1257825860185013)"
      ]
     },
     "execution_count": 3,
     "metadata": {},
     "output_type": "execute_result"
    }
   ],
   "source": [
    "np.mean(tnb_plus.Alltid_velkommen), np.std(tnb_plus.Alltid_velkommen)"
   ]
  },
  {
   "cell_type": "code",
   "execution_count": 4,
   "id": "essential-guitar",
   "metadata": {},
   "outputs": [
    {
     "data": {
      "text/plain": [
       "(1.2225130890052356, 0.9379804352698924)"
      ]
     },
     "execution_count": 4,
     "metadata": {},
     "output_type": "execute_result"
    }
   ],
   "source": [
    "np.mean(cis.Trygge_rom_gen_B), np.std(cis.Trygge_rom_gen_B)"
   ]
  },
  {
   "cell_type": "markdown",
   "id": "lined-cause",
   "metadata": {
    "tags": []
   },
   "source": [
    "\n",
    "Cis \n",
    "Personal mean = 1.43 (.89)\n",
    "General: mean = 1.22 (.93)\n",
    "difference of .20\n",
    "\n",
    "\n",
    "Trans\n",
    "Personal mean = .96 (1.12)\n",
    "General: mean = .82 (1.05)\n",
    "difference of .14"
   ]
  },
  {
   "cell_type": "code",
   "execution_count": null,
   "id": "happy-navigator",
   "metadata": {},
   "outputs": [],
   "source": []
  },
  {
   "cell_type": "code",
   "execution_count": null,
   "id": "absent-least",
   "metadata": {
    "tags": []
   },
   "outputs": [],
   "source": []
  },
  {
   "cell_type": "code",
   "execution_count": 5,
   "id": "forward-parking",
   "metadata": {},
   "outputs": [
    {
     "data": {
      "text/plain": [
       "SpearmanrResult(correlation=0.3396155254499248, pvalue=8.536874147372123e-19)"
      ]
     },
     "execution_count": 5,
     "metadata": {},
     "output_type": "execute_result"
    }
   ],
   "source": [
    "stats.spearmanr(alle_skeive.Skeiv_ID.fillna(0), alle_skeive.Synlighet.fillna(0))"
   ]
  },
  {
   "cell_type": "code",
   "execution_count": null,
   "id": "metric-bridges",
   "metadata": {},
   "outputs": [],
   "source": []
  },
  {
   "cell_type": "code",
   "execution_count": 6,
   "id": "divine-brand",
   "metadata": {
    "tags": []
   },
   "outputs": [],
   "source": [
    "#cis_heterofile[\"age_weight\"] = cis_heterofile.Alder.apply(lambda age: age_weights.loc[age].weight)\n",
    "#cis_heterofile[[\"Alder\", \"age_weight\"]]"
   ]
  },
  {
   "cell_type": "code",
   "execution_count": 7,
   "id": "involved-tablet",
   "metadata": {},
   "outputs": [
    {
     "data": {
      "text/plain": [
       "K     189\n",
       "M      76\n",
       "SU      2\n",
       "Name: Kjonnsidentitet, dtype: int64"
      ]
     },
     "execution_count": 7,
     "metadata": {},
     "output_type": "execute_result"
    }
   ],
   "source": [
    "cis_heterofile.Kjonnsidentitet.value_counts()"
   ]
  },
  {
   "cell_type": "code",
   "execution_count": 8,
   "id": "systematic-segment",
   "metadata": {},
   "outputs": [],
   "source": [
    "known_population_gender = pd.Series([.495, .515, .0], index=['K', 'M', 'SU'])\n",
    "known_population_gender.name = 'known_population_gender'"
   ]
  },
  {
   "cell_type": "code",
   "execution_count": 9,
   "id": "worse-wealth",
   "metadata": {},
   "outputs": [
    {
     "data": {
      "text/plain": [
       "K     0.707865\n",
       "M     0.284644\n",
       "SU    0.007491\n",
       "Name: gender_fraction, dtype: float64"
      ]
     },
     "execution_count": 9,
     "metadata": {},
     "output_type": "execute_result"
    }
   ],
   "source": [
    "gender_counts = cis_heterofile.Kjonnsidentitet.value_counts()\n",
    "total = len(cis_heterofile.Kjonnsidentitet.dropna())\n",
    "gender_fractions = gender_counts / total\n",
    "gender_fractions.name = 'gender_fraction'\n",
    "gender_fractions"
   ]
  },
  {
   "cell_type": "code",
   "execution_count": 10,
   "id": "soviet-drinking",
   "metadata": {},
   "outputs": [],
   "source": [
    "gender_weights = pd.concat([gender_fractions, known_population_gender], axis=1)"
   ]
  },
  {
   "cell_type": "code",
   "execution_count": 11,
   "id": "incoming-camel",
   "metadata": {},
   "outputs": [
    {
     "data": {
      "text/html": [
       "<div>\n",
       "<style scoped>\n",
       "    .dataframe tbody tr th:only-of-type {\n",
       "        vertical-align: middle;\n",
       "    }\n",
       "\n",
       "    .dataframe tbody tr th {\n",
       "        vertical-align: top;\n",
       "    }\n",
       "\n",
       "    .dataframe thead th {\n",
       "        text-align: right;\n",
       "    }\n",
       "</style>\n",
       "<table border=\"1\" class=\"dataframe\">\n",
       "  <thead>\n",
       "    <tr style=\"text-align: right;\">\n",
       "      <th></th>\n",
       "      <th>gender_fraction</th>\n",
       "      <th>known_population_gender</th>\n",
       "      <th>gender_weight</th>\n",
       "    </tr>\n",
       "  </thead>\n",
       "  <tbody>\n",
       "    <tr>\n",
       "      <th>K</th>\n",
       "      <td>0.707865</td>\n",
       "      <td>0.495</td>\n",
       "      <td>0.699286</td>\n",
       "    </tr>\n",
       "    <tr>\n",
       "      <th>M</th>\n",
       "      <td>0.284644</td>\n",
       "      <td>0.515</td>\n",
       "      <td>1.809276</td>\n",
       "    </tr>\n",
       "    <tr>\n",
       "      <th>SU</th>\n",
       "      <td>0.007491</td>\n",
       "      <td>0.000</td>\n",
       "      <td>0.000000</td>\n",
       "    </tr>\n",
       "  </tbody>\n",
       "</table>\n",
       "</div>"
      ],
      "text/plain": [
       "    gender_fraction  known_population_gender  gender_weight\n",
       "K          0.707865                    0.495       0.699286\n",
       "M          0.284644                    0.515       1.809276\n",
       "SU         0.007491                    0.000       0.000000"
      ]
     },
     "execution_count": 11,
     "metadata": {},
     "output_type": "execute_result"
    }
   ],
   "source": [
    "gender_weights[\"gender_weight\"] = gender_weights[\"known_population_gender\"] / gender_weights[\"gender_fraction\"]\n",
    "gender_weights"
   ]
  },
  {
   "cell_type": "code",
   "execution_count": 12,
   "id": "imperial-electronics",
   "metadata": {
    "tags": []
   },
   "outputs": [],
   "source": [
    "#cis_heterofile[\"gender_weight\"] = cis_heterofile.Kjonnsidentitet.apply(lambda gender: gender_weights.loc[gender].gender_weight)\n",
    "#cis_heterofile[[\"Kjonnsidentitet\", \"gender_weight\"]]"
   ]
  },
  {
   "cell_type": "code",
   "execution_count": 13,
   "id": "handed-nelson",
   "metadata": {},
   "outputs": [
    {
     "data": {
      "text/plain": [
       "Mindre enn 3 måneder siden    183\n",
       "3-11 måneder siden             71\n",
       "1-3 år siden                   37\n",
       "6 år siden eller mer           26\n",
       "3-6 år siden                   13\n",
       "Less than 3 months ago          8\n",
       "3-11 months ago                 4\n",
       "Aldri                           3\n",
       "1-3 years ago                   3\n",
       "3-6 years ago                   1\n",
       "Name: Sist_besok, dtype: int64"
      ]
     },
     "execution_count": 13,
     "metadata": {},
     "output_type": "execute_result"
    }
   ],
   "source": [
    "eldre = alle_skeive[alle_skeive.mapped_age > 1]\n",
    "eldre.Sist_besok.value_counts()"
   ]
  },
  {
   "cell_type": "code",
   "execution_count": 14,
   "id": "incorrect-briefs",
   "metadata": {},
   "outputs": [
    {
     "name": "stdout",
     "output_type": "stream",
     "text": [
      "16-29 % som har besøkt siste året\n",
      "0.8737201365187713\n",
      "Older:\n",
      "0.7621776504297995\n"
     ]
    }
   ],
   "source": [
    "print(\"16-29 % som har besøkt siste året\")\n",
    "print((168+74+6+8)/len(s_Age_16_29))\n",
    "print(\"Older:\")\n",
    "print((183+71+8+4)/len(eldre))"
   ]
  },
  {
   "cell_type": "code",
   "execution_count": 15,
   "id": "southwest-mechanics",
   "metadata": {},
   "outputs": [
    {
     "data": {
      "text/plain": [
       "30-44      128\n",
       "16-29       96\n",
       "45-60       45\n",
       "Over_60     10\n",
       "Name: Alder, dtype: int64"
      ]
     },
     "execution_count": 15,
     "metadata": {},
     "output_type": "execute_result"
    }
   ],
   "source": [
    "one_O.Alder.value_counts()"
   ]
  },
  {
   "cell_type": "code",
   "execution_count": 16,
   "id": "particular-affect",
   "metadata": {
    "tags": []
   },
   "outputs": [
    {
     "data": {
      "text/plain": [
       "16-29      88\n",
       "30-44      44\n",
       "45-60      12\n",
       "Over_60     2\n",
       "Name: Alder, dtype: int64"
      ]
     },
     "execution_count": 16,
     "metadata": {},
     "output_type": "execute_result"
    }
   ],
   "source": [
    "multiple_O.Alder.value_counts()"
   ]
  },
  {
   "cell_type": "code",
   "execution_count": 17,
   "id": "removed-diploma",
   "metadata": {},
   "outputs": [
    {
     "data": {
      "text/plain": [
       "16-29      293\n",
       "30-44      246\n",
       "45-60       86\n",
       "Over_60     17\n",
       "Name: Alder, dtype: int64"
      ]
     },
     "execution_count": 17,
     "metadata": {},
     "output_type": "execute_result"
    }
   ],
   "source": [
    "alle_skeive.Alder.value_counts()"
   ]
  },
  {
   "cell_type": "code",
   "execution_count": 18,
   "id": "entertaining-circus",
   "metadata": {},
   "outputs": [
    {
     "data": {
      "text/plain": [
       "0.3003412969283277"
      ]
     },
     "execution_count": 18,
     "metadata": {},
     "output_type": "execute_result"
    }
   ],
   "source": [
    "44/246\n",
    "88/293"
   ]
  },
  {
   "cell_type": "code",
   "execution_count": 19,
   "id": "convinced-fishing",
   "metadata": {},
   "outputs": [],
   "source": [
    "q = \"Helt_meg_selv\"\n",
    "\n",
    "sub_groups = [binary_trans,\n",
    "nonbinary,\n",
    "questioning_gender,\n",
    "             ]\n",
    "\n",
    "tnb_plus;"
   ]
  },
  {
   "cell_type": "code",
   "execution_count": 20,
   "id": "flying-harassment",
   "metadata": {},
   "outputs": [
    {
     "data": {
      "text/html": [
       "<div>\n",
       "<style scoped>\n",
       "    .dataframe tbody tr th:only-of-type {\n",
       "        vertical-align: middle;\n",
       "    }\n",
       "\n",
       "    .dataframe tbody tr th {\n",
       "        vertical-align: top;\n",
       "    }\n",
       "\n",
       "    .dataframe thead th {\n",
       "        text-align: right;\n",
       "    }\n",
       "</style>\n",
       "<table border=\"1\" class=\"dataframe\">\n",
       "  <thead>\n",
       "    <tr style=\"text-align: right;\">\n",
       "      <th></th>\n",
       "      <th>Cis</th>\n",
       "      <th>Kjonnsidentitet</th>\n",
       "    </tr>\n",
       "  </thead>\n",
       "  <tbody>\n",
       "    <tr>\n",
       "      <th>23</th>\n",
       "      <td>SU</td>\n",
       "      <td>IB</td>\n",
       "    </tr>\n",
       "    <tr>\n",
       "      <th>96</th>\n",
       "      <td>SU</td>\n",
       "      <td>IB</td>\n",
       "    </tr>\n",
       "    <tr>\n",
       "      <th>98</th>\n",
       "      <td>SU</td>\n",
       "      <td>IB</td>\n",
       "    </tr>\n",
       "    <tr>\n",
       "      <th>143</th>\n",
       "      <td>SU</td>\n",
       "      <td>IB</td>\n",
       "    </tr>\n",
       "    <tr>\n",
       "      <th>180</th>\n",
       "      <td>SU</td>\n",
       "      <td>IB</td>\n",
       "    </tr>\n",
       "    <tr>\n",
       "      <th>185</th>\n",
       "      <td>SU</td>\n",
       "      <td>IB</td>\n",
       "    </tr>\n",
       "    <tr>\n",
       "      <th>187</th>\n",
       "      <td>SU</td>\n",
       "      <td>IB</td>\n",
       "    </tr>\n",
       "    <tr>\n",
       "      <th>238</th>\n",
       "      <td>SU</td>\n",
       "      <td>IB</td>\n",
       "    </tr>\n",
       "    <tr>\n",
       "      <th>317</th>\n",
       "      <td>SU</td>\n",
       "      <td>IB</td>\n",
       "    </tr>\n",
       "    <tr>\n",
       "      <th>377</th>\n",
       "      <td>SU</td>\n",
       "      <td>IB</td>\n",
       "    </tr>\n",
       "    <tr>\n",
       "      <th>483</th>\n",
       "      <td>SU</td>\n",
       "      <td>IB</td>\n",
       "    </tr>\n",
       "    <tr>\n",
       "      <th>488</th>\n",
       "      <td>SU</td>\n",
       "      <td>IB</td>\n",
       "    </tr>\n",
       "    <tr>\n",
       "      <th>555</th>\n",
       "      <td>SU</td>\n",
       "      <td>IB</td>\n",
       "    </tr>\n",
       "  </tbody>\n",
       "</table>\n",
       "</div>"
      ],
      "text/plain": [
       "    Cis Kjonnsidentitet\n",
       "23   SU              IB\n",
       "96   SU              IB\n",
       "98   SU              IB\n",
       "143  SU              IB\n",
       "180  SU              IB\n",
       "185  SU              IB\n",
       "187  SU              IB\n",
       "238  SU              IB\n",
       "317  SU              IB\n",
       "377  SU              IB\n",
       "483  SU              IB\n",
       "488  SU              IB\n",
       "555  SU              IB"
      ]
     },
     "execution_count": 20,
     "metadata": {},
     "output_type": "execute_result"
    }
   ],
   "source": [
    "all_nr = pd.concat(sub_groups).NR\n",
    "nr_counts = all_nr.value_counts()\n",
    "doubles = nr_counts[nr_counts > 1]\n",
    "all_nr[all_nr.isin(doubles.index)]\n",
    "df.loc[df.NR.isin(doubles.index), [\"Cis\", \"Kjonnsidentitet\"]]"
   ]
  },
  {
   "cell_type": "code",
   "execution_count": 21,
   "id": "sound-naples",
   "metadata": {},
   "outputs": [
    {
     "data": {
      "text/html": [
       "<div>\n",
       "<style scoped>\n",
       "    .dataframe tbody tr th:only-of-type {\n",
       "        vertical-align: middle;\n",
       "    }\n",
       "\n",
       "    .dataframe tbody tr th {\n",
       "        vertical-align: top;\n",
       "    }\n",
       "\n",
       "    .dataframe thead th {\n",
       "        text-align: right;\n",
       "    }\n",
       "</style>\n",
       "<table border=\"1\" class=\"dataframe\">\n",
       "  <thead>\n",
       "    <tr style=\"text-align: right;\">\n",
       "      <th></th>\n",
       "      <th>NR</th>\n",
       "      <th>Cis</th>\n",
       "      <th>Kjonnsidentitet</th>\n",
       "      <th>Helt_meg_selv</th>\n",
       "    </tr>\n",
       "  </thead>\n",
       "  <tbody>\n",
       "    <tr>\n",
       "      <th>216</th>\n",
       "      <td>12543235</td>\n",
       "      <td>N</td>\n",
       "      <td>SU</td>\n",
       "      <td>-1.0</td>\n",
       "    </tr>\n",
       "    <tr>\n",
       "      <th>248</th>\n",
       "      <td>12548606</td>\n",
       "      <td>N</td>\n",
       "      <td>NONE</td>\n",
       "      <td>1.0</td>\n",
       "    </tr>\n",
       "    <tr>\n",
       "      <th>261</th>\n",
       "      <td>12553119</td>\n",
       "      <td>N</td>\n",
       "      <td>NONE</td>\n",
       "      <td>1.0</td>\n",
       "    </tr>\n",
       "    <tr>\n",
       "      <th>338</th>\n",
       "      <td>12574096</td>\n",
       "      <td>N</td>\n",
       "      <td>NONE</td>\n",
       "      <td>-1.0</td>\n",
       "    </tr>\n",
       "    <tr>\n",
       "      <th>389</th>\n",
       "      <td>12586341</td>\n",
       "      <td>N</td>\n",
       "      <td>NONE</td>\n",
       "      <td>-1.0</td>\n",
       "    </tr>\n",
       "    <tr>\n",
       "      <th>423</th>\n",
       "      <td>12629348</td>\n",
       "      <td>N</td>\n",
       "      <td>NONE</td>\n",
       "      <td>-1.0</td>\n",
       "    </tr>\n",
       "    <tr>\n",
       "      <th>462</th>\n",
       "      <td>12641332</td>\n",
       "      <td>N</td>\n",
       "      <td>NONE</td>\n",
       "      <td>1.0</td>\n",
       "    </tr>\n",
       "    <tr>\n",
       "      <th>467</th>\n",
       "      <td>12651201</td>\n",
       "      <td>N</td>\n",
       "      <td>NONE</td>\n",
       "      <td>0.0</td>\n",
       "    </tr>\n",
       "    <tr>\n",
       "      <th>506</th>\n",
       "      <td>12689366</td>\n",
       "      <td>N</td>\n",
       "      <td>SU</td>\n",
       "      <td>NaN</td>\n",
       "    </tr>\n",
       "  </tbody>\n",
       "</table>\n",
       "</div>"
      ],
      "text/plain": [
       "           NR Cis Kjonnsidentitet  Helt_meg_selv\n",
       "216  12543235   N              SU           -1.0\n",
       "248  12548606   N            NONE            1.0\n",
       "261  12553119   N            NONE            1.0\n",
       "338  12574096   N            NONE           -1.0\n",
       "389  12586341   N            NONE           -1.0\n",
       "423  12629348   N            NONE           -1.0\n",
       "462  12641332   N            NONE            1.0\n",
       "467  12651201   N            NONE            0.0\n",
       "506  12689366   N              SU            NaN"
      ]
     },
     "execution_count": 21,
     "metadata": {},
     "output_type": "execute_result"
    }
   ],
   "source": [
    "overlap = tnb_plus.NR.isin(all_nr)\n",
    "tnb_plus.loc[overlap == False, [\"NR\", \"Cis\", \"Kjonnsidentitet\", q]]\n"
   ]
  },
  {
   "cell_type": "code",
   "execution_count": null,
   "id": "apparent-appendix",
   "metadata": {
    "tags": []
   },
   "outputs": [],
   "source": []
  },
  {
   "cell_type": "code",
   "execution_count": 30,
   "id": "starting-gentleman",
   "metadata": {},
   "outputs": [
    {
     "name": "stdout",
     "output_type": "stream",
     "text": [
      "Brunner-Munzel teststatistikk:-2.46 \n",
      "p-verdi:0.014993764099184848 \n",
      "CL effektstørrelse = G1: 0.583 / G2: 0.417  \n",
      "95% konfidensintervall: ±0.067 (lav = 0.35, høy = 0.484) \n",
      "frihetsgrad:153.84524965711566 \n"
     ]
    }
   ],
   "source": [
    "#Attempts at weighting based on age\n",
    "\n",
    "brunnermunzel_test(s_R.Utrygt_stille_spm.dropna(), eldre.Utrygt_stille_spm.dropna(), ttype=0, alpha=.05)\n",
    "age_counts = cis_heterofile.Alder.value_counts()\n",
    "total = len(cis_heterofile.Alder.dropna())\n",
    "age_fractions = age_counts / total\n",
    "age_fractions.name = 'age_fraction'\n",
    "age_fractions\n",
    "\n",
    "known_population = pd.Series([.19, .202, .202, .237], index=['16-29', '30-44', '45-60', 'Over_60'])\n",
    "known_population.name = 'known_population'\n",
    "age_weights = pd.concat([age_fractions, known_population], axis=1)\n"
   ]
  },
  {
   "cell_type": "code",
   "execution_count": 29,
   "id": "adult-integral",
   "metadata": {},
   "outputs": [
    {
     "data": {
      "text/html": [
       "<div>\n",
       "<style scoped>\n",
       "    .dataframe tbody tr th:only-of-type {\n",
       "        vertical-align: middle;\n",
       "    }\n",
       "\n",
       "    .dataframe tbody tr th {\n",
       "        vertical-align: top;\n",
       "    }\n",
       "\n",
       "    .dataframe thead th {\n",
       "        text-align: right;\n",
       "    }\n",
       "</style>\n",
       "<table border=\"1\" class=\"dataframe\">\n",
       "  <thead>\n",
       "    <tr style=\"text-align: right;\">\n",
       "      <th></th>\n",
       "      <th>age_fraction</th>\n",
       "      <th>known_population</th>\n",
       "      <th>weight</th>\n",
       "    </tr>\n",
       "  </thead>\n",
       "  <tbody>\n",
       "    <tr>\n",
       "      <th>30-44</th>\n",
       "      <td>0.475655</td>\n",
       "      <td>0.202</td>\n",
       "      <td>0.424677</td>\n",
       "    </tr>\n",
       "    <tr>\n",
       "      <th>45-60</th>\n",
       "      <td>0.258427</td>\n",
       "      <td>0.202</td>\n",
       "      <td>0.781652</td>\n",
       "    </tr>\n",
       "    <tr>\n",
       "      <th>16-29</th>\n",
       "      <td>0.161049</td>\n",
       "      <td>0.190</td>\n",
       "      <td>1.179767</td>\n",
       "    </tr>\n",
       "    <tr>\n",
       "      <th>Over_60</th>\n",
       "      <td>0.104869</td>\n",
       "      <td>0.237</td>\n",
       "      <td>2.259964</td>\n",
       "    </tr>\n",
       "  </tbody>\n",
       "</table>\n",
       "</div>"
      ],
      "text/plain": [
       "         age_fraction  known_population    weight\n",
       "30-44        0.475655             0.202  0.424677\n",
       "45-60        0.258427             0.202  0.781652\n",
       "16-29        0.161049             0.190  1.179767\n",
       "Over_60      0.104869             0.237  2.259964"
      ]
     },
     "execution_count": 29,
     "metadata": {},
     "output_type": "execute_result"
    }
   ],
   "source": [
    "age_weights[\"weight\"] = age_weights[\"known_population\"] / age_weights[\"age_fraction\"]\n",
    "age_weights"
   ]
  },
  {
   "cell_type": "code",
   "execution_count": null,
   "id": "bizarre-doctrine",
   "metadata": {
    "jupyter": {
     "source_hidden": true
    },
    "tags": []
   },
   "outputs": [],
   "source": []
  },
  {
   "cell_type": "markdown",
   "id": "forty-globe",
   "metadata": {
    "jupyter": {
     "source_hidden": true
    },
    "tags": []
   },
   "source": []
  },
  {
   "cell_type": "code",
   "execution_count": null,
   "id": "bearing-forge",
   "metadata": {
    "jupyter": {
     "source_hidden": true
    },
    "tags": []
   },
   "outputs": [],
   "source": []
  },
  {
   "cell_type": "code",
   "execution_count": null,
   "id": "exclusive-mexico",
   "metadata": {
    "tags": []
   },
   "outputs": [],
   "source": []
  },
  {
   "cell_type": "code",
   "execution_count": null,
   "id": "serious-river",
   "metadata": {
    "tags": []
   },
   "outputs": [],
   "source": []
  },
  {
   "cell_type": "code",
   "execution_count": 7,
   "id": "worst-translation",
   "metadata": {},
   "outputs": [
    {
     "name": "stdout",
     "output_type": "stream",
     "text": [
      "Brunner-Munzel teststatistikk:-2.624 \n",
      "p-verdi:0.009427117514787753 \n",
      "CL effektstørrelse = G1: 0.586 / G2: 0.414  \n",
      "95% konfidensintervall: ±0.065 (lav = 0.349, høy = 0.479) \n",
      "frihetsgrad:180.10393450318276 \n"
     ]
    }
   ],
   "source": [
    "brunnermunzel_test(s_R.Minoritetsstress_ansatte.dropna(), s_D.Minoritetsstress_ansatte.dropna(), ttype=0, alpha=.05)"
   ]
  },
  {
   "cell_type": "code",
   "execution_count": null,
   "id": "attractive-vacation",
   "metadata": {},
   "outputs": [],
   "source": []
  },
  {
   "cell_type": "code",
   "execution_count": null,
   "id": "serial-telephone",
   "metadata": {},
   "outputs": [],
   "source": []
  },
  {
   "cell_type": "code",
   "execution_count": null,
   "id": "unique-mentor",
   "metadata": {},
   "outputs": [],
   "source": []
  },
  {
   "cell_type": "code",
   "execution_count": null,
   "id": "answering-result",
   "metadata": {},
   "outputs": [],
   "source": [
    "dropdown=widgets.Dropdown(options=all_groups.keys())\n",
    "dropdown.layout.width='500px'\n",
    "def function(pickone):\n",
    "    groups=all_groups[pickone]\n",
    "    plot_group_tilfredshet(groups, plot_all=False, normalize=True)\n",
    "    plt.title('\"Alt i alt, i hvor stor grad tilfredsstiller tjenestene og tilbudet ved folkebiblioteket du bruker oftest \\n(inkl. samlingen, retningslinjer, arrangementer m.m.) dine behov og ønsker som [skeiv/LHBTIQ+] bibliotekbruker?\" \\n')\n",
    "    plt.savefig(\"Fig 1.pdf\", bbox_inches=\"tight\")\n",
    "    plt.show()\n",
    "    \n",
    "#     if len(groups.items())>=3:\n",
    "#         h, kp = kruskal_wallis(groups, column)\n",
    "#         display(Markdown(f\"**Kruskal-Wallis H test:** <br> **p value:** {kp:.2g}  <br> (p < .05 betyr at forskjellen mellom minst to av gruppene er statistisk signifikant)\"))\n",
    "#     #put this in after H if you want to display H statistic {h:.1f} \n",
    "#     else:\n",
    "#         u, mp = mann_whitney(groups, column)\n",
    "#         display(Markdown(f\"**Mann-Whitney U test:** <br> **U:** {u:.1f} <br> **p value:** {mp:.2g} <br> (p < .05 betyr at forskjellen mellom gruppene er statistisk signifikant)\")) \n",
    "    \n",
    "out = widgets.interactive_output(function, {\"pickone\":dropdown})\n",
    "out.layout.height = '900px'\n",
    "display(dropdown, out)\n",
    "#AskMin for help getting this one to have the (N =) on the group names"
   ]
  },
  {
   "cell_type": "code",
   "execution_count": null,
   "id": "resistant-transmission",
   "metadata": {
    "tags": []
   },
   "outputs": [],
   "source": [
    "len(cis_heterofile[cis_heterofile.Overall_tilfredshet == 1])/len(ch_brukere)\n",
    "#len(cis_heterofile[cis_heterofile.Overall_tilfredshet >= 5])/len(ch_brukere)"
   ]
  },
  {
   "cell_type": "code",
   "execution_count": null,
   "id": "dutch-stream",
   "metadata": {
    "tags": []
   },
   "outputs": [],
   "source": [
    "len(cs_brukere[cs_brukere.Overall_tilfredshet == 7])/len(cs_brukere)\n",
    "len(cs_brukere[cs_brukere.Overall_tilfredshet >= 5])/len(cs_brukere)"
   ]
  },
  {
   "cell_type": "code",
   "execution_count": null,
   "id": "stable-state",
   "metadata": {
    "tags": []
   },
   "outputs": [],
   "source": [
    "len(tnb_plus_brukere[tnb_plus_brukere.Overall_tilfredshet == 7])/len(tnb_plus_brukere)\n",
    "#len(tnb_plus_brukere[tnb_plus_brukere.Overall_tilfredshet >= 5])/len(tnb_plus_brukere)"
   ]
  },
  {
   "cell_type": "code",
   "execution_count": null,
   "id": "australian-director",
   "metadata": {},
   "outputs": [],
   "source": [
    "brunnermunzel_test(ace_plus.Overall_tilfredshet.dropna(), LG_plus.Overall_tilfredshet.dropna(), ttype=0, alpha=.05)"
   ]
  },
  {
   "cell_type": "code",
   "execution_count": null,
   "id": "wicked-beginning",
   "metadata": {
    "tags": []
   },
   "outputs": [],
   "source": [
    "#Come back to this one\n",
    "# dropdown1=widgets.Dropdown(options=all_groups.keys())\n",
    "# dropdown1.layout.width='1000px'\n",
    "# dropdown2 = widgets.Dropdown(options=all_enighet_columns_dict.keys())\n",
    "# dropdown2.layout.width='1000px'\n",
    "# def function(pickone, pickanother):\n",
    "#     group=all_groups[pickone]\n",
    "#     column=all_enighet_columns_dict[pickanother]\n",
    "#     hbar_scales(group, column, group_order = None)\n",
    "#     plt.title(\"Enighet i påstanden: '\" + dropdown2.label +\"'\\n\")\n",
    "#     plt.show()\n",
    "\n",
    "        \n",
    "# out = widgets.interactive_output(function, {\"pickone\":dropdown1, \"pickanother\":dropdown2})\n",
    "# out.layout.height = '900px'\n",
    "# display(dropdown1, dropdown2, out)"
   ]
  },
  {
   "cell_type": "markdown",
   "id": "violent-think",
   "metadata": {},
   "source": []
  },
  {
   "cell_type": "code",
   "execution_count": null,
   "id": "hydraulic-description",
   "metadata": {},
   "outputs": [],
   "source": [
    "print(len(nonbinary))\n",
    "nonbinary.Synlig_Skeiv.value_counts()"
   ]
  },
  {
   "cell_type": "code",
   "execution_count": null,
   "id": "interested-aaron",
   "metadata": {},
   "outputs": [],
   "source": [
    "print(len(binary_trans))\n",
    "binary_trans.Synlig_Skeiv.value_counts()"
   ]
  },
  {
   "cell_type": "code",
   "execution_count": null,
   "id": "noticed-nashville",
   "metadata": {},
   "outputs": [],
   "source": [
    "TRUE = alle_skeive[alle_skeive.Tokjønnsnorm==True]\n",
    "FALSE = alle_skeive[alle_skeive.Tokjønnsnorm==False]\n",
    "42/108\n",
    "endosex = alle_skeive[alle_skeive.Intersex==\"N\"]\n",
    "len(endosex)\n",
    "stats.spearmanr(TRUE.Helt_meg_selv.fillna(0), TRUE.Alltid_velkommen.fillna(0))"
   ]
  },
  {
   "cell_type": "code",
   "execution_count": null,
   "id": "million-correspondence",
   "metadata": {
    "tags": []
   },
   "outputs": [],
   "source": [
    "tnb_binær = tnb_plus[tnb_plus.Tokjønnsnorm==True]\n",
    "tnb_bryter = tnb_plus[tnb_plus.Tokjønnsnorm==False]\n",
    "\n",
    "cis_tokjønn_cats = {\n",
    "    \"cis\" : (cis, \"cispersoner\"),\n",
    "    \"trans\" : (tnb_plus, \"transparaplyen samlet\"),\n",
    "    \"passer inn\" : (tnb_binær, \"de under transparaplyen som passer inn i tokjønnsnormen\"),\n",
    "    \"bryter med\" : (tnb_bryter, \"de under transparaplyen som bryter med tokjønnsnormen\"),\n",
    "}\n",
    "\n",
    "def print_responses(cat, column=\"Alltid_velkommen\"):\n",
    "    cat, cat_label = cis_tokjønn_cats[cat]\n",
    "    print (f\"{round(np.mean(cat[column]),2)} (σ={round(np.std(cat[column]),2)}) for {cat_label} (n = {len(cat)}) \")\n",
    "print(\"Gjennomsnittsverdi og standardavvik for påstanden: \\n'Jeg føler meg alltid velkommen og trygg på biblioteket'\\nSkala: svært uenig (-2) til svært enig (+2)\\n\")\n",
    "for cat in cis_tokjønn_cats.keys():\n",
    "    print_responses(cat)\n",
    "\n",
    "   \n",
    "#     \"binary trans\" : (binary_trans, \"binære transpersoner\"),\n",
    "#     \"nonbinary\" : (nonbinary, \"ikke-binære\"),\n",
    "#     \"søkende/ingen\" : (genderstuff_trans, \"søkende/usikker/ingen\"),"
   ]
  },
  {
   "cell_type": "code",
   "execution_count": null,
   "id": "spiritual-broadway",
   "metadata": {},
   "outputs": [],
   "source": [
    "intersex_cats = {\n",
    "    \"endosex\" : (endosex, \"ikke-interkjønnpersoner\"),\n",
    "    \"intersex\" : (intersex, \"interkjønnpersoner\"),\n",
    "    \"possibly intersex\" : (intersex_usikker, \"de som er usikker\")\n",
    "}\n",
    "\n",
    "def print_responses(cat, column=\"Alltid_velkommen\"):\n",
    "    cat, cat_label = intersex_cats[cat]\n",
    "    print (f\"{round(np.mean(cat[column]),2)} (σ={round(np.std(cat[column]),2)}) for {cat_label} (n = {len(cat)})\")\n",
    "\n",
    "print(\"Gjennomsnittsverdi og standardavvik for påstanden: \\n'Jeg føler meg alltid velkommen og trygg på folkebiblioteket'\\nSkala: svært uenig (-2) til svært enig (+2)\\n\")\n",
    "for cat in intersex_cats.keys():\n",
    "    print_responses(cat)\n"
   ]
  },
  {
   "cell_type": "code",
   "execution_count": null,
   "id": "saved-lambda",
   "metadata": {
    "tags": []
   },
   "outputs": [],
   "source": [
    "\n",
    "print(f\"TNB plus: {np.mean(tnb_plus.Helt_meg_selv)}, binary trans: {np.mean(binary_trans.Helt_meg_selv)}, nonbinary: {np.mean(nonbinary.Helt_meg_selv)}\")\n",
    "print(f\"Intersex: {np.mean(intersex.Helt_meg_selv)}, Intersex plus: {np.mean(intersex_usikker.Helt_meg_selv)}, Endosex: {np.mean(endosex.Helt_meg_selv)}\")"
   ]
  },
  {
   "cell_type": "code",
   "execution_count": null,
   "id": "sized-queen",
   "metadata": {},
   "outputs": [],
   "source": [
    "#reversed_orientations={v:k for k,v in orientation_names.items()}\n",
    "#dropdown1=widgets.Dropdown(options=reversed_orientations, value=\"Bi\")\n",
    "#dropdown2=widgets.Dropdown(options=reversed_orientations, value=\"Ace\")\n",
    "#dropdown3=widgets.Dropdown(options=reversed_orientations, value=\"Q\")\n",
    "#dropdown.layout.width='100%'\n",
    "#gui_in_visual_basic=widgets.HBox([dropdown1, dropdown2, dropdown3])\n",
    "\n",
    "\n",
    "#out = widgets.interactive_output(orientation_venn, {\"O1\":dropdown1, \"O2\":dropdown2, \"O3\":dropdown3})\n",
    "#out.layout.height = '800px'\n",
    "#display(gui_in_visual_basic, out)"
   ]
  },
  {
   "cell_type": "code",
   "execution_count": null,
   "id": "adverse-franklin",
   "metadata": {},
   "outputs": [],
   "source": [
    "#fig = plt.figure(figsize=(12,4))\n",
    "#ax = fig.add_axes([0,0,1,1])\n",
    "#orientations = ['Ikke-monoseksuell \\n(Bi+, panfil mm.)', 'Lesbisk/homofil', 'Skeiv', 'Aseksuell / \\n Ace-spekter', 'Flytende', 'Søkende/usikker', 'Heterofil', 'Annet (ingen av \\n svaralternativene passer)']\n",
    "#respondents = [len(bi_plus), len(LG_plus), len(q_plus), len(ace_plus), len(fluid_plus), len(questioning_plus), len(het_plus), len(none_only)]\n",
    "#ax.bar(orientations, respondents)\n",
    "#plt.bar(orientations, respondents, color=['crimson', 'darkorange', 'gold', 'yellowgreen', 'lightseagreen', 'royalblue', 'rebeccapurple'])\n",
    "#plt.show()"
   ]
  },
  {
   "cell_type": "code",
   "execution_count": null,
   "id": "increasing-american",
   "metadata": {
    "tags": []
   },
   "outputs": [],
   "source": [
    "# Pie chart, where the slices will be ordered and plotted counter-clockwise:\n",
    "#labels = 'Ikke-monoseksuell \\n(Bi+, panfil mm.)', 'Lesbisk/homofil', 'Skeiv', 'Aseksuell / \\n Ace-spekter', 'Flytende', 'Søkende/usikker', 'Heterofil', 'Annet (ingen av \\n svaralternativene passer)'\n",
    "#sizes = [len(bi_plus), len(LG_plus), len(q_plus), len(ace_plus), len(fluid_plus), len(questioning_plus), len(het_plus), len(none_only)]\n",
    "#colors = ['crimson', 'darkorange', 'gold', 'yellowgreen', 'lightseagreen', 'royalblue', 'rebeccapurple', \"MediumVioletRed\"]\n",
    "#explode = (0, 0.1, 0, 0)  # only \"explode\" the 2nd slice (i.e. 'Hogs')\n",
    "\n",
    "#fig1, ax1 = plt.subplots()\n",
    "\n",
    "#ax1.pie(sizes, explode=None, labels=labels, counterclock=False, colors = colors, wedgeprops={'alpha':0.8}, textprops={'fontsize': 14}, labeldistance=None, pctdistance=.8, autopct='%1.0f%%',\n",
    "#        shadow=False, startangle=90)\n",
    "#ax1.axis('equal')  # Equal aspect ratio ensures that pie is drawn as a circle.\n",
    "#plt.legend(fontsize=\"x-large\", title=\"Andel respondenter som valgte \\n ulike seksuelle orienteringer \\n\", loc=\"center left\", bbox_to_anchor=(.85, 0, 0, 1))\n",
    "\n",
    "#plt.show()"
   ]
  },
  {
   "cell_type": "code",
   "execution_count": 35,
   "id": "tamil-bradley",
   "metadata": {},
   "outputs": [
    {
     "data": {
      "text/plain": [
       "0.24761904761904763"
      ]
     },
     "execution_count": 35,
     "metadata": {},
     "output_type": "execute_result"
    }
   ],
   "source": [
    "sum(s_R.Valgt_andre_bib==True)/len(s_R)"
   ]
  },
  {
   "cell_type": "code",
   "execution_count": null,
   "id": "handled-sunday",
   "metadata": {},
   "outputs": [],
   "source": []
  }
 ],
 "metadata": {
  "kernelspec": {
   "display_name": "Python 3",
   "language": "python",
   "name": "python3"
  },
  "language_info": {
   "codemirror_mode": {
    "name": "ipython",
    "version": 3
   },
   "file_extension": ".py",
   "mimetype": "text/x-python",
   "name": "python",
   "nbconvert_exporter": "python",
   "pygments_lexer": "ipython3",
   "version": "3.9.1"
  }
 },
 "nbformat": 4,
 "nbformat_minor": 5
}
