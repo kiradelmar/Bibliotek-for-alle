{
 "cells": [
  {
   "cell_type": "code",
   "execution_count": 1,
   "id": "trained-behalf",
   "metadata": {},
   "outputs": [],
   "source": [
    "%%capture\n",
    "%run shared.ipynb"
   ]
  },
  {
   "cell_type": "markdown",
   "id": "rolled-recording",
   "metadata": {
    "tags": []
   },
   "source": [
    "## Analyses used in thesis\n",
    "\n",
    "These are among the statistical analyses used in the BA thesis. I am in the process of making this notebook tidier and more readable for others. "
   ]
  },
  {
   "cell_type": "code",
   "execution_count": 3,
   "id": "weird-meeting",
   "metadata": {},
   "outputs": [
    {
     "name": "stdout",
     "output_type": "stream",
     "text": [
      "Gay or Lesbian respondents (inclusive): 291\n",
      "Gay or Lesbian only respondents: 146\n",
      "50.2% of those who selected Gay or Lesbian selected ONLY this orientation\n",
      "\n",
      "Lesbian respondents (inclusive): 153\n",
      "Lesbian only respondents: 78\n",
      "51.0% of those who selected Lesbian selected ONLY this orientation\n",
      "\n",
      "Gay respondents (inclusive): 103\n",
      "Gay only respondents: 61\n",
      "59.2% of those who selected Gay selected ONLY this orientation\n",
      "\n",
      "Gay or Lesbian (nonbinary) respondents (inclusive): 35\n",
      "Gay or Lesbian (nonbinary) only respondents: 7\n",
      "20.0% of those who selected Gay or Lesbian (nonbinary) selected ONLY this orientation\n",
      "\n",
      "Bi+ respondents (inclusive): 304\n",
      "Bi+ only respondents: 101\n",
      "33.2% of those who selected Bi+ selected ONLY this orientation\n",
      "\n",
      "Queer respondents (inclusive): 280\n",
      "Queer only respondents: 31\n",
      "11.1% of those who selected Queer selected ONLY this orientation\n",
      "\n",
      "Fluid respondents (inclusive): 89\n",
      "Fluid only respondents: 8\n",
      "9.0% of those who selected Fluid selected ONLY this orientation\n",
      "\n",
      "Asexual and/or aromantic respondents (inclusive): 90\n",
      "Asexual and/or aromantic only respondents: 6\n",
      "6.7% of those who selected Asexual and/or aromantic selected ONLY this orientation\n",
      "\n",
      "Heterosexual respondents (inclusive): 31\n",
      "Heterosexual only respondents: 7\n",
      "22.6% of those who selected Heterosexual selected ONLY this orientation\n",
      "\n",
      "Questioning respondents (inclusive): 35\n",
      "Questioning only respondents: 2\n",
      "5.7% of those who selected Questioning selected ONLY this orientation\n",
      "\n",
      "NONE respondents (inclusive): 20\n",
      "NONE only respondents: 4\n",
      "20.0% of those who selected NONE selected ONLY this orientation\n",
      "\n"
     ]
    }
   ],
   "source": [
    "#Function used to create table 2 (p. 32)\n",
    "\n",
    "orientation_keys = {\n",
    "    \"LG\" : (LG_plus, LG_only, \"Gay or Lesbian\"),\n",
    "    \"L\" : (lesbian, only_lesbian, \"Lesbian\"),\n",
    "    \"G\" : (gay, only_gay, \"Gay\"),\n",
    "    \"NBLG\" : (nb_lg, only_nb_lg, \"Gay or Lesbian (nonbinary)\"),\n",
    "    \"Bi\" : (bi_plus, bi_only, \"Bi+\"),\n",
    "    \"Q\" : (q_plus, q_only, \"Queer\"),\n",
    "    \"Fluid\" : (fluid_plus, fluid_only, \"Fluid\"),\n",
    "    \"Ace\" : (ace_plus, ace_only, \"Asexual and/or aromantic\"),\n",
    "    \"Het\" : (het_plus, het_only, \"Heterosexual\"),\n",
    "    \"Questioning\" : (questioning_plus, questioning_only, \"Questioning\"),\n",
    "    \"None\" : (none_plus, none_only, \"NONE\")\n",
    "}\n",
    "\n",
    "\n",
    "def print_group_info(key):\n",
    "    x_plus, x_only, x_label = orientation_keys[key]\n",
    "    \n",
    "    x_only_count = len(x_only)\n",
    "    x_plus_count = len(x_plus)\n",
    "        \n",
    "    x_only_frac = x_only_count/x_plus_count\n",
    "    print(x_label, \"respondents (inclusive):\", len(x_plus))\n",
    "    print(x_label, \"only respondents:\", len(x_only))\n",
    "    print (f\"{x_only_frac:.1%} of those who selected\", x_label, \"selected ONLY this orientation\")\n",
    "    \n",
    "\n",
    "for key in orientation_keys.keys():\n",
    "    print_group_info(key)\n",
    "    print()"
   ]
  },
  {
   "cell_type": "code",
   "execution_count": null,
   "id": "important-knitting",
   "metadata": {},
   "outputs": [],
   "source": []
  }
 ],
 "metadata": {
  "kernelspec": {
   "display_name": "Python 3",
   "language": "python",
   "name": "python3"
  },
  "language_info": {
   "codemirror_mode": {
    "name": "ipython",
    "version": 3
   },
   "file_extension": ".py",
   "mimetype": "text/x-python",
   "name": "python",
   "nbconvert_exporter": "python",
   "pygments_lexer": "ipython3",
   "version": "3.9.1"
  }
 },
 "nbformat": 4,
 "nbformat_minor": 5
}
