{
 "cells": [
  {
   "cell_type": "code",
   "execution_count": 4,
   "id": "legislative-housing",
   "metadata": {},
   "outputs": [],
   "source": [
    "%%capture\n",
    "%run shared.ipynb\n",
    "\n",
    "import matplotlib\n",
    "from matplotlib import figure\n",
    "from IPython.display import Markdown\n",
    "matplotlib.rc('xtick', labelsize=18) \n",
    "matplotlib.rc('ytick', labelsize=15) \n",
    "plt.rcParams['legend.title_fontsize'] = 'x-large'\n",
    "plt.rc('axes', grid=False)\n",
    "plt.rc('axes', titlesize=20) \n",
    "plt.rc('axes', labelsize=18)\n",
    "plt.rc('figure', figsize=(12,12))\n",
    "matplotlib.rcParams['figure.dpi'] = 100"
   ]
  },
  {
   "cell_type": "markdown",
   "id": "experienced-poverty",
   "metadata": {},
   "source": [
    "# Responses to Likert-scale questions"
   ]
  },
  {
   "cell_type": "markdown",
   "id": "invalid-twist",
   "metadata": {},
   "source": [
    "## Interaktiv Nr. 2 (kommer snart) | Interactive No. 2 (coming soon): "
   ]
  },
  {
   "cell_type": "markdown",
   "id": "lightweight-bumper",
   "metadata": {},
   "source": [
    "Velg et utvalg/gruppering av respondentene fra rullegardinmenyen til venste og et spørsmål fra lista til høyre for å få opp en stablet histogram med en sammenligning av responsene\n",
    "\n",
    "NB: Om en gruppe markeres med * i figurene under, er antall respondenter i gruppen <20"
   ]
  },
  {
   "cell_type": "code",
   "execution_count": 5,
   "id": "bacterial-floor",
   "metadata": {},
   "outputs": [],
   "source": [
    "    all_groups = {\n",
    "\n",
    "        \"Heterofile cis-, LHBQA+ cis-, og transrespondenter (inkl. ikke-binære)\" : chcsts,\n",
    "        \"Heterofile cis- og alle LHBTIQ+ respondenter\" : overall_groups,\n",
    "        \"LHBQA+ cis- og transrespondenter (inkl. ikke-binære & søkende)\" : overall_queer_groups,\n",
    "        \"Heterofile cis- og alle LHBTIQ+ respondenter med og uten andre marginaliserte identiteter\" : intersectional_groups,\n",
    "        \"Alle LHBTIQ+ respondenter\" : all_LGBTQIA,\n",
    "        \"Alle LHBTIQ+ (inndelt etter synlighet)\" : synlighet,\n",
    "        \"Alle brukere sammenlignet med alle ikke-brukere\" : overall_bruk_groups,\n",
    "        \"Alle LHBTIQ+ ikke-brukere\" : queer_non_users,\n",
    "        \"alle LHBTIQ+ respondenter inndelt etter hvor stor rolle skeive identiteten spiller\" : Skeiv_ID,\n",
    "        \"Alle LHBTIQ+ respondenter inndelt etter kjønnsidentitet\" : gender_groups,\n",
    "        \"Brukere og bibliotekarer\" : bib_compare2,\n",
    "        \"Skeive og ikke-skeive bibliotekarer\" : bib_compare3,\n",
    "        \"Alle LHBTIQ+ respondenter (inndelt etter ciskjønnethet)\": cisness_groups,\n",
    "        \"LHBTIQ+ respondenter med marginaliserte kjønn \\n(identitet og/eller uttrykk)\" : gender_stuff_groups,\n",
    "        \"Alle LHBTIQ+ (inndelt etter alder)\" : s_age_groups, \n",
    "        \"Alle LHBTIQ+ (inndelt etter region)\" : s_region_groups,\n",
    "        \"Transrespondenter (inkl. ikke-binære) (inndelt etter region)\" : tnb_region_groups,\n",
    "        \"LHBQA+ cisrespondenter (inndelt etter region)\" : cis_region_groups,\n",
    "        \"Alle LHBTIQ+ respondenter inndelt etter bosettingsmønster \\n(Oslo / byregion / distriktsområde)\" : s_urban_groups,\n",
    "        \"Transrespondenter (inkl. ikke-binære) inndelt etter bosettingsmønster \\n(Oslo / byregion / distriktsområde)\" : tnb_urban_groups,\n",
    "        \"LHBQ+ cisrespondenter inndelt etter bosettingsmønster \\n(Oslo / byregion / distriktsområde)\" : cs_urban_groups,\n",
    "        \"Binære transpersoner, ikke-binære og søkende\" : bt_vs_ib,\n",
    "        \"Synlig trans\" : synlig_trans,\n",
    "        \"LHBTIQ+ respondenter inndelt etter kjønnsidentitet\" : gender_groups,\n",
    "        \"LHBTIQ+ respondenter inndelt etter bokstav i akronymet (overlappende grupper)\" : LGBTQIA_groups,\n",
    "        \"Cis-heterofile inndelt etter binær kjønn\" : ch_gender,\n",
    "        \"Cis-heterofile inndelt etter alder\" : ch_age_groups,\n",
    "        \"Cis-heterofile inndelt etter region\" : ch_region_groups,\n",
    "        \"Cis-heterofile inndelt etter bosettingsmønster (Oslo / byregion / distriktsområde)\" : ch_urban_groups,\n",
    "    }\n",
    "\n",
    "    \n",
    "    gen_comparison_groups = {\n",
    "        \"Hetero-cis, LHBQA+ cis, og trans respondenter (inkl. ikke-binære)\" : chcsts,\n",
    "        \"Hetero-cis og alle LHBTIQ+ respondenter\" : overall_groups,\n",
    "        \"Hetero-cis og LHBQA+ cis, og trans respondenter med og uten andre marginaliserte identiteter\" : intersectional_groups,\n",
    "    }\n",
    "    \n",
    "    s_internal_comparison_groups = {\n",
    "        \"LHBTIQ+ respondenter inndelt etter bokstav i akronymet (overlappende grupper)\" : LGBTQIA_groups,\n",
    "        \"LHBQA+ respondenter inndelt etter orientering (inkl. trans personer)\" : LGBQAplus_groups,\n",
    "        \"LHBQA+ respondenter inndelt etter orientering (kun cis personer)\" : cis_LGBQA_groups,\n",
    "        \"LHBQA+ respondenter inndelt etter orientering (kun trans personer)\" : tnb_LGBQA_groups,\n",
    "        \"Alle LHBTIQ+ respondenter inndelt etter kjønnsidentitet\" : gender_groups,\n",
    "        \"LHBTIQ+ respondenter med marginaliserte kjønn \\n(identitet og/eller uttrykk)\" : gender_stuff_groups,\n",
    "        \"Alle LHBTIQ+ respondenter inndelt etter alder\" : s_age_groups, \n",
    "        \"Alle LHBTIQ+ respondenter inndelt etter region\" : s_region_groups,\n",
    "        \"Alle LHBTIQ+ respondenter inndelt etter bosettingsmønster \\n(Oslo / byregion / distriktsområde)\" : s_urban_groups,\n",
    "    }\n",
    "    \n",
    "    ch_internal_comparison_groups = {\n",
    "        \"Cis-heterofile inndelt etter binær kjønn\" : ch_gender,\n",
    "        \"Cis-heterofile inndelt etter alder\" : ch_age_groups,\n",
    "        \"Cis-heterofile inndelt etter region\" : ch_region_groups,\n",
    "        \"Cis-heterofile inndelt etter bosettingsmønster (Oslo / byregion / distriktsområde)\" : ch_urban_groups,\n",
    "    }\n",
    "    \n",
    "    \n",
    "    comparison_groups_dict = {\n",
    "        \"Sammenligne LHBTIQ+ og hetero-cis respondenter\" : gen_comparison_groups,\n",
    "        \"Sammenligne LHBTIQ+ respondenter inndelte etter ulike faktorer\" : s_internal_comparison_groups,\n",
    "        \"Sammenligne hetero-cis respondenter inndelte etter ulike faktorer\" : ch_internal_comparison_groups\n",
    "    }\n",
    "    \n",
    "\n",
    "    \n",
    "    \n",
    "    oppgave_dict = {\n",
    "        'Enighet i påstanden: \"Generelt sett, anser jeg folkebibliotek i Norge som trygge rom \\n(engelsk: ‘safe spaces’) for skeive/LHBTIQ+ og søkende personer\"' : 'Trygge_rom_gen_all',\n",
    "        'Enighet i påstanden: \"Jeg har noen ganger følt det ubehagelig eller utrygt å stille spørsmål \\nom skeive materialer på biblioteket, selv om jeg behøvde eller ville ha hjelp\"' : \"Utrygt_stille_spm\",\n",
    "        'Enighet i påstanden: \"Noen ganger lurer jeg på eller bekymrer meg for hvordan \\n[min skeive/LHBTIQ+ identitet kan påvirke hvordan]* jeg blir møtt av bibliotekansatte\"' : 'Minoritetsstress_ansatte',\n",
    "        'Enighet i påstanden: \"Jeg tror at bibliotekansatte ved mitt folkebibliotek prøver \\nsitt beste for å være inkluderende og LHBTIQ+-vennlige\"' : 'Lhbtiq_vennlig',\n",
    "        'Enighet i påstanden: \"Jeg ser rom for forbedring i hvordan bibliotekansatte møter skeive/LHBTIQ+ brukere\"' : 'Rom_for_forbedring',\n",
    "        'Enighet i påstanden: \"Jeg føler meg alltid velkommen og trygg på folkebiblioteket\"' : \"Alltid_velkommen\",\n",
    "        'Enighet i påstanden: \"Jeg føler at jeg alltid kan være helt meg selv på biblioteket\"' : \"Helt_meg_selv\",\n",
    "        'Enighet i påstanden: \"Min skeive/LHBTIQ+ identitet spiller ingen rolle for \\nhvor velkommen eller trygg jeg føler meg på biblioteket\"' : 'Ingen_rolle',\n",
    "        'Enighet i påstanden: \"Noen ganger lurer jeg på om eller bekymrer jeg meg for at andre \\ndømmer meg når jeg ser på, blar i eller låner [skeive]* materialer\"' : 'Minoritetsstress_brukere',\n",
    "        'Enighet i påstanden: \"Det er hovedsakelig andre brukere (mer en de ansatte eller det fysiske \\nrommet) som påvirker hvor trygt eller utrygt jeg føler meg på biblioteket\"' : 'Andre_brukere',\n",
    "        'Hvor ofte har du følgende opplevelse? \\n\"Jeg føler det utrygt eller ubehagelig på biblioteket \\n[av grunner knyttet til min skeive/LHBTIQ+ identitet]*\"' : 'utrygt',\n",
    "        'Hvor ofte har du følgende opplevelse? \\n\"Jeg opplever at bibliotekansatte møter meg med respekt og aksept\"' : 'm_med_respekt',\n",
    "    }\n",
    "\n",
    "    rep_access_dict = {\n",
    "        \"Jeg har aldri tenkt på å bruke biblioteket for å finne skeive materialer\" : 'Aldri_tenkt',\n",
    "        \"Biblioteket pleier å ha det jeg er ute etter når jeg søker etter skeive materialer\" : 'Bib_pleier_ha',\n",
    "        \"Generelt sett, er det viktig for meg å se meg selv og min \\n[skeive/LHBTIQ+]* identitet gjenspeilet i bøker og andre medier\" : \"Rep_matters_all\",\n",
    "        \"Biblioteket har ingenting å tilby meg som skeiv/LHBTIQ+/søkende person\" : 'Ingenting_tilby',\n",
    "        \"Det er lett for meg å finne et godt utvalg av skjønnlitteratur eller andre medier på biblioteket \\nmed hovedpersoner som har samme kjønnsidentitet som meg\" : 'Utvalg_KID',\n",
    "        \"Det er lett for meg å finne et godt utvalg av skjønnlitteratur eller andre medier på biblioteket \\nmed hovedpersoner som har samme seksuell eller romantisk orientering som meg\" : 'Utvalg_Orientering',\n",
    "        \"Det er lett for meg å finne et godt utvalg av skjønnlitteratur eller andre medier på biblioteket \\nmed hovedpersoner som har samme interkjønnsvariasjon som jeg har\" : 'Utvalg_Intersex',\n",
    "        \"Det er lett for meg å finne skeive materialer på bibliotek der skeive karakterer får en lykkelig slutt, \\neller der skeive historier ikke nødvendigvis ender i tragedie\" : 'Utvalg_lykkelig',\n",
    "    }\n",
    "\n",
    "    all_enighet_columns_dict = {\n",
    "\n",
    "        \"Generelt sett, er det viktig for meg å se meg selv og min \\n[skeive/LHBTIQ+]* identitet gjenspeilet i bøker og andre medier\" : \"Rep_matters_all\",\n",
    "        \"Jeg føler meg alltid velkommen og trygg på folkebiblioteket\" : \"Alltid_velkommen\",\n",
    "        \"Jeg føler at jeg alltid kan være helt meg selv på biblioteket\" : \"Helt_meg_selv\",\n",
    "\n",
    "        \"Generelt sett, anser jeg folkebibliotek i Norge som trygge rom \\n(engelsk: ‘safe spaces’) for skeive/LHBTIQ+ og søkende personer\" : 'Trygge_rom_gen_all',\n",
    "        \"Noen ganger lurer jeg på eller bekymrer meg for [hvordan min \\nskeive/LHBTIQ+ identitet kan påvirke]* hvordan jeg blir møtt av bibliotekansatte\" : 'Minoritetsstress_ansatte',\n",
    "        \"Noen ganger lurer jeg på om eller bekymrer jeg meg for at andre \\ndømmer meg når jeg ser på, blar i eller låner [skeive]* materialer\" : 'Minoritetsstress_brukere',\n",
    "\n",
    "        \"Utstilling med skeive materialer for voksne\" : 'UV',\n",
    "        \"Utstilling med skeive materialer for barn og ungdom\" : 'UBU',\n",
    "        \"Skeive materialer inkludert i utstilling om andre temaer\" : 'Andre_temaer',\n",
    "        \"Arrangementer spesifikt rettet mot skeive brukere\" : 'Arr',\n",
    "\n",
    "        \"Min skeive/LHBTIQ+-identitet er en stor del av hvem jeg er\" : \"Skeiv_ID\",\n",
    "        \"Jeg har noen ganger følt det ubehagelig eller utrygt å stille spørsmål om skeive materialer på biblioteket, selv om jeg behøvde eller ville ha hjelp\" : \"Utrygt_stille_spm\",\n",
    "        \"Det er lett for meg å finne et godt utvalg av skjønnlitteratur eller andre medier på biblioteket med hovedpersoner som har *samme kjønnsidentitet* som meg\" : 'Utvalg_KID',\n",
    "        \"Det er lett for meg å finne et godt utvalg av skjønnlitteratur eller andre medier på biblioteket med hovedpersoner som har *samme seksuell eller romantisk orientering* som meg\" : 'Utvalg_Orientering',\n",
    "        \"Det er lett for meg å finne et godt utvalg av skjønnlitteratur eller andre medier på biblioteket med hovedpersoner som har *samme interkjønnsvariasjon* som jeg har\" : 'Utvalg_Intersex',\n",
    "        \"Det er lett for meg å finne skeive materialer på bibliotek der skeive karakterer får en lykkelig slutt, eller der skeive historier ikke nødvendigvis ender i tragedie\" : 'Utvalg_lykkelig',\n",
    "        \"Det er lett for meg å finne relevant og oppdatert informasjon knyttet til min skeive/ LHBTIQ+ identitet i bibliotekets samling av faglitteratur\" : 'Utvalg_fag',\n",
    "        \"Jeg har aldri tenkt på å bruke biblioteket for å finne skeive materialer\" : 'Aldri_tenkt',\n",
    "        \"Biblioteket pleier å ha det jeg er ute etter når jeg søker for skeive materialer\" : 'Bib_pleier_ha',\n",
    "\n",
    "        \"Generelt sett, anser jeg folkebibliotek i Norge som trygge rom \\n(engelsk: ‘safe spaces’) for skeive/LHBTIQ+ og søkende personer\" : 'Trygge_rom_gen_all',\n",
    "        \"Min skeive/LHBTIQ+ identitet spiller ingen rolle for hvor velkommen eller trygg jeg føler meg på biblioteket\" : 'Ingen_rolle',\n",
    "        \"Biblioteket har ingenting å tilby meg som skeiv/LHBTIQ+/søkende person\" : 'Ingenting_tilby',\n",
    "        \"Jeg mener det er bibliotekansattes ansvar å sørge for at bibliotekets samling og tilbud av arrangementer dekker den skeive/LHBTIQ+ befolkningens behov og interesser\" : 'Bibs_ansvar',\n",
    "        \"Noen ganger lurer jeg på eller bekymrer meg for hvordan min skeive/LHBTIQ+ identitet kan påvirke hvordan jeg blir møtt av bibliotekansatte\" : 'Minoritetsstress_ansatte',\n",
    "        \"Noen ganger lurer jeg på om eller bekymrer jeg meg for at andre dømmer meg når jeg ser på, blar i eller låner skeive materialer\" : 'Minoritetsstress_brukere',\n",
    "        \"Jeg tror at bibliotekansatte ved mitt folkebibliotek prøver sitt beste for å være inkluderende og LHBTIQ+-vennlige\" : 'Lhbtiq_vennlig',\n",
    "        \"Jeg ser rom for forbedring i hvordan bibliotekansatte møter skeive/LHBTIQ+ brukere\" : 'Rom_for_forbedring',\n",
    "        \"Det er hovedsakelig andre brukere (mer en de ansatte eller det fysiske rommet) som påvirker hvor trygt eller utrygt jeg føler meg på biblioteket\" : 'Andre_brukere',\n",
    "\n",
    "        \"Jeg bruker ikke folkebibliotek fordi at jeg ikke føler meg velkommen der som en skeiv/LHBTIQ+ person\" : 'Ikke_velkommen',\n",
    "        \"Grunnen(e) til at jeg ikke besøker biblioteket har ingenting med min skeive/LHBTIQ+ identitet å gjøre\" : 'Ingen_rolle_IB',\n",
    "        \"Jeg ville brukt biblioteket om jeg var sikker på at det ville være et trygt rom for meg som skeiv/LHBTIQ+ person\" : 'Trygge_rom_pers_IB',\n",
    "        \"Generelt sett, anser jeg folkebibliotek i Norge som trygge rom (engelsk: safe spaces) for skeive/LHBTIQ+ personer\" : 'Trygge_rom_gen_IB',\n",
    "        \"Jeg ville brukt folkebiblioteket om jeg visste at det hadde et godt utvalg av skeive materialer\" : 'Godt_utvalg',\n",
    "        \"Jeg leser/ser på en god del skeive materialer, bare ikke på biblioteket\" : 'Skeiv_medieforbruk_pos',\n",
    "        \"Jeg er ikke så interessert i å lese eller se på skeive materialer\" : 'Skeiv_medieforbruk_neg',\n",
    "\n",
    "        'Jeg er interessert i å lese bøker om skeive/LHBTIQ+-karakterer' : 'Jeg er interessert i å lese bøker om skeive/LHBTIQ+-karakterer',\n",
    "    }\n",
    "\n",
    "    \n",
    "    \n",
    "    \n",
    "    sorting_dict = {\n",
    "        'Sorter etter sterk enighet (synkende rekkefølge)' : 'se_descending',\n",
    "        'Sorter etter samlet enighet (litt + svært enig, synkende rekkefølge)' : 'ce_descending',\n",
    "        'Sorter etter sterk uenighet (synkende rekkefølge)' : 'su_descending',\n",
    "        'Sorter etter samlet uenighet (synkende rekkefølge)' : 'cu_descending',\n",
    "    }"
   ]
  },
  {
   "cell_type": "code",
   "execution_count": 10,
   "id": "capable-attendance",
   "metadata": {
    "tags": []
   },
   "outputs": [
    {
     "data": {
      "application/vnd.jupyter.widget-view+json": {
       "model_id": "216cf5861f2042c68b601fd2e4154d67",
       "version_major": 2,
       "version_minor": 0
      },
      "text/plain": [
       "VBox(children=(Dropdown(layout=Layout(width='100%'), options={'Enighet i påstanden: \"Generelt sett, anser jeg …"
      ]
     },
     "metadata": {},
     "output_type": "display_data"
    },
    {
     "data": {
      "application/vnd.jupyter.widget-view+json": {
       "model_id": "82291ed90e02470ba4034d88899d44d6",
       "version_major": 2,
       "version_minor": 0
      },
      "text/plain": [
       "Output(layout=Layout(height='800px'))"
      ]
     },
     "metadata": {},
     "output_type": "display_data"
    }
   ],
   "source": [
    "    from IPython.display import Markdown\n",
    "    import string\n",
    "\n",
    "    safe_chars = string.ascii_letters + \".- åæø\"\n",
    "\n",
    "    import os\n",
    "\n",
    "    os.makedirs(\"figs\", exist_ok=True)\n",
    "\n",
    "\n",
    "    def strip_safe(s):\n",
    "        return \"\".join(c for c in s if c in safe_chars)\n",
    "\n",
    "\n",
    "\n",
    "    def new_interactive(enighet_columns_dict, comparison_groups_dict):\n",
    "\n",
    "        question_dropdown = widgets.Dropdown(options=enighet_columns_dict)\n",
    "        group_dropdown = widgets.Dropdown(options=comparison_groups_dict.keys())\n",
    "        group_dropdown.layout.width = \"100%\"\n",
    "        question_dropdown.layout.width = \"100%\"\n",
    "\n",
    "        select_sorting = widgets.Dropdown(options=sorting_dict.keys())\n",
    "        select_sorting.layout.width = \"100%\"\n",
    "\n",
    "        save_button = widgets.Button(description=\"save\")\n",
    "        fig = None\n",
    "\n",
    "        def save(_):\n",
    "            with out:\n",
    "                column = question_dropdown.value\n",
    "                group_name = group_dropdown.value\n",
    "                sorting = sorting_dict[select_sorting.value]\n",
    "                n = len(os.listdir('figs'))\n",
    "                fname = f\"figs/{n:03}.{column}.{strip_safe(group_name)}.{sorting}.png\"\n",
    "\n",
    "                print(\"saving\", fname)\n",
    "                fig.set_facecolor(\"white\")\n",
    "                #             fig.get_axes()[0].set_facecolor(\"white\")\n",
    "                fig.savefig(fname, bbox_inches=\"tight\", transparent=False)\n",
    "\n",
    "        save_button.on_click(save)\n",
    "\n",
    "        def select_groups(change=None):\n",
    "            column = question_dropdown.value\n",
    "            matching_groups = []\n",
    "            for group_name, group_dict in comparison_groups_dict.items():\n",
    "                if not any(\n",
    "                    len(sub_group[column].dropna()) == 0\n",
    "                    for sub_group in group_dict.values()\n",
    "                ):\n",
    "                    matching_groups.append(group_name)\n",
    "            group_dropdown.options = matching_groups\n",
    "\n",
    "        select_groups()\n",
    "        question_dropdown.observe(select_groups, \"value\")\n",
    "\n",
    "        gui_in_visual_basic = widgets.VBox(\n",
    "            [question_dropdown, group_dropdown, select_sorting, save_button]\n",
    "        )\n",
    "\n",
    "        def function(pickone, column, sort):\n",
    "            groups = comparison_groups_dict[pickone]\n",
    "            sort = sorting_dict[sort]\n",
    "            for group_name, group_df in groups.items():\n",
    "                if len(group_df.dropna(subset=[column], axis=0)) == 0:\n",
    "                    display(\n",
    "                        Markdown(\n",
    "                            f\"## Ingen data tilgjengelig (noen spørsmål ble ikke besvart av alle grupper)\"\n",
    "                        )\n",
    "                    )\n",
    "                    return\n",
    "            enighet(\n",
    "                groups, column, title=f\"\\n{question_dropdown.label} \\n\", group_order=sort\n",
    "            )\n",
    "            nonlocal fig\n",
    "            fig = plt.gcf()\n",
    "            plt.show()\n",
    "\n",
    "        #         if len(groups.items())>=3:\n",
    "        #             result = kruskal_wallis(groups, column)\n",
    "        #             display(result)\n",
    "        #         #put this in after H if you want to display H statistic {h:.1f}\n",
    "        #         else:\n",
    "        #             result = brunnermunzel_test(groups, column)\n",
    "        #             display(result)\n",
    "\n",
    "        out = widgets.interactive_output(\n",
    "            function,\n",
    "            {\n",
    "                \"column\": question_dropdown,\n",
    "                \"pickone\": group_dropdown,\n",
    "                \"sort\": select_sorting,\n",
    "            },\n",
    "        )\n",
    "        out.layout.height = \"800px\"\n",
    "        display(gui_in_visual_basic, out)\n",
    "\n",
    "#For different options of questions & groups, replace function arguments with:\n",
    "# oppgave_dict or rep_access_dict, \n",
    "# gen_comparison_groups or s_internal_comparison_groups or ch_internal_comparison_groups\n",
    "\n",
    "new_interactive(oppgave_dict, gen_comparison_groups)"
   ]
  },
  {
   "cell_type": "code",
   "execution_count": 7,
   "id": "intense-knife",
   "metadata": {},
   "outputs": [
    {
     "data": {
      "application/vnd.jupyter.widget-view+json": {
       "model_id": "c343bc80cb954384af10cb798e9c3af2",
       "version_major": 2,
       "version_minor": 0
      },
      "text/plain": [
       "Dropdown(layout=Layout(width='500px'), options=('Hetero-cis, LHBQA+ cis, og trans respondenter (inkl. ikke-bin…"
      ]
     },
     "metadata": {},
     "output_type": "display_data"
    },
    {
     "data": {
      "application/vnd.jupyter.widget-view+json": {
       "model_id": "6fb84f7be26740fe8e27619dbeca883a",
       "version_major": 2,
       "version_minor": 0
      },
      "text/plain": [
       "Output(layout=Layout(height='700px'))"
      ]
     },
     "metadata": {},
     "output_type": "display_data"
    }
   ],
   "source": [
    "dropdown=widgets.Dropdown(options=gen_comparison_groups.keys())\n",
    "dropdown.layout.width='500px'\n",
    "def function(pickone):\n",
    "    groups=gen_comparison_groups[pickone]\n",
    "    plot_group_tilfredshet(groups, plot_all=False, normalize=True)\n",
    "    plt.title('\"Alt i alt, i hvor stor grad tilfredsstiller tjenestene og tilbudet ved folkebiblioteket du bruker oftest \\n(inkl. samlingen, retningslinjer, arrangementer m.m.) dine behov og ønsker som [skeiv/LHBTIQ+] bibliotekbruker?\" \\n')\n",
    "    plt.savefig(\"Fig 1.pdf\", bbox_inches=\"tight\")\n",
    "    plt.show()\n",
    "\n",
    "out = widgets.interactive_output(function, {\"pickone\":dropdown})\n",
    "out.layout.height = '700px'\n",
    "display(dropdown, out)\n",
    "#AskMin for help getting this one to have the (N =) on the group names"
   ]
  },
  {
   "cell_type": "code",
   "execution_count": 8,
   "id": "crucial-biography",
   "metadata": {},
   "outputs": [
    {
     "name": "stdout",
     "output_type": "stream",
     "text": [
      "Brunner-Munzel teststatistikk:9.232 \n",
      "p-verdi:0.0 \n",
      "CL effektstørrelse = G1: 0.329 / G2: 0.671  \n",
      "95% konfidensintervall: ±0.037 (lav = 0.635, høy = 0.708) \n",
      "frihetsgrad:490.6088434010728 \n"
     ]
    }
   ],
   "source": [
    "brunnermunzel_test(alle_skeive.Helt_meg_selv.dropna(), cis_heterofile.Helt_meg_selv.dropna(), ttype=0, alpha=.05)"
   ]
  },
  {
   "cell_type": "code",
   "execution_count": null,
   "id": "warming-holder",
   "metadata": {},
   "outputs": [],
   "source": []
  }
 ],
 "metadata": {
  "kernelspec": {
   "display_name": "Python 3",
   "language": "python",
   "name": "python3"
  },
  "language_info": {
   "codemirror_mode": {
    "name": "ipython",
    "version": 3
   },
   "file_extension": ".py",
   "mimetype": "text/x-python",
   "name": "python",
   "nbconvert_exporter": "python",
   "pygments_lexer": "ipython3",
   "version": "3.9.1"
  }
 },
 "nbformat": 4,
 "nbformat_minor": 5
}
