{
 "cells": [
  {
   "cell_type": "markdown",
   "id": "sixth-roman",
   "metadata": {
    "tags": []
   },
   "source": [
    "The purpose of this notebook is to delete the columns that included qualitative data (free text answers) from the dataset. \n",
    "\n",
    "The open sharing of qualitative data is a complex ethical question (Mauthner in Miller et al., 2012, ch. 10), and due to the potential for enough information in combination to be personally identifiying, even in an anonymous survey, I have chosen to remove the qualitative columns from the data set. Researchers who may be interested in working with the qualitative data referenced below may contact me directly at kira.delmar@gmail.com. \n",
    "\n",
    "The following is a list of the columns that were removed from the dataset and the topics they pertain to:\n",
    "\n",
    "```\n",
    "Closing comments (on the topic of the research): \n",
    "'Avrunding_B', \n",
    "'Avrunding_IB', \n",
    "\n",
    "Closing comments (on the survey itself):\n",
    "'Kommentarer_IB',\n",
    "'Kommentarer_B'\n",
    "\n",
    "Suggestions and examples related to the questions on hypothetical corrective measures:\n",
    "'Andre_forslag',\n",
    "'Presisering_hypotetiske',\n",
    "\n",
    "Questions on Rainbow shelves and why or why not respondents are in favor:\n",
    "'God_tid',\n",
    "'Regnbuehyller_B',\n",
    "'Regnbuehyller_IB',\n",
    "'Bib_regnbuehylle',\n",
    "'Meninger_regnbuehyller_B',\n",
    "'Meninger_regnbuehyller_IB',\n",
    "\n",
    "Book recommendations:\n",
    "'Anbefaling_B',\n",
    "'Anbefaling_IB',\n",
    "\n",
    "Questions on Deichman's handling of the right-wing extremist group Stopp Islamifisering av Norge (SIAN) & SIAN's use of the library space:\n",
    "'Kjenner_til_SIAN_B',\n",
    "'Kjenner_til_SIAN_IB',\n",
    "'Pavirket_oppfatning_B',\n",
    "'Pavirket_oppfatning_IB',\n",
    "'Forklare_SIAN_B_Ja',\n",
    "'Forklare_SIAN_IB_Ja',\n",
    "'Forklare_SIAN_B_U',\n",
    "'Forklare_SIAN_IB_U',\n",
    "\n",
    "Specific examples of negative or positive experiences with library staff or other library users:\n",
    "'Forklar_Ja',\n",
    "\n",
    "Specific examples of reasons why patrons have chosen another library due to their queer identities:\n",
    "'Valg_andre_bib_eks',\n",
    "\n",
    "```\n",
    "\n"
   ]
  },
  {
   "cell_type": "code",
   "execution_count": 17,
   "id": "announced-cooperative",
   "metadata": {},
   "outputs": [],
   "source": [
    "import pandas as pd\n",
    "\n",
    "#reading the csv files into the notebook\n",
    "raw_data_no = pd.read_csv('../thesis/survey-no.tsv', sep='\\t')\n",
    "raw_data_no.drop(columns=[\"Kommentarer_B\", \"Avrunding_B\", \"Kommentarer_IB\",  \"Avrunding_IB\",  'Andre_forslag',  'Presisering_hypotetiske',  'God_tid',  'Regnbuehyller_B',  'Regnbuehyller_IB',  'Bib_regnbuehylle',  'Meninger_regnbuehyller_B',  'Meninger_regnbuehyller_IB',  'Anbefaling_B',  'Anbefaling_IB',  'Kjenner_til_SIAN_B',  'Kjenner_til_SIAN_IB',  'Pavirket_oppfatning_B',  'Pavirket_oppfatning_IB',  'Forklare_SIAN_B_Ja',  'Forklare_SIAN_IB_Ja',  'Forklare_SIAN_B_U',  'Forklare_SIAN_IB_U', 'Forklar_Ja', 'Valg_andre_bib_eks',], inplace=True)\n",
    "raw_data_no.to_csv(\"survey-no.tsv\", sep='\\t')\n",
    "\n",
    "raw_data_en = pd.read_csv('../thesis/survey-en.tsv', sep='\\t')\n",
    "raw_data_en.drop(columns=[\"Kommentarer_B\", \"Avrunding_B\", \"Kommentarer_IB\",  \"Avrunding_IB\",  'Andre_forslag',  'Presisering_hypotetiske',  'God_tid',  'Regnbuehyller_B',  'Regnbuehyller_IB',  'Bib_regnbuehylle',  'Meninger_regnbuehyller_B',  'Meninger_regnbuehyller_IB',  'Anbefaling_B',  'Anbefaling_IB',  'Kjenner_til_SIAN_B',  'Kjenner_til_SIAN_IB',  'Pavirket_oppfatning_B',  'Pavirket_oppfatning_IB',  'Forklare_SIAN_B_Ja',  'Forklare_SIAN_IB_Ja',  'Forklare_SIAN_B_U',  'Forklare_SIAN_IB_U', 'Forklar_Ja', 'Valg_andre_bib_eks',], inplace=True)\n",
    "raw_data_en.to_csv(\"survey-en.tsv\", sep='\\t')\n",
    "\n",
    "raw_data_straight = pd.read_csv('../thesis/survey-straight.tsv', sep='\\t')\n",
    "raw_data_straight.drop(columns=[\"Avrunding_B\", \"Avrunding_IB\",], inplace=True)\n",
    "raw_data_straight.to_csv(\"survey-straight.tsv\", sep='\\t')\n",
    "\n",
    "raw_data_lib = pd.read_csv('../thesis/survey-lib.tsv', sep='\\t')\n",
    "raw_data_lib.to_csv(\"survey-lib.tsv\", sep='\\t')\n",
    "\n",
    "# raw data has html-encoded labels like 'LHBTIQ&#43;'\n",
    "\n"
   ]
  },
  {
   "cell_type": "code",
   "execution_count": null,
   "id": "useful-relation",
   "metadata": {},
   "outputs": [],
   "source": []
  }
 ],
 "metadata": {
  "kernelspec": {
   "display_name": "Python 3",
   "language": "python",
   "name": "python3"
  },
  "language_info": {
   "codemirror_mode": {
    "name": "ipython",
    "version": 3
   },
   "file_extension": ".py",
   "mimetype": "text/x-python",
   "name": "python",
   "nbconvert_exporter": "python",
   "pygments_lexer": "ipython3",
   "version": "3.9.1"
  }
 },
 "nbformat": 4,
 "nbformat_minor": 5
}
